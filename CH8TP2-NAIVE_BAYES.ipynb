{
 "cells": [
  {
   "cell_type": "markdown",
   "metadata": {
    "id": "hPm0rjF0xQFB"
   },
   "source": [
    "# **Prepare datasets**"
   ]
  },
  {
   "cell_type": "code",
   "execution_count": 2,
   "metadata": {
    "tags": []
   },
   "outputs": [],
   "source": [
    "import pandas as pd"
   ]
  },
  {
   "cell_type": "code",
   "execution_count": 12,
   "metadata": {
    "colab": {
     "base_uri": "https://localhost:8080/"
    },
    "executionInfo": {
     "elapsed": 881,
     "status": "ok",
     "timestamp": 1686576771747,
     "user": {
      "displayName": "Mochammad Revaldi Anggara",
      "userId": "16163102586825999806"
     },
     "user_tz": -420
    },
    "id": "IzLxzXemxc-I",
    "outputId": "b2c75bdc-7018-4f16-c767-e5a04aaa1958",
    "tags": []
   },
   "outputs": [
    {
     "name": "stderr",
     "output_type": "stream",
     "text": [
      "C:\\Users\\ASUS\\AppData\\Local\\Temp\\ipykernel_11844\\1981013973.py:6: FutureWarning: The frame.append method is deprecated and will be removed from pandas in a future version. Use pandas.concat instead.\n",
      "  df = df_train.append(df_valid, ignore_index=True)\n"
     ]
    }
   ],
   "source": [
    "import pandas as pd\n",
    "\n",
    "df_train = pd.read_csv('train.csv')\n",
    "df_valid = pd.read_csv('valid.csv')\n",
    "\n",
    "df = df_train.append(df_valid, ignore_index=True)"
   ]
  },
  {
   "cell_type": "code",
   "execution_count": 13,
   "metadata": {
    "colab": {
     "base_uri": "https://localhost:8080/"
    },
    "executionInfo": {
     "elapsed": 496,
     "status": "ok",
     "timestamp": 1686576778982,
     "user": {
      "displayName": "Mochammad Revaldi Anggara",
      "userId": "16163102586825999806"
     },
     "user_tz": -420
    },
    "id": "XYKwcqwxg388",
    "outputId": "e36e9989-cd41-495e-e2fa-cd88d8c03b4e",
    "tags": []
   },
   "outputs": [
    {
     "name": "stderr",
     "output_type": "stream",
     "text": [
      "C:\\Users\\ASUS\\AppData\\Local\\Temp\\ipykernel_11844\\959378454.py:3: FutureWarning: The frame.append method is deprecated and will be removed from pandas in a future version. Use pandas.concat instead.\n",
      "  df = df.append(df_test, ignore_index=True)\n"
     ]
    }
   ],
   "source": [
    "df_test = pd.read_csv('test.csv')\n",
    "\n",
    "df = df.append(df_test, ignore_index=True)"
   ]
  },
  {
   "cell_type": "markdown",
   "metadata": {
    "id": "gxDAmIdSQ5nm"
   },
   "source": [
    "Kita cek isi datasetnya dan di dalamnya terdapat 1000 data. Terdiri dari:\n",
    "\n",
    "\n",
    "*   Positive: 378\n",
    "*   Neutral: 239\n",
    "*   Negative: 383\n",
    "\n"
   ]
  },
  {
   "cell_type": "code",
   "execution_count": 14,
   "metadata": {
    "colab": {
     "base_uri": "https://localhost:8080/",
     "height": 206
    },
    "executionInfo": {
     "elapsed": 6,
     "status": "ok",
     "timestamp": 1686576782056,
     "user": {
      "displayName": "Mochammad Revaldi Anggara",
      "userId": "16163102586825999806"
     },
     "user_tz": -420
    },
    "id": "3wLOPf8RRAjh",
    "outputId": "d7417474-5818-4241-cb28-b876c87f0d1d",
    "tags": []
   },
   "outputs": [
    {
     "data": {
      "text/html": [
       "<div>\n",
       "<style scoped>\n",
       "    .dataframe tbody tr th:only-of-type {\n",
       "        vertical-align: middle;\n",
       "    }\n",
       "\n",
       "    .dataframe tbody tr th {\n",
       "        vertical-align: top;\n",
       "    }\n",
       "\n",
       "    .dataframe thead th {\n",
       "        text-align: right;\n",
       "    }\n",
       "</style>\n",
       "<table border=\"1\" class=\"dataframe\">\n",
       "  <thead>\n",
       "    <tr style=\"text-align: right;\">\n",
       "      <th></th>\n",
       "      <th>id</th>\n",
       "      <th>text</th>\n",
       "      <th>label</th>\n",
       "    </tr>\n",
       "  </thead>\n",
       "  <tbody>\n",
       "    <tr>\n",
       "      <th>0</th>\n",
       "      <td>219</td>\n",
       "      <td>Nikmati cicilan 0% hingga 12 bulan untuk pemes...</td>\n",
       "      <td>neutral</td>\n",
       "    </tr>\n",
       "    <tr>\n",
       "      <th>1</th>\n",
       "      <td>209</td>\n",
       "      <td>Kue-kue yang disajikan bikin saya bernostalgia...</td>\n",
       "      <td>positive</td>\n",
       "    </tr>\n",
       "    <tr>\n",
       "      <th>2</th>\n",
       "      <td>436</td>\n",
       "      <td>Ibu pernah bekerja di grab indonesia</td>\n",
       "      <td>neutral</td>\n",
       "    </tr>\n",
       "    <tr>\n",
       "      <th>3</th>\n",
       "      <td>394</td>\n",
       "      <td>Paling suka banget makan siang di sini ayam sa...</td>\n",
       "      <td>positive</td>\n",
       "    </tr>\n",
       "    <tr>\n",
       "      <th>4</th>\n",
       "      <td>592</td>\n",
       "      <td>Pelayanan bus DAMRI sangat baik</td>\n",
       "      <td>positive</td>\n",
       "    </tr>\n",
       "  </tbody>\n",
       "</table>\n",
       "</div>"
      ],
      "text/plain": [
       "    id                                               text     label\n",
       "0  219  Nikmati cicilan 0% hingga 12 bulan untuk pemes...   neutral\n",
       "1  209  Kue-kue yang disajikan bikin saya bernostalgia...  positive\n",
       "2  436               Ibu pernah bekerja di grab indonesia   neutral\n",
       "3  394  Paling suka banget makan siang di sini ayam sa...  positive\n",
       "4  592                    Pelayanan bus DAMRI sangat baik  positive"
      ]
     },
     "execution_count": 14,
     "metadata": {},
     "output_type": "execute_result"
    }
   ],
   "source": [
    "df.head()"
   ]
  },
  {
   "cell_type": "code",
   "execution_count": 16,
   "metadata": {
    "colab": {
     "base_uri": "https://localhost:8080/"
    },
    "executionInfo": {
     "elapsed": 3,
     "status": "ok",
     "timestamp": 1686576782509,
     "user": {
      "displayName": "Mochammad Revaldi Anggara",
      "userId": "16163102586825999806"
     },
     "user_tz": -420
    },
    "id": "ARQHu9L6RKz_",
    "outputId": "f278bb72-3478-4085-84e6-5d432309fa90",
    "tags": []
   },
   "outputs": [
    {
     "data": {
      "text/plain": [
       "(1000, 3)"
      ]
     },
     "execution_count": 16,
     "metadata": {},
     "output_type": "execute_result"
    }
   ],
   "source": [
    "df.shape"
   ]
  },
  {
   "cell_type": "code",
   "execution_count": 6,
   "metadata": {
    "colab": {
     "base_uri": "https://localhost:8080/"
    },
    "executionInfo": {
     "elapsed": 2,
     "status": "ok",
     "timestamp": 1686576783756,
     "user": {
      "displayName": "Mochammad Revaldi Anggara",
      "userId": "16163102586825999806"
     },
     "user_tz": -420
    },
    "id": "_By_KBwtRPrv",
    "outputId": "4daac204-5c61-448d-e2c4-53f4d19c7f2e"
   },
   "outputs": [
    {
     "data": {
      "text/plain": [
       "negative    383\n",
       "positive    378\n",
       "neutral     239\n",
       "Name: label, dtype: int64"
      ]
     },
     "execution_count": 6,
     "metadata": {},
     "output_type": "execute_result"
    }
   ],
   "source": [
    "df.label.value_counts()"
   ]
  },
  {
   "cell_type": "markdown",
   "metadata": {
    "id": "Dy3Lua2pyp3N"
   },
   "source": [
    "# **Text Normalization/Cleansing**"
   ]
  },
  {
   "cell_type": "markdown",
   "metadata": {
    "id": "qXjS23gEUhR6"
   },
   "source": [
    "Lalu kita lakukan cleansing sebagai berikut"
   ]
  },
  {
   "cell_type": "code",
   "execution_count": 17,
   "metadata": {
    "executionInfo": {
     "elapsed": 3,
     "status": "ok",
     "timestamp": 1686576786785,
     "user": {
      "displayName": "Mochammad Revaldi Anggara",
      "userId": "16163102586825999806"
     },
     "user_tz": -420
    },
    "id": "v2EFU1P4ytFv",
    "tags": []
   },
   "outputs": [],
   "source": [
    "import re \n",
    "\n",
    "def cleansing(sent):\n",
    "    # Mengubah kata menjadi huruf kecil semua dengan menggunakan fungsi lower()\n",
    "    string = sent.lower()\n",
    "    # Menghapus emoticon dan tanda baca menggunakan \"RegEx\" dengan script di bawah\n",
    "    string = re.sub(r'[^a-zA-Z0-9]', ' ', string)\n",
    "    return string"
   ]
  },
  {
   "cell_type": "code",
   "execution_count": 18,
   "metadata": {
    "executionInfo": {
     "elapsed": 4,
     "status": "ok",
     "timestamp": 1686576787203,
     "user": {
      "displayName": "Mochammad Revaldi Anggara",
      "userId": "16163102586825999806"
     },
     "user_tz": -420
    },
    "id": "5gtPOjJ0ovcs",
    "tags": []
   },
   "outputs": [],
   "source": [
    "df['text_clean'] = df.text.apply(cleansing)"
   ]
  },
  {
   "cell_type": "code",
   "execution_count": 19,
   "metadata": {
    "colab": {
     "base_uri": "https://localhost:8080/",
     "height": 206
    },
    "executionInfo": {
     "elapsed": 4,
     "status": "ok",
     "timestamp": 1686576787203,
     "user": {
      "displayName": "Mochammad Revaldi Anggara",
      "userId": "16163102586825999806"
     },
     "user_tz": -420
    },
    "id": "ClcT5e5ylV_D",
    "outputId": "800d6fa8-8188-424e-da47-cf29855f1a8e",
    "tags": []
   },
   "outputs": [
    {
     "data": {
      "text/html": [
       "<div>\n",
       "<style scoped>\n",
       "    .dataframe tbody tr th:only-of-type {\n",
       "        vertical-align: middle;\n",
       "    }\n",
       "\n",
       "    .dataframe tbody tr th {\n",
       "        vertical-align: top;\n",
       "    }\n",
       "\n",
       "    .dataframe thead th {\n",
       "        text-align: right;\n",
       "    }\n",
       "</style>\n",
       "<table border=\"1\" class=\"dataframe\">\n",
       "  <thead>\n",
       "    <tr style=\"text-align: right;\">\n",
       "      <th></th>\n",
       "      <th>id</th>\n",
       "      <th>text</th>\n",
       "      <th>label</th>\n",
       "      <th>text_clean</th>\n",
       "    </tr>\n",
       "  </thead>\n",
       "  <tbody>\n",
       "    <tr>\n",
       "      <th>0</th>\n",
       "      <td>219</td>\n",
       "      <td>Nikmati cicilan 0% hingga 12 bulan untuk pemes...</td>\n",
       "      <td>neutral</td>\n",
       "      <td>nikmati cicilan 0  hingga 12 bulan untuk pemes...</td>\n",
       "    </tr>\n",
       "    <tr>\n",
       "      <th>1</th>\n",
       "      <td>209</td>\n",
       "      <td>Kue-kue yang disajikan bikin saya bernostalgia...</td>\n",
       "      <td>positive</td>\n",
       "      <td>kue kue yang disajikan bikin saya bernostalgia...</td>\n",
       "    </tr>\n",
       "    <tr>\n",
       "      <th>2</th>\n",
       "      <td>436</td>\n",
       "      <td>Ibu pernah bekerja di grab indonesia</td>\n",
       "      <td>neutral</td>\n",
       "      <td>ibu pernah bekerja di grab indonesia</td>\n",
       "    </tr>\n",
       "    <tr>\n",
       "      <th>3</th>\n",
       "      <td>394</td>\n",
       "      <td>Paling suka banget makan siang di sini ayam sa...</td>\n",
       "      <td>positive</td>\n",
       "      <td>paling suka banget makan siang di sini ayam sa...</td>\n",
       "    </tr>\n",
       "    <tr>\n",
       "      <th>4</th>\n",
       "      <td>592</td>\n",
       "      <td>Pelayanan bus DAMRI sangat baik</td>\n",
       "      <td>positive</td>\n",
       "      <td>pelayanan bus damri sangat baik</td>\n",
       "    </tr>\n",
       "  </tbody>\n",
       "</table>\n",
       "</div>"
      ],
      "text/plain": [
       "    id                                               text     label  \\\n",
       "0  219  Nikmati cicilan 0% hingga 12 bulan untuk pemes...   neutral   \n",
       "1  209  Kue-kue yang disajikan bikin saya bernostalgia...  positive   \n",
       "2  436               Ibu pernah bekerja di grab indonesia   neutral   \n",
       "3  394  Paling suka banget makan siang di sini ayam sa...  positive   \n",
       "4  592                    Pelayanan bus DAMRI sangat baik  positive   \n",
       "\n",
       "                                          text_clean  \n",
       "0  nikmati cicilan 0  hingga 12 bulan untuk pemes...  \n",
       "1  kue kue yang disajikan bikin saya bernostalgia...  \n",
       "2               ibu pernah bekerja di grab indonesia  \n",
       "3  paling suka banget makan siang di sini ayam sa...  \n",
       "4                    pelayanan bus damri sangat baik  "
      ]
     },
     "execution_count": 19,
     "metadata": {},
     "output_type": "execute_result"
    }
   ],
   "source": [
    "df.head()"
   ]
  },
  {
   "cell_type": "markdown",
   "metadata": {
    "id": "i_jyLNKlywVN"
   },
   "source": [
    "# **Feature Extraction: Bag of Words**"
   ]
  },
  {
   "cell_type": "markdown",
   "metadata": {
    "id": "YduBcZgwVUjC"
   },
   "source": [
    "Setelah itu kita lakukan Feature Extraction menggunakan metode Bag of Words"
   ]
  },
  {
   "cell_type": "code",
   "execution_count": 20,
   "metadata": {
    "executionInfo": {
     "elapsed": 9,
     "status": "ok",
     "timestamp": 1686576790629,
     "user": {
      "displayName": "Mochammad Revaldi Anggara",
      "userId": "16163102586825999806"
     },
     "user_tz": -420
    },
    "id": "-IcnkuJhPs8u",
    "tags": []
   },
   "outputs": [],
   "source": [
    "# Kita simpan teks ke dalam sebuah variabel\n",
    "data_preprocessed = df.text_clean.tolist()"
   ]
  },
  {
   "cell_type": "code",
   "execution_count": 21,
   "metadata": {
    "colab": {
     "base_uri": "https://localhost:8080/"
    },
    "executionInfo": {
     "elapsed": 10,
     "status": "ok",
     "timestamp": 1686576790630,
     "user": {
      "displayName": "Mochammad Revaldi Anggara",
      "userId": "16163102586825999806"
     },
     "user_tz": -420
    },
    "id": "3FFmX_Qrzl0D",
    "outputId": "df8b91e4-fb01-4dd2-82bd-e7cfc5999d07",
    "tags": []
   },
   "outputs": [
    {
     "data": {
      "text/plain": [
       "['nikmati cicilan 0  hingga 12 bulan untuk pemesanan tiket pesawat air asia dengan kartu kredit bni ',\n",
       " 'kue kue yang disajikan bikin saya bernostalgia  semuanya tipikal kue zaman dulu  baik dari penampilan maupun rasa  kuenya enak dan harganya juga murah ',\n",
       " 'ibu pernah bekerja di grab indonesia',\n",
       " 'paling suka banget makan siang di sini ayam sama sambalnya enak banget harganya luar biasa hemat  rasa ayamnya meresap sampai ketulangnya  es lidah buayanya juga segar bikin adem perut setelah makan sambal yang pedas  pelayannya sigap dan ramah  yang aku suka di tempat kasir ada tulisan 10  disumbangkan untuk beramal  buat makan jadi lebih enak ke perut',\n",
       " 'pelayanan bus damri sangat baik',\n",
       " 'mau bikin postingan yang isinya mengedukasi customers gojek ',\n",
       " 'ratusan rumah di medan terendam banjir',\n",
       " 'barangnya lumayan  cuma yang saya heran xiaomi redmi note 2 ini tombol onnya memang agak rusak  terus baterai memang cepat low bat juragan ',\n",
       " 'sulit sekali mempercayai orang yang sudah pernah berkhianat',\n",
       " 'lokasi di gombel dengan pemandangan semarang  datanglah malam karena lampu kota akan terlihat  makanan enak steak dan teh hangat menu wajib di sini  ambil spot di luar karena udara dingin dan sejuk',\n",
       " 'waktu itu ke sini pesan nasi goreng dan kentang goreng  nasi gorengnya semua suka  kentang gorengnya enak banget  dan presentasinya bagus  keluarga bilang kopinya enak  hal yang sangat baik di sini adalah tempatnya luas dan yang di luar bisa lihat pemandangan dusun bambu  tapi pelayanannya tidak cepat sehingga saya harus bertanya beberapa kali tentang pesanan saya  harganya cukup mahal  namun karena makanannya enak semua jadi terbayarkan  tidak perlu pikir dua kali jika mau ke tempat ini lagi ',\n",
       " 'nasi goreng thailand di harga 35 ribu  polos  hanya ada suir ayam sedikit  seafoodnya tidak ada ',\n",
       " 'seperti yang kita tahu  brownies yang asli dari amerika adalah kue bantat yang memang berwarna cokelat  toko amanda mengkreasikan brownies dengan memasaknya secara mengukus  brownies kukus ini sama sekali nggak banget  teksturnya malah sama dengan bolu biasa  jadi menurut saya  ini bukan brownies ',\n",
       " 'jika datang ke restoran ini sangat cocok pada sore dan malam hari  membawa pasangan untuk menikmati makan malam yang romantis dan pemandangan yang sangat menakjubkan',\n",
       " 'pengalaman pertama cukup mengesankan karena cukup kaget ternyata setelah selesai memesan makanan  salah satu staf memberikan daun pisang ke meja saya bukan piring atau sendok  jadi jika makan di sini bersiaplah untuk makan menggunakan tangan karena kita akan merasakan sensasi yang unik ditambah alas makannya daun pisang ',\n",
       " 'salah satu area kuliner yang cukup menggugah selera  namun jadi bingung juga milihnya  akhirnya ku coba kerak telur dan mie kocok sembari mendengarkan pertunjukan musik dengan lagu lagu nostalgia barat  cukup direkomendasikan ',\n",
       " 'untuk memastikannya ibu bisa datang ke kantor cab bank mandiri tersebut pada hari dan jam kerja untuk penukaran uang ',\n",
       " 'naik kereta jayabaya malang   jakarta berhenti di gubeng  tiket 35 ribu plus asuransi 6 ribu via traveloka',\n",
       " 'dpr memberi apresiasi atas keikutsertaan perempuan pada pilkada 2018 ',\n",
       " 'saya datang untuk makan malam bersama keluarga  ini pertama kali saya ke sini  kondisi tidak terlalu ramai  untuk interior  agak kotor menurut saya  adanya remah remah bekas makanan di lantai dan meja  sepertinya tidak dibersihkan secara sempurna  untuk rasa makanan  standar  tidak terlalu istimewa ',\n",
       " 'tolong bilang ke anggota dewan jangan lupa revisi perppu ormas dan ingatkan janjinya kalau perppu tidak direvisi  berbagai elemen masyarakat akan mengeluarkan sikap ',\n",
       " 'keripik singkong itu makanan ringan terenak dan tepat buat menemani waktu tugas',\n",
       " 'batagor dan siomay kingsley ini tidak mempunyai cabang di tempat lain  makanannya enak  terutama batator dan siomay serta basonya dan tidak pakai pengawet  dan jika ingin buat oleh oleh ada paket yang bisa dibawa pulang  dipertahankan lagi kualitasnya ',\n",
       " 'jangan pernah pesan melalui layanan ini ya teman teman  mengecewakan  villa  nya kotor  semua peralatannya tidak layak pakai',\n",
       " 'pendaftaran mulai esok  kementerian kominfo buka beasiswa pelatihan digital untuk 1 000 orang',\n",
       " 'sebagai netijen yang baru april lalu piknik ke toba  hanya mau bilang bahwa benar banyak hal yang mengecewakan dari sistem pariwisata di sana  parapat  nya kotor  susah cari akomodasi yang benar benar bagus  agen transportasi tidak profesional  pokoknya tidak direkomendasikan pergi ke parapat ',\n",
       " 'kotor banget dan tidak di hiraukan oleh pelayan restoran  mengecewakan sekali pelayanannya ',\n",
       " 'tempatnya menurut saya biasa saja  kurang bersih  makanannya pun biasa saja ',\n",
       " 'untuk usaha yang dikeluarkan ke tempat ini hasilnya biasa biasa saja  yang mengecewakan adalah kualitas makanannya  makanan hanya sekedar masak saja  untuk kelas kuliner bandung yang enak enak  ini mengecewakan  ada karcis masuk per orang 10 000 dan mobil 15 000 ',\n",
       " 'saya sekeluarga sedang cari tempat makan habis nonton  kami bosan makan di resto   kafe di mal  tiba tiba terlihat resto di kanan jalan  sudah lama kami tidak makan kari  mampirlah kami ke resto yang tergolong kecil hanya 9 meja  ternyata enak tempat dan makanannya ',\n",
       " 'kopi starbucks kenapa bisa enak banget sih',\n",
       " 'katanya di sana akan dibangun transmart  di sebelah bangunan itu ',\n",
       " 'sungguh pengalaman unik  makan di tengah sawah di antara padi yang hampir menguning  dengan pilihan menu yang variatif  penyajian yang menarik dan menggugah selera ',\n",
       " 'makan bersama dengan para sistah beberapa waktu yang lalu  tempat nyaman  enak buat nongkrong  pelayanan bagus  dah beberapa kali makan di sini ',\n",
       " 'tempat oleh olehnya lengkap dan cukup nyaman  mudah dijangkau  harganya terjangkau  serta pelayanannya ramah',\n",
       " 'hai eviana  mohon maaf atas ketidaknyamanannya  untuk kontak dari indosat dapat mengakses tautan ini  silakan pengecekan ya  terima kasih  erf',\n",
       " 'menunya indomie sama roti bakar  untuk tempat sama seperti cabang yang lainnya nyaman buat kumpul  ',\n",
       " 'sambal dengan daun serawung  tomat  dan cabe rawit  rasa sambal ini yang membuat kota di garut yang namanya cibiuk jadi terkenal  sambal ini bisa dinikmati dengan gurame goreng ataupun dengan ayam goreng  rasanya sangat enak  selain di lengkokng cibiuk juga memiliki banyak cabang',\n",
       " 'saya sudah konfirmasi ke pihak gramedia tapi dilempar lempar tak ada kejelasan  pihak gramed sampai spv di outlet tersebut saling lempar dan menyebut tidak ada promo  kecewa dilempar lempar begitu',\n",
       " 'selamat siang  jika ada hal lain yang bapak akan tanyakan dapat mention kami kembali  terima kasih zan',\n",
       " 'menurut kami tempat ini biasa saja tidak ada atraksi atau pemandangan yang menarik dengan harga tiket 10000   orang  kalau pemandangan gunung ya memang sudah seharusnya karena berada di daerah tinggi  untuk wisata kuliner juga tidak terlalu banyak pilihan seperti tempat yang satu lagi ',\n",
       " 'saya sudah menjadi pelanggan madtari sejak tahun 2002  saat itu masih berupa warung tenda kecil yang sangat ramai malam hari  beberapa tahun silam menempati bangunan yang permanen  sejak itu saya merasa kualitasnya agak menurun dibandingkan dengan saat di warung tenda  yang jelas  harga naik cukup signifikan  dibandingkan warung serupa  mungkin lebih mahal ',\n",
       " 'komentar pertama sudah pasti venue yang kece  pelayanan ramah sekali  dan untuk menu yang dipilih adalah ikan bakar dan sop buntutnya yang aku kasih nilai 4 tapi buat es buah itu aku kasih nilai 5 ya ',\n",
       " 'di restoran ini makanan yang disediakan banyak sekali dan harga cukup terjangkau  suasana yang enak dan nyaman',\n",
       " 'aku iri melihat kalian yang bisa menemukan kebahagiaan ',\n",
       " 'habis beli pulsa mau daftar paket internet gagal terus dan suruh mengulang terus di 363 dan tetap tidak bisa',\n",
       " 'tempatnya sangat bagus apa lagi malam hari dihias dengan lampu lampu  sangat romantis  cocok buat pasangan  jauh dari keramaian  udaranya sangat dingin  kita dapat melihat keindahan kota dari atas ',\n",
       " 'makanannya enak enak dan eye catching untuk di foto  suka  tetapi minumannya juga enak dan tempatnya nyaman untuk kumpul kumpul dengan teman ',\n",
       " 'ini kali kedua kunjungan saya  semua makanan yang saya coba enak enak  dan tempatnya masih semenawan dulu  tidak pernah menyesal makan di sini ',\n",
       " 'makanannya smoked chicken dan cheese sandwich  minumannya jus  lumayan pas dan enak  tempatnya memang enak buat yang ingin suasana hening santai jauh dari kebisingan ',\n",
       " 'obat tanpa resep sebaiknya dihindari ibu menyusui',\n",
       " 'semakin banyak tahu  semakin cemburu ',\n",
       " 'karyawan malas untuk apa kasih cuti  bisnis lagi jelek malah mau foya foya  mikir dong ',\n",
       " 'tempat yang berdampingan dengan air sungai dan rimbunnya pepohonan dan makanan yang lezat membuat betah dan cocok untuk beristirahat  berbagai jajanan juga tersedia di tempat ini  hawanya juga sejuk ',\n",
       " 'tolong ya minimal  demi kemudahan nasabah agar di dalam stasiun tigaraksa diberikan mesin atm bni',\n",
       " 'kupat tahu gempol merupakan salah satu kupat tahu legendaris  tempatnya tidak terlalu besar tetapi cukup mencolok dengan warna merahnya di pertigaan pasar gempol  porsinya pas banget untuk menghilangkan lapar  ciri khas dari kupat tahu ini adalah tahunya yang lembut dan kenyal serta kuah kacangnya pas di lidah  dipadu dengan lontong  tauge dan kerupuk merah  enak sekali ',\n",
       " 'wah sama seperti saya ini mas barusan  paket freedom l saya belum habis tapi sudah dibebankan tarif internet perlu sampai pulsa sekitar 40 ribu saya disedot perampok',\n",
       " 'rumah makan ini memang tergolong murah bila dibandingkan dengan rumah makan sejenisnya  namun makanan yang disediakan biasa saja tidak ada yang istimewa  sebagian besar makanannya hanya ikan atau ayam dengan cara masak digoreng  bisa dibilang menu makanannya tidak ada variasi sama sekali ',\n",
       " 'kamar mandi jauh dari layak  untuk cuci tangan tidak disediakan sabun ',\n",
       " 'suasananya cocok bagi semua orang  baik anda yang ingin menyendiri  bersama keluarga  maupun dengan teman teman dekat bertukar cerita',\n",
       " 'bakso favorit kami sekeluarga  rasanya gurih dan super enak  ditemani dengan es jeruk dan kerupuk putih  super yummy deh  harga sangat terjangkau  lokasi masuk gang kecil tapi mudah ditemukan karena banyak orang yang tahu di lokasinya  ',\n",
       " 'tidak enak makan di restoran  tidak bisa minta kuah opor ayam dikit seperti di warteg ',\n",
       " 'meningkatnya presentase peminat ride sharing membuat toyota nekad menggelontorkan uang hingga  1 miliar pada grab demi menyelamatkan bisnis otomotifnya ',\n",
       " 'pemandangan kota bandung yang indah dapat disaksikan dari sierra kafe lounge  ada dua pilihan tempat  bisa dalam ruangan maupun di luar  tempat yang romantis cocok untuk berduaan dan cocok juga buat kumpul bersama teman teman sambil melepas lelah  karena udaranya sejuk dan menyegarkan  makanan yang disediakan juga lezat dan banyak pilihan  ada masakan indonesia  asia  bahkan eropa   makanan barat ',\n",
       " 'rumah itu memiliki pagar besar berwarna hitam ',\n",
       " 'restoran unik  di mana tidak disediakan piring  untuk makan menggunakan alas daun pisang  makanan cukup enak ',\n",
       " 'ayah saya merupakan seorang pegawai net tv',\n",
       " 'indomie banyak ditemukan di warung warung terdekat ',\n",
       " 'sulit sekali mengerti orang yang merasa selalu benar',\n",
       " 'mimpi disuruh mencari coklat sama gordon ramsay eh malah kecampur sama kuah indomie',\n",
       " 'iya sih mi sedap isinya lebih banyak  tapi soal rasa kalah jauh sama yang lain',\n",
       " 'wah enak banget  sate yang nikmat bumbu yang pas  rasa yang pas dan daging yang segar  hingga menghasilkan sate yang benar benar mantap  pelayanan yang ramah  ',\n",
       " 'waktu datang ke sini sedang bukan musim stroberi jadi pada kecil kecil dan tidak bagus  jadi cuma ambil seadanya saja    sad   ',\n",
       " 'peresmian pengoperasian kereta api bandara oleh presiden ri dengan simbolis  penekanan tombol sirine yang menyuarakan genta  didampingi oleh menteri perhubungan  menteri bumn  gubernur banten  dirjen perkeretaapian kemhub  dirut ap2  dirut pt kan  dan dirut railink',\n",
       " 'masakan restoran ini rata rata tidak enak ',\n",
       " 'cocok untuk makan malam romantis dengan pasangan ketika merayakan momen berdua  makanannya enak dan berkelas ',\n",
       " 'batagornya enak  mi nya enak  ada aneka makanan yang bisa dicicip di satu tempat  apalagi sekarang tokonya sudah direnovasi jadi bagus  ada musala  area oleh oleh banyak pilihan  ',\n",
       " 'baru pakai berapa hari langsung hang  power bank tidak bisa di pake apa apa  harus bawa ke tempat servis ',\n",
       " 'restoran yang memiliki pemandangan yang bagus  jika ke sini pada malam hari carilah tempat duduk di luar ruangan  maka kalian akan melihat disetiap meja lampu lampu yang menyala  makanan yang kami pesan adalah sup krim dan coklat hangat sangatlah enak dan lezat pas dengan cuacanya yang dingin',\n",
       " 'tempatnya sangat romantis dan nyaman  dengan suasana yang sangat nyaman dan pelayanan yang baik  makanan sangat enak dengan harga yang reasonable  sangat ingin kembali ke sini menikmati suasana sorenya  secara keseluruhan baik sangat bagus ',\n",
       " 'makanan court dengan banyak penyewa  banyak pilihan  cocok untuk anak muda yang ingin nongkrong berkelompok sambil makan   minum sesuai selera masing masing  parkir sangat luas ',\n",
       " 'terima kasih bang atas apresiasinya  semoga beliau segera menemui wakil kami  korban phk sepihak freeport  ',\n",
       " 'hampir lebih 5 kali saya ke sini  dim sumnya yahud dan harganya terjangkau banget  tempatnya asyik dan sangat nyaman  pelayannya ramah walaupun kita cuma berdua dan makan tidak banyak jenisnya  pokoknya rekomendasi banget  bila mencari dim sum atau shabu di balikpapan ',\n",
       " 'tempatnya menyenangkan  santai  dan sangat mudah ditemui  karena bersebelahan dengan swalayan lotte mart',\n",
       " 'kipp menerima banyak laporan terkait adanya pelanggaran pada pilkada 2018 ',\n",
       " 'sudah beberapa kali ke sini  makanan lumayan enak  saung saungnya juga membuat suasana makan dan bersantai jadi nikmat  ditambah dengan suara sungai kecil menambah suasana jadi bertambah alami  dianjurkan datang ke sini malam hari karena lebih indah ',\n",
       " 'makanan di sini sangat enak  cocok untuk pertemuan kantor atau bersama keluarga besar harga terjangkau',\n",
       " 'dhl sedang membuka lowongan pekerjaan untuk customer service',\n",
       " 'saya coba yang di dekat kantor walikota  saya pesan bakso malang super komplet  rasanya enak  kenyang  harga juga masuk akal ',\n",
       " 'tempat makan di luar yang luas menyajikan segala makanan dari tradisional hingga yang termodern  dari harga yang murah meriah hingga yang mahal  penataan dekorasi yang apik akan membuat betah  ',\n",
       " 'yang wajib banget dicoba di resto ini ada jus stroberi tanpa susu atau gula  asli enak banget  kayaknya 1 gelas saja kurang deh ',\n",
       " 'resto makanan barat dengan harga kaki lima  ditambah pemandangan alam yang indah  suasana yang romantis  asal jangan hujan  karena di teras dibiarkan terbuka  resto favorit keluarga saya ',\n",
       " 'ayam gorengnya enak di sini  cocok buat yang habis perjalanan jauh  saya ke sini pulang dari luar kota  jadi makannya pas lapar gitu deh  bikin perut kenyang  makanannya enak terus pelayanannya mantap  kasirnya cantik cantik',\n",
       " 'paket saya juga sampai sekarang tidak sampai sampai sudah 5 hari statusnya dengan pengiriman courier jakarta  parah sekarang jne',\n",
       " 'jual ayam bakar taliwang tapi ayam yang disajikan seperti karet dan tidak memuaskan  dan rasanya hambar  sambalnya juga alakadarnya  dari keseluruhan sangat mengecewakan dan saya tidak akan ke dua kalinya ke sana lagi',\n",
       " 'jalan  sukajadi kalau malam suka ada warga yang buang sampah di pinggir jalan  orang orang kayak gitu harus dimusnahkan',\n",
       " 'paling favorit di resto ini adalah bubur 3 rasa  1 mangkok besar bisa untuk berdua sama suami  lalu banyak menunya untuk tambahan makan sama bubur  harga dan rasa sesuai  dan yang pasti teman makan bubur adalah teh hangat hmmm  enak ',\n",
       " 'indosat adalah penyebab gue marah tiap hari',\n",
       " 'restoran ini merupakan tempat yang cocok untuk makan malam bersama pasangan dan keluarga dengan makanan yang cukup enak dan pemandangan yang bagus  suasananya juga baik dengan hiasan klasik dari pojok sampai pintu masuknya  ',\n",
       " 'konsep restoran biasa saja  tapi harga minumannya kok mahal banget  dimurahinlah dikit meskipun di daerah wisata hehe  jadi mikir berkali kali buat beli ',\n",
       " 'susunya segar dengan sayuran yang mantap dan rasa kuah yang enak dan pelayanan yang sangat super ramah ',\n",
       " 'menyesal nih gue kasih tahu loe  farrel',\n",
       " 'kesel lah  mana parkir tidak benar  bikin jalanan sempit doang lagi  giliran mobilnya baret misuh misuh menuduh sembarang orang',\n",
       " 'resto ini saya rekomendasikan untuk anda singgahi jika anda ingin bersantap sambil menikmati sunset  karena letaknya yang berada di dataran tinggi  anda dapat menikmati keindahan alam pegunungan dan suasana kota  untuk makananannya sendiri ada beberapa cita rasa  dari masakan daerah  indonesia hingga internasional ',\n",
       " 'sangat melelahkan  balik pergi ke kampus sore sekali ditambah kerja kelompok yang tidak ada abisnya  deadline tugas juga mepet sekali',\n",
       " 'bali punya banyak pulau yang bisa dikunjungi ',\n",
       " 'saya makan pagi di restoran lantai 18 ini dan kebetulan saya mendapatkan tempat duduk di luar atau balkon  bantalan tempat duduknya terlihat banyak noda kotoran  angin sangat kencang bertiup sehingga makan pagi tidak nyaman  saya sarankan apabila anda makan di restoran ini  pilih tempat duduk di dalam untuk kenyamanan ',\n",
       " 'perluasan kilang minyak pt pertamina serap 20 ribu lebih tenaga kerja',\n",
       " 'restoran di padma hotel termasuk salah satu tempat yang nyaman dan indah dengan pemandangan bukit  lembah dan pepohonan yang hijau  sehingga bisa menikmati makanan dengan suasana yang berbeda  makanan di sini cukup bervariasi dan banyak pilihan tidak beda jauh dengan restoran restoran lain di bandung  tapi di sini ada menu pilihan tradisional yang membuat anda bisa merasakan khas makanan yang berbeda sambil menikmati alam ',\n",
       " 'sekarang bukan zaman janji  km rakyat sudah bosan alias muak',\n",
       " 'aku dan suami biasanya menginap di jimbaran saat berkunjung ke bali',\n",
       " 'bingung deh  selalu saja tidak bisa ikutan nongkrong karena memang ramai sekali  yasudahlah ya sepertinya memang lebih enak aku drive thru saja berhubung di pusat kota posisinya sumpah ini mcd paling ramai  ',\n",
       " 'penakut tapi soksikan tidak takut  diajak nonton film horror oke ayok  selesai menonton tidak berani ke kamar mandi',\n",
       " 'kualitas lounge amat mengecewakan  jauh dari eskalator  melalui lorong lorong kotor  desain sempit memanjang ',\n",
       " 'meski tidak pernah mendapatkan gubug tepi sawah  namun pesona dan kenyamanan makan di gubug lain tak menjadi nilai minus bagi tempat makan ini  banyak gubug yang nyaman untuk dijadikan tempat bersantap  kualitas makanannya pun super dan enak  coba ikan bakar daun  wangi  pedas dan sedap sekali ',\n",
       " 'kalau urusan makanan yang enak enak sepertinya inilah rajanya  bukan hanya makanan yang mantap tapi suasananya pun semakin hangat apalagi bersama keluarga atau teman  lagu lagunya juga menghibur banget ',\n",
       " 'sudah beberapa kali makan di tempat ini  menu merupakan menu khas sunda  terutama tersedia menu yang sudah jarang ditemukan di rumah makan lainnya di bandung  rasa makanan  sungguh lezat',\n",
       " 'rakyat sudah jenuh mendengar ocehan politikus jika baik kenapa tidak katakan baik  kenapa semua yang dilakukan pemerintah  semuanya tidak ada baiknya ',\n",
       " 'menunggu mal istana plaza buka di pagi hari  sebaiknya mampir di mangkok ayam di pelataran lantai 1 istana plaza  berbagai macam menu pilihan indonesia food  chinese food tersedia  sebaiknya dicoba mi ayam rica sungguh sangat puas sembari minum kopi di pagi hari ',\n",
       " 'makan di sini cukup nikmat karena menunya beragam  dari mulai menu indonesia  asia  hingga tiongkok  sehingga bisa mencoba rasa yang beragam  rasanya juga tidak kalah enak  tempatnya cukup nyaman  pelayanannya pun cepat',\n",
       " 'makan di atas gunung degan pemandangan lampu kota kalau malam sangat indah  makanannya juga enak harga standar seperti kafe yang lain ',\n",
       " 'sebenarnya agak lucu juga sih ke bandung  tapi kok makan pizza hut  hanya karena lagi ingin pizza  rasanya tidak berbeda dengan yang di jakarta ',\n",
       " 'dulu suka banget makan di sini waktu sama di jakarta  baru tahu kalau di bandung juga ada  tempatnya enak banget  banyak pilihan suasana yang bisa dipilih  mau di luar  indoor  merokok atau ngge tidak  ada tempat buat segala jenis pengunjung  makanannya juga enak sih  ya pasta pasta ala orang indonesia ',\n",
       " 'untuk apa kau sekolah tinggi tinggi tapi ngomong macam anjing menggonggong ',\n",
       " 'bagus dan nyaman tempat  tempatnya rekomendasi banget buat makan malam  datang sama pasangan dilayani sama mbak dela  dijelaskan detail dan ramah banget  menunya variatif dan enak  pas datang saya sama pasangan nyobain menu lokal dan asingnya  keduanya sama sama enak  buat saran saja  jangan datang ke tempat ini  bisa bisa malah bolak balik datang  hehehehe  pemandangannya luar biasa ',\n",
       " 'buat yang suka manis  coba nasi ayam jamurnya  kalau tidak suka  coba pilih nasi ikan asin  yang terkenal satenya  disajikan di atas piring panas  pilihan lain yang banyak dipesan adalah tahu goreng ',\n",
       " 'saya suka sekali makan di sini  harganya tidak terlalu mahal dan rasanya enak  yang paling saya suka jamur panggangnya  banyak kejunya dan lembut  tiap kali ke sini pasti order ini ',\n",
       " 'di restoran itu tersedia banyak pilihan makanan  mulai dari yang murah hingga yang mahal',\n",
       " 'tempat yang nyaman dan alami untuk membawa keluarga relaks suasana pedesaan alami  mengenalkan anak pda alam',\n",
       " 'sudah seminggu ini pdam di daerah kami tidak mengalir  apa stok air pdam habis  tanggung jawab dong',\n",
       " 'kerja dari pagi sampai pagi lagi itu cuma bakal menyiksa diri sendiri  jadi tidak usah berlebihan kalau soal kerjaan ',\n",
       " 'rasa makanan tidak semewah harganya  overpriced untuk pengunjung keluarga  grup teman atau bisnis ',\n",
       " 'kalau mampir ke sukabumi  jangan lupa nyicip bubur ayam hamid  asli  enak banget  beda dengan bubur ayam di tempat lain  suiran ayamnya lumayan banyak  bumbunya juga terasa banget  apalagi jika kita makannya ditambah sate ampela atau usus  dijamin bakal ketagihan ',\n",
       " 'tolonglah pihak telkomsel di revisi harga harga paket internetnya harganya selangit ',\n",
       " 'yang terhormat tolong dong respon pesan saya  terima kasih',\n",
       " 'bukan hanya namanya saja swike waled  rasanya sama enaknya dengan yang di desa waled cirebon kuahnya tauconya asinnya pas  swieke gorengnya juga enak  cuma harganya agak mahal dibanding swike di cirebon ',\n",
       " 'dapatkan hardisk dengan harga promo untuk setiap pemesanan jasa isi hardisk penuh 1 tb',\n",
       " 'restoran unik dengan menu nasi goreng yang unik pula  nasi goreng disajikan dengan level kepedasan yang berbeda beda  anda penggemar pedas harus mencoba nasi goreng di sini  selain itu  nasi goreng disajikan dengan berbagai resep seperti dengan ebi  kemangi  kecap manis  bumbu rahasia sampai dengan campuran kencur  per porsi disajikan dengan takaran yang pas  harga per porsinya mulai rp 13  000   rp 21  000  pelayanan sangat menyenangkan ',\n",
       " 'pakek telkomsel pengin marah terus hanya berbagi capture kurang dari 100 kb muteer terus berujung gagal  tetapi kalau dipompakan bilangnya jaringan tidak bermasalah ',\n",
       " 'ditunggu saja  pasti dikasih  biasa maksimal seminggu kok',\n",
       " 'enak  tempatnya bersih nyaman  dan makanan yang disajikan pun bervariasi  selain itu tempatnya yang berada di kota menjadikan tempat istirahat orang orang yang berbelanja dan pekerja kantoran  harganya memang mahal tapi setara dengan rasanya',\n",
       " 'cari di bukalapak saja  kalau kepepet  sementara bisa gunakan punya redmi 4a ',\n",
       " 'makannya lumayan  tapi ada pelayan yang agak jorok saja jadi kurang nyaman  untuk makanan agak cepat ya agar tidak kelaparan konsumen  masih banyak yang harus ditingkatkan ',\n",
       " 'padahal baru jam 4 sore di hari kamis  saya dan teman saya mau coffe break  saya lupa kami pesan minuman apa waktu itu  hanya yang saya ingat adalah pada saat pilih menu a  dibilang dengan pelayannya sudah habis  lalu kami pilih menu b   eh sudah habis juga  akhirnya terpaksa memilih menu lain  cukup menyebalkan ',\n",
       " 'kalau di sini dagingnya lebih enak  bumbunya sih lebih berasa yang di sana  harganya juga tidak beda jauh ',\n",
       " 'tempat yang indah dan romantis dengan pemandangan kota bandung dengan kerlip lampunya yang mirip dengan ribuan cahaya lilin di malam hari serta hawa dingin pegunungan   apalagi hidangan yang lezat hangat dan penampilan yang sangat menggoda  wah sangat sayang jika dilewatkan ',\n",
       " 'penasaran ke sini karena tiap melewati tol selalu melihat iklannya di jalan  pas ke sana ternyata tempatnya cenderung biasa saja  ke sana pas malam malam plus hujan juga jadi agak becek ',\n",
       " 'resto ini cukup luas  suasana sangat menyenangkan  pengunjung dapat melihat pemandangan kota bandung  menu makanan barat dan indonesian makanan  harga sesuai kualitas dan pelayanan ',\n",
       " 'bogor akan dipimpin kembali oleh bima arya ',\n",
       " 'bulan januari saya sudah ke galeri indosat untuk registrasi kartu  kata mbaknya yang tas  sudah teregistrasi kok  tapi kemarin tidak bisa telepon dan sms karena diblokir belum registrasi  maunya apa coba  terima kasih atas layanannya yang excellent sekali ',\n",
       " 'saya mencoba suis butcher di selai di suis butcehr di stiabudhi  saya juga mencoba suis butcher di jalan  riau  saya lebih menyukai suasanan di suis butcher di setiabudi yang tidak terlalu ramai  dan enak tempatnya buat ngobrol  makanannya saya suka tenderloin  salad  frencfries  dan tiramisunya  harga dan rasa sebanding kok  so setimpal sekali pelayanannya juga lumayan cepat ',\n",
       " 'wifi di sini selalu eror  makanan dan minuman agak mahal  lumpiah goreng asin sekali  teh susu hanya sedikit enak  lama sekali untuk pesanan',\n",
       " 'mau ke hotel yang di mongkok hongkong  tidak ada  bulan juni lalu  saya booked dan sudah bayar untuk 2 kamar  tapi hotel tidak ditemukan ',\n",
       " 'daripada ribut ribut soal barang flash sale mending main poker online ',\n",
       " 'roti unyil  toko kue yang menyediakan berbagai macam roti   kue dengan ukuran kecil  sangat dikenal di bogor dan bandung ',\n",
       " 'ingin bantu kasih hubungan infonya  tapi kuota internet saya terbatas ',\n",
       " 'saya sependapat  acara tersebut harus dihilangkan  banyak acara yang tidak berguna  orang orang dalam acaranya pun bertingkah seperti orang tidak sekolah saja ',\n",
       " 'resto nostalgia yang wajib dikunjungi  tempat yang nyaman buat keluarga  parkir yang luas  hidangannya hampir semua enak  terutama steak  saslick dan es krim ',\n",
       " 'ajak keluarga  kawan satu kantor  kawan jalan  pacar  kawan pacar  atau bahkan mantan pacar  buat suara award ini ',\n",
       " 'tempatnya menarik  dengan konsep yang sangat pabrik  sayangnya hampir seluruh menunya non halal ',\n",
       " 'untuk orang jogja sih malas kembali ke sana 2 kali  cukup sekali  masuk harus bayar  makanan mahal ',\n",
       " 'banyak keluarga saya yang bekerja sebagai pegawai negeri',\n",
       " 'kami makan malam di restoran itu dan pelayanannya cukup memuaskan  tempatnya luas  ada yang berada di dalam ruangan  ada yang diteras  makanan langsung dipilih dari meja saji di dalam restoran  ada pilihan menu segar yang baru digoreng pada saat dipesan dan sebagian besar menu tradisional  waktu tunggu tidak lama  penyajian unik karena tidak menggunakan piring melainkan memakai daun ',\n",
       " 'kiriman agak terlambat 1 hari pakai kurir itu  lebih responsif dong',\n",
       " 'ketika ingin menyantap variasi makanan  pilihannya selalu hanamasa  lokasi tempatnya cukup enak  pilihan makanannya banyak  dari mulai makanan ringan  bakar bakaran  rebusan hingga makanan penutup  sangat tidak mengecewakan ',\n",
       " 'dapatkan voucher pulsa rp 25 000    untuk dua orang yang beruntung setiap harinya hanya dengan retweet bniquotes',\n",
       " 'makan di resto mewah  harga tentu saja mahal  tapi rasanya payah  sungguh menjengkelkan ',\n",
       " 'gunanya shazam  biar tahu lagu lagu ajaib yang diputer sopir gocar',\n",
       " 'enaknya makan di redsdifo  baru kali ini dah saya suka banget makan ikan  ikannya segar  enak  dan tidak ada bau amis lagi  pokoknya ikan bawal enak  dan kopi robusta susu mantap  pokok  a ketagihan dah  redsdipo jadi tempat favorit saya  enak pokoknya mah ',\n",
       " 'ini kenapa sih astaga telkomsel maupun indihome dua duanya sering bermasalah  mahal doang woy ',\n",
       " 'saya pergi ke sini hanya untuk mencari sedikit hiburan di kala berlibur bersama keluarga  saya hanya minum dan makan makanan kecil  minuman di sini harganya murah banget dibandingkan dengan jakarta  ',\n",
       " 'tagihan indihome saya bulan oktober ini beda dengan bulan september  jatuhnya lebih mahal  kenapa bisa begitu  janjinya waktu awal pasang tidak ada biaya lain dan biaya flat  ini kok naik turun bagaimana  konsisten dong',\n",
       " 'ini menyesal sekali makan indomie salted egg  makannya tadi pagi jam 8  sampai sekarang after tastenya masih ada  gaenak banget lagi ya allah',\n",
       " 'bakso yang unik  bakso dengan jenis jenis isian yang berbeda  ada yang isi keju  daging cincang pedas dan urat  saya memilih cincang daging pedas ehmmmm rasanya sesuai dengan namanya  harganya murah  tempat bersih ',\n",
       " 'bikin macet jalan saja nih orang',\n",
       " 'bni tingkatkan branding melalui stasiun bni city',\n",
       " 'sensasi makan dengan alas daun pisang  dengan enaknya cumi bakar dan tempe tepung yang gurih  serta sambal yang menggugah selera  memang mantap',\n",
       " 'mie mewek terletak di jalan pajajaran  dekat dengan area bec  pusat penjualan gadget  di sini kita bisa menikmati kuliner khas berupa makanan dengan cita rasa pedas  mie nangis akan membuat kita sebagai penikmatnya benar benar menangis  karena kepedesan sekaligus ketagihan untuk datang dan makan lagi  mienya tebal dan kenyal  enak ',\n",
       " 'dia memakan susu indomilk di dalam kulkas',\n",
       " 'kesal banget dari tadi jualan yakult tidak untung terus',\n",
       " 'ramayana kembali membuka cabangnya di samarinda',\n",
       " 'tempat ini terkenal banget di kalangan mahasiswa  karena selain enak harganya juga termasuk murah kalau menurut saya  top deh ',\n",
       " 'beragam macam karya seni yang ditampilkan di lantai dasar dan kedua sungguh menarik perhatian  selain itu di halaman luar juga banyak karya seni yang bisa diamati  pemandangan yang menyerukan mata  serta cuaca yang adem membuat tempat ini sangat disukai banyak orang ',\n",
       " 'gue enggak suka sama pelatih yang sekarang  strategi yang dibikinnya tidak bisa dipakai buat mengalahkan lawan ',\n",
       " 'ini adalah tempat makan untuk orang yang menunggu keluarganya yang sedang asyik berbelanja  tetapi tidak untuk orang orang yang senang makanan yang enak  di jakarta banyak sekali tempat makan yang jauh lebih enak dan harganya jauh lebih murah ',\n",
       " 'bila kamu selesai transaksi mengirim  pastikan cek kembali alamat di resi sebelum meninggalkan counter jne pondok timur ya',\n",
       " 'tendang sana tendang sini hajar sana hajar sini  ternyata masing masing punya agenda tersembunyi  menyebalkan ',\n",
       " 'kesal bukan karena mu  tetapi persis dikalahkan pssm  tidak enak hati tidak enak tidur tidak enak makan  semua gara gara pssm ',\n",
       " 'isi pulsa via atm bca tadi jam 17 48 sampai sekarang belum masuk  boleh tolong dicek  terima kasih',\n",
       " 'senin pagi gue diisi dengan kegiatan wawancara  sebelum jalan ke lokasi gue harus memesan gojek dan suasana masih hujan ',\n",
       " 'tempat yang paling cocok untuk mencari makanan kalau budget terbatas tetapi memuaskan  di sini banyak sekali pilihannya dari mulai masakan khas dari daerah di indonesia sampai masakan modern ',\n",
       " 'saya lihat banyak pengguna indosat terkena pemotongan pulsa  kasihan ',\n",
       " 'tempat yang sangat alami  dengan menu yang variatif  dengan rasa yang pas  saya suka dengan bandrek jagungnya   jagung yang manis disajikan sangat hangat  ada aneka jajanan tradisional yang sudah jarang ditemui ',\n",
       " 'bapak ini ngomongnya tidak masuk akal  orang diculik kok malah memikirkan penculiknya  teori dari mana itu ',\n",
       " 'tempatnya besar  open 24 hari  cocok buat ngemil  tempat duduk sofanya nyaman  sayang banyak mahasiswa yang mengerjakan tugas di sana  jadi jarang kosong tempatnya kalau malam  hehehe',\n",
       " 'tidak untung saya ikut rombongan untuk pergi ke bali sangat membosankan',\n",
       " 'walaupun cukup berliku untuk sampai ke tempat ini tapi terbayarkan dengan suasana sepi  tenang dan juga suasana udara dataran tingginya  yang kebetulan saya biasanya kalau makan di luar pasti pas hari kerja karena biar tidak terlalu ramai tapi ya minusnya tidak ada lift musik  untuk makanannya cukup enak dan keluarga saya pun cukup menikmatinya ',\n",
       " 'sangat cocok untuk bersantap bersama keluarga menikmati hidangan yang lezat sambil mengobrol melepas penat setelah seharian beraktivitas pokoknya terbaik deh',\n",
       " 'datang ke restoran ini tidak ada bosannya  apalagi di malam minggu kami sekeluarga sangat menyukai tempat ini karena ada live musiknya  suasananya tidak berubah dari tahun ke tahun  menu yang disajikan pun masih tetap sama  dari mulai menu eropa sampai menu khas indonesia tetap memikat  porsinya juga tak kalah banyak ',\n",
       " 'kalau melihat muka orang ini bawaan emosi tingkat dewa',\n",
       " 'masakan india menurut ku tidak enak  terlalu banyak rempah',\n",
       " 'kami sekeluarga ke tempat ini karena hari sudah larut malam dan tidak ada resto lain yang buka  ternyata jam 10 malam pun tempat ini masih macet  parkir penuh dan tempat duduk di dalam resto penuh  petugas yang tampak kelelahan melayani dengan masam  ampun  akhirnya makanan kami bawa ke hotel ',\n",
       " 'oh iya saya mau fitur cetak resi otomatis diperbaiki ',\n",
       " 'awal tahun ini bakti budaya djarum foundation bekerjasama dengan dan garin workshop',\n",
       " 'dengan membeli morinaga chil kid dan chil school senilai rp 500  000  bunda akan mendapatkan voucher gopay rp 50  000 ',\n",
       " 'saat ini para wisatawan pecinta diving sangat kecewa dengan kondisi teluk ambon yang nampak indah namun sangat kotor',\n",
       " 'rekomendasi untuk makan siang ala indonesia  pilihan makanannya banyak sekali tinggal tunjuk saja  terbanyak yang bentuk gorengan  misalnya empal  ayam goreng  tahu goreng dll  peralatan makan yang dipakai yang ala model zaman dulu  seperti piring seng  gelas seng  mengingatkan makan di zaman dahulu  pelayanan cepat  mantap',\n",
       " 'tempatnya nyaman  sangat windy tapi sejuk juga  konsep tempatnya bagus  vip roomnya keren sekali  instagramable banget deh tempatnya  cocok untuk nongkrong nongkrong bareng teman  keluarga  pacar  makanannya juga not bad  dan harganya juga terjangkau  mbak kasirnya waktu itu ramah sekali ',\n",
       " 'ini tua bangka sudah bau tanah kok tidak sadar sadar ya  manusia terburuk yang paling busuk ',\n",
       " 'tak ada sunlight dan mama lemon  garnier men turbo oil control pun jadi buat cuci tangan setelah masak alias licin cuy setelah kena minyak ',\n",
       " 'batagor kingsley sangat lezat dan disukai oleh keluarga dan warga jakarta  setiap kali pergi ke bandung  keluarga dan teman teman selalu minta dibelikan batagor kingsley ',\n",
       " 'kopi yang paling enak di sini adalah kopi alpukat dan kopi pisang  kopi bercampur alpukat tidak membuat rasa kopi ini memudar  sangat cocok di lidah saya sebagai pecinta kopi campuran  jenis makanan yang disajikan pun lumayan enak  favorit saya adalah kentang gorengnya untuk harga terjangkau ',\n",
       " 'dia ketahuan bikin indomie goreng jumbo padahal kan kalau 1 itu tidak kenyang ',\n",
       " 'saat mengunjungi rumah makan ini karena diajak rekan bisnis saya  saat saya menikmati mie ini terasa memiliki citarasa yang nikmat sekali  sayang saat itu  mi saya terlalu asin  sehingga mi yang seharusnya sangat nikmat tidak bisa saya rasakan  untuk suasana tempat tergolong biasa biasa saja  untuk harga tergolong sangat mahal  2 mangkok mie harganya rp  95 000 ',\n",
       " 'driver ini tidak mau pickup barang dari tadi siang  mohon ditindaklanjuti ',\n",
       " 'pagi yang melelahkan rasanya ingin diam saja',\n",
       " 'bidang lo bukan di dunia politik oon ',\n",
       " 'penasaran ingin dicoba ayam yang cukup terkenal itu  siang itu sepi  pesan ayam bakar  ternyata ayam bakarnya pedas  anak anak tidak bisa makan  harusnya pelayan menanyakan mau pedas atau tidak karena ada 2 pilihan  kemudian saya minta 2 ayam bakar yang tidak pedas  ampun  ayamnya cuma seperti digoreng terus dilumuri kecap  kami sudah hilang napsu makan ',\n",
       " 'awalnya ragu dengan kecepatan pelayanan di sini tapi lumayan lah  tepat waktu kok  aku lupa pesan jus apa sepertinya jus campuran begitu  oke sih  dan makanannya juga ok  ohya ini mereka kasi gratis es krim  bisa dicoba tanya dengan pelayannya  suka ',\n",
       " 'saya ke bandung baru kemarin baru kesampaian makan di sini  kami makan di the valley suki  kenyang  enak  pelayan ramah  dan pemandangannya keren kalau kita duduk dekat jendela  ya dengan harga rp  190 000      orang sudah termasuk pajak kita bisa makan sepuasnya  sistemnya seperti hanamasa tapi lebih asyik tempatnya ',\n",
       " 'bingung mau makan ke mana yang tempatnya asik  makanan enak dan harga terjangkau  ke sini saja  saya dan pasangan sangat menikmati  pengunjung kebanyakan anak muda jadi ikutan merasa muda lagi ',\n",
       " 'dari segi letak   lokasi cukup mudah dicari  bangunan dan isi bagian di dalamnya menarik  apalagi ada taman kecil di dalamnya yang diisi juga dengan gentong yang airnya dibiatkan mengalir terus  membuat suasananya jadi tambah romantis dan menyenangkan  menu yang disajikan lumayan variatif dan dari segi rasa lumayan enak ',\n",
       " 'menu sushi kurang banyak  kalau bisa ada menu sushi dengan porsi kecil 2 potong  harusnya ada pelengkap  wasabi  cabe bubuk  jadi sebenarnya kurang istimewa ',\n",
       " 'baru pertama kali saya makan di warung ini  bukan konsep kafe atau resto tapi tampil dengan warung makan yang menyajikan makanan tradisional ',\n",
       " 'saya datang ke maxi s resto bersama keluarga  ternyata di sana ada pesta pernikahan pesta ulang tahun sehingga tempat jadi penuh sekali  pelayanannya jadi tidak baik  seharusnya kalau tempat memang penuh  pihak resto memberitahukan kepada tamu sebelum tamu memarkirkan kendaraan saat itu hujan deras  jadi jarak tempat parkir ke resto lumayan jauh  kalau perlu ditutup sementara selama pesta berlangsung ',\n",
       " 'telkom hackathon merupakan sebuah program besutan telkom indonesia yang bertujuan untuk mewadahi para generasi muda yang memiliki keahlian di bidang teknologi informasi maupun pemrograman untuk mengembangkan perusahaan rintisan yang mereka miliki ',\n",
       " 'minumannya saya tidak ada yang suka  ayam gorengnya biasa saja  ada saus keju tapi saya tidak suka saus keju di sini  tidak enak ',\n",
       " 'resto keluarga yang sangat direkomendasikan  pemandangan sekeliling resto yang sangat bagus  pondok pondok yang nyaman  makanan yang disajikan juga lumayan enak  apalagi jika malam hari ini pemandangan resto sangat bagus',\n",
       " 'saya mampir ke restoran ini untuk makan malam karena kebetulan lewat dalam perjalanan menuju hotel saya menginap dan karena sudah kelaperan dan saya dan teman akhirnya memilih untuk mampir di restoran ini  rasa makanannya biasa saja bahkan kami diharuskan membayar terlebih dahulu meskipun kami belum selesai makan hanya karena jam sudah mendekati waktu tutup ',\n",
       " 'kesan pertama menginap di sini  check in tidak bisa jam 2 siang karena yang menginap sebelumnya terlambat check out  tidak ada apa pun yang ditawarkan pihak staf saat kami harus selama satu jam menunggu kamar dibersihkan  kemudian kami juga diberitahukan bahwa restoran tutup jam 5 sore sehingga jika ingin memesan makanan untuk makan malam harus sebelum jam 5 sore  cukup menyebalkan ',\n",
       " 'menikmati kota bandung tanpa kuliner  kurang seru  kafe halaman  menyajikan makanan indonesia  gado gadonya enak  pisang goreng kejunya juga enak serta secangkir kopi sambil menunggu teman datang sangatlah menarik',\n",
       " 'setuju makin naik fase wajar kalau tiket naik  tapi  harga dasar di saat fase penyisihan sudah kemahalan  coba bandingkan harga menonton di malaysia  thailand ',\n",
       " 'saya dan isteri tergoda untuk mengunjungi restoran ini saat kami sekeluarga berkunjung ke pontianak minggu lalu  karena berdasarkan penilaian trip advisor abang kepiting merupakan restoran terpopuler di pontianak  malam sekitar jam 7 saya dan isteri sudah sampai dan mendapati suasana restoran yang tidak terlalu ramai terisi sekitar 4 meja saja  karena kami hanya berdua ingin berbincang ',\n",
       " 'saya tiba di rumah makan ini pada saat menjelang jam makan siang  awal saya tiba rumah makan ini hanya ada beberapa pengunjung yang sedang bersantap  namun  ketika tiba jam makan siang rumah makan ini penuh dengan para warga kota makassar  banyaknya warga kota makassar yang tiba untuk makan siang menggambarkan bahwa tempat ini merupakan rumah makan favorit di kota makassar ',\n",
       " 'tiket waterboom pik jakarta dikabarkan naik',\n",
       " 'lokasi agak jauh dari kota bandung dan sekarang ada 2 gerbang pembayaran untuk bisa ke the peak dengan total 5000 rupiah  ini seperti pemaksaan untuk pungutan liar karena anda tidak akan bisa ke the peak tanpa melewati kedua gerbang ini ',\n",
       " 'data lengkap  jangan percaya kpk ini bohong  kasus ini di audit 10 tahun lalu dan sudah lengkap  karena habis itu ada audit aliran dana dengan tujuan khusus  kalau mau kan minta audit lagi  sudahlah  kasus century itu skandal melindungi elit tertentu ',\n",
       " 'sangat dianjurkan  masakan enak banget benar benar  kita duduk di tempat saung yang di bagian atas pas jam jam matahari terbenam  makan malam ditemani sunset deh  dan itu baguus banget ',\n",
       " 'rcti terlalu banyak iklan tidak jelas  sangat menggangu',\n",
       " 'baik  selain wisata wahana saya juga suka wisata kuliner  sejak saya di bandung kuliner yang paling saya buru adalah siomay dan batagor  mungkin kalau batagor saya sudah akrab dengan batagor kingsley yang rasanya melegenda  untuk urusan siomay  rasanya tidak salah kalau traveler memanjakan perutnya di saung siomay ini  seperti judulnya  teksturnya lembut  bumbunya juga pas kena banget ',\n",
       " 'penyajian cukup cepat  pelayanan baik dan pastinya masakan enak  untuk harga relatif sesuai dengan rasa masakannya ',\n",
       " 'mau marah sama indosat  sudah dua hari sinyal begini banget',\n",
       " 'sudah indosat bangkrut saja  di tmpt ku saja sinyal tb2 kdg hilang muncul hilang muncul  padahal daerah kota semarang',\n",
       " 'transaksi beli pulsa pln pra bayar melalui mandiri mobile menjadi tidak efisien karena harus telepon 14000 untuk dapat tidak tokennya   tidak otomatis ',\n",
       " 'tidak mesti di ruang tertutup buat pertemuan  pertemuan di resto ini juga asik  jangan lupa memesan nasi goreng dendeng sama teh tarik ',\n",
       " 'samsung galaxy s sudah diluncurkan semalam  saya kecewa desainnya standar banget  harapan saya cuma terwujud 70   percuma terbawa sampai mimpi ',\n",
       " 'sayang restorannya kotor  lihat kecoa kecil di dekat piring piring sayur bersih yang dipakai untuk menyajikan makanan  dan ada kecoa kecil juga di tempat duduknya  berharap kebersihan tempat diperbaiki ',\n",
       " 'iya harganya 120 ribu  saya juga sudah cek tokopedia ',\n",
       " 'senang rasanya dapat mengakhiri perjalanan kita di bandung dengan kunjungan terakhir kita berhenti di the valley pada tanggal 2 november  hari itu adalah acara dalam menrayakan hari perpisahan bersama teman kita yang baru akan pindah ke kantor baru  menunya sangat bervariatif tetapi ribs langsung menjadi pilihan saya  menurut saya  harganya sebanding dengan rasa makanan  top ',\n",
       " 'kapal km fungka permata v terbakar  sedikitnya 13 tewas',\n",
       " 'somasi yang dilayangkan rohayani  seorang pecandu rokok  kepada pt gudang garam  tbk dan pt djarum belakangan memunculkan isu lain ',\n",
       " 'pakai kartu kredit bca tidak untung malah rugi besar',\n",
       " 'restoran ini bukan sekadar tempat makan biasa  tapi juga bisa dijadikan tempat wisata  lokasinya sangat dingin  tempatnya juga bagus  nyaman  dengan pemandangan yang eye catching  menu yang disediakan juga beragam dengan rasa yang enak  tidak perlu menunggu lama dalam penyajian makanannya  harga juga relatif terjangkau  untuk tempat berfoto juga bagus ',\n",
       " 'lokasi mudah dijangkau  penataan restoran average  menu makanan lumayan variatif dan rasa masakannya enak  harga terjangkau',\n",
       " 'ya serba salah memang  macet mengeluh  tidak macet heran ',\n",
       " 'rumah makan ini terletak di jalan abdurahman saleh  tempatnya nyaman dan bersih  menu masakannya banyak pilihannya  rasanya cukup enak dan harganya juga sepadan dengan rasa masakannya ',\n",
       " 'kadang mikir gimana ya rasanya jadi perempuan di gym  banyak mas mas dan om om melihat  pasti risih dan tidak nyaman ',\n",
       " 'kami datang makan ke restoran itu  mengajak keluarga kakak saya  mereka semua sangat menyukai kualitas masakan di sini  kami pesan udang goreng telor asin dan rasanya sangat enak dan melebihi kualitas resto di hotel bintang lima  sangat direkomendasikan ',\n",
       " 'pelayanan solaria sungguh tidak memuaskan hampir di seluruh cabang yang ada di jakarta  tidak rekomendasi banget ',\n",
       " 'temanku melamar pekerjaan di tokopedia',\n",
       " 'bukan cuma bisnis keluarga  tetapi menjaga kepentingan negara dan masyarakat tanpa membenturkannya dengan kepentingan global ',\n",
       " 'terletak di daerah perbukitan sehingga udara dan pemandangannya sangat nyaman  di samping itu terdapat berbagai pilihan menu makanan nusantara  steak maupun pasta juga ada ',\n",
       " 'baik  terima kasih atas jawaban yang begitu lengkap dan jelas ya',\n",
       " 'ayam gorengnya enak  terong gorengnya juga  sayang mau coba jengkol gorengnya sudah habis  oh ya jus kefonfongnya juga segar ',\n",
       " 'senin pagi memang selalu tidak bersahabat  mulai dari pakai jilbab berantakan  jalanan macet  transjakarta arah senayan ramainya astaghfirullah  absen telat lewat jam 8  ga ikut doa pagi ',\n",
       " 'cemburu itu rasanya tidak enak  cemburu itu makan hati  cemburu itu sakit  kalau tidak diungkapkan',\n",
       " 'keunggulan holycow dibanding resto steak lain adalah wagyunya yang mantap  favorit saya adalah wagyu sirloin steak yang dinikmati dengan mushroom sauce  rasanya mantap  dagingnya tebal dan dinikmati dengan butiran jagung rebus  sayur bayam dan masih potatto  enak dan mantap ',\n",
       " 'hai ditha  kami informasikan bahwa pembayaran kamu telah masuk ke akun rekening kami namun pemesanan tidak berhasil ',\n",
       " 'cuma kalau besok mau mencari  dia ada di rak yang dekat cream krim wardah bersebrangan sama rak lotion citra  sister ',\n",
       " 'resto dengan konsep saung2 yang terletak di dalam komplek perumahan  makanan yang disajikan beragam mulai dari sundanese  makanan barat  dll  udara cukup dingin di malam hari atau ketika hujan jadi disarankan membawa jaket  jalan antar saung menggunakan batu batu sehingga kadang kadang licin ketika hujan',\n",
       " 'tempatnya nyaman banget  makanannya enak  kopinya enak  pas buat nongkrong bareng teman teman atau makan malam ',\n",
       " 'kalau kuota saya besok tidak balik  saya mau marah marah ke indosat',\n",
       " 'tempatnya nyaman  makanan lumayan enak  buat yang mau ngobrol lama lama cocok sekali ada banyak tempat lesehan nyaman banget plus udara yang sejuk ',\n",
       " 'rasa makanan cukup enak  lokasi cukup strategis dekat eskalator turun dan naik mal  secara keseluruhan baik mantap ',\n",
       " 'hai  ya  silakan kamu dapat mencoba lakukan pembayaran pdam di bukalapak ',\n",
       " 'enkaolshop  terpercaya  barangnya bagus bagus',\n",
       " 'aslinya ini basa berada di jalan karapitan setahu saya  sekarang memenag sudah tersebar di beberapa tempat di bandung  makanannya juga tidak hanya bakso  tetapi ada beberapa makanan tambahan yang lain  untuk rasa juga tidak terlalu spesial  untuk harga dengan ukuran harga bakso di bandung cukup mahal  ditambah pelayannannya yang kurang bagus di ciwalk ',\n",
       " 'seharusnya masih berhak mendapatkan cahsback 5 j uta dengan cara berlangganan paket iplan 500k selama 24 bulan kak  dan bisa juga cicilan 0  menggunakan cc bca  bni  mandiri  cimb niaga ',\n",
       " 'tidak menyesal juga makan di solaria tempatnya bersih dan cocok buat keluarga juga  makanan cepat keluar setelah dipesan ',\n",
       " 'copot dari keanggotaan polisi saja  daripada jadi perusak nama baik korp ',\n",
       " 'menyesal tadi ke toko itu  malah beli hal hal yang tidak akan terpakai  cuma karena lapar mata jadi beli ',\n",
       " 'makan di pinggir jalan  makanannya tidak enak  pelayanan tidak bagus  harga mahal ',\n",
       " 'untuk mengajukan kerjasama   sponsorship ibu elsa dpt menghubungi  pt  bank mandiri persero tbk corporate secretary',\n",
       " 'produksi lagi dong indomi goreng sate  dicari cari sudah tidak ada  rasanya enak beda dngan rasa sate merk lain',\n",
       " 'pagi pagi ingin marah dengan sinyal telkomsel ',\n",
       " 'antriannya lama  makanannya juga lama dan rasa makanannya biasa saja dan mahal',\n",
       " 'parah banget xl deh sekarang sepertinya  harus ganti provider lain cuma mahal doang kualitas jelek',\n",
       " 'kereta mutiara timur malam  sby   bnywangi eksekutif tetapi kursi jorok dan kotor sekali  tidak sesuai dengan harga yang sangat mahal  sangat mengecewakan',\n",
       " 'saya memilih tempat makan di saung dengan pemandangan sawah memesan nasi timbel komplit  surabi oncom dan colenak pesanan datang tidak harus menunggu lama  hanya saja saya kecewa dengan serabinya  di luar ekspektasi saya  tidak enak ',\n",
       " 'payah sekali pelayanan pos indonesia saat ini',\n",
       " 'ini indihome saya gangguan lagi ini  saya lagi ada kerjaan tiba tiba terputus  merah kedip kedip  baru seminggu baik wifinya  sudah gangguan lagi  indihome telkom sekarang banyak gangguan ya  bayar selalu mahal  mengecewakan sekali ',\n",
       " 'menurut saya bebek garang ini punya varian menu bebek yang cukup banyak  saya suka perpaduan antara bebek dan sambalnya  rasanya pas  untuk harga berkisar 20   30 ribu dan menurut saya cukup sepadan dengan rasa dari makanan di sini ',\n",
       " 'cocok buat pertemuan  acara pernikahan  pemotretan  suasananya tenang  santai  adem ',\n",
       " 'setiap kali ke sini saya ingin berlama lama dan tidak mau pulang cepat  pelayanan yang ramah dan tempat yang nyaman ',\n",
       " 'restoran ini menyajikan masakan bali yang sarat modifikasi sehingga terkesan disesuaikan dengan lidah konsumen yang nota bene bukan orang bali  tiga photo yang saya lampirkan itu adalah makanan yang kami pesan ',\n",
       " 'kalau di banyak tempat steak membutuhkan waktu lama sebelum penyajiannya  di tempat ini menurut saya cenderung cepat dan sesuai dengan lidah maupun dengan dompet saya  saya pernah menunggu teman sampai 2 jam di sini  tapi tidak berasa karena makanannya membuat saya lupa waktu  hehe',\n",
       " 'kalau mau beli obat pergi saja ke kimia farma yang berada di ujung jalan itu',\n",
       " 'pelajaran matematika anak sd sekarang sulit sulit',\n",
       " 'restoran di sini selalu penuh karena letaknya yang strategis di pintu masuk mal  rasa bubur cukup enak  proses penyajian dari order sampai penghidangan juga cukup cepat ',\n",
       " 'habisnya aku lagi galau kak maka dari itu bikin story kayak begitu',\n",
       " 'untuk yang sedang ke cirebon dan cari tempat yang enak parkirnya dan makanannya butuh cepat  lebih baik ke sini karena parkiran luas dan suasana nyaman',\n",
       " 'mm sedih deh kalau ke sini selalu menunggu  mienya pedas banget  hehe bangkunya juga tambahkan dong biar tidak menunggu',\n",
       " 'memang faktanya kami punya banyak tanah di sini  mau apa lo   maka dari itu kerja biar bisa banyak duit kayak kami kami  jangan cuma bisanya menghujat saja',\n",
       " 'restoran the valley ini pemandangan ke kota nya nomor 1  menikmati suasana malam hari dengan lampu kedap kedip indah sekali ',\n",
       " 'kalau ke semarang wajib makan mie kocok ini  menurut saya paling enak  walaupun tempatnya dipinggiran ruko  dan untuk makannya mesti berusaha untuk dapatkan bangku  tapi layak banget kalau dibandingkan rasanya  kikilnya banyak  kuahnya gurih banget dan mienya lebar dan tipis  harganya juga terjangkau  teh terbaik mie kocok di semarang ',\n",
       " 'maling yang sebenarnya sudah di pastikan bernama lulung',\n",
       " 'memang ya sepertinya aku tidak ditakdirkan nikmatin indomie goreng  padahal cuma merebus minya lho  bisa bisanya terlalu lembek  ',\n",
       " 'nike mengeluarkan produk sepatu terbarunya',\n",
       " 'waktu saya ke restoran itu  pelayannya mendatangi saya dan bertanya untuk berapa orang ',\n",
       " 'roti bakar duti ini sudah ada sejak dulu di sini  rotinya biasa saja sih  hanya menu pilihannya buanyak banget  apa saja ada  sampe kadang bingung mau pilih yang isi apa  ada jual bubur juga  oke jugalah ',\n",
       " 'kuota jadi habis terkuras buat melihat foto foto yang cuma bikin saya iri  makanan enak enak yang bikin ngiler',\n",
       " 'saya suka sekali makan di restoran ini  menu masakannya beragam  rasanya enak  harganya tidak terlalu mahal  ',\n",
       " 'kurang pas apabila berkunjung ke bandung tanpa mencicipi batagor  batagor burangrang adalah salah satu yang rasanya enak dan sausnya pun gurih ',\n",
       " 'yang makan ramai  antre  menu masakan  masakan standar seperti di rumah  rasa biasa saja  harga tidak sesuai kualitas rasa ',\n",
       " 'saya bisa bilang ini adalah resto yang cocok untuk keluarga  sambil istri saya belanja oleh oleh  saya bisa menikmati makan siang di resto ini  anak anak saya bisa bermain di tempat bermain dengan tiket yang murah  ',\n",
       " 'tempatnya ramai sekali  makanan bervariasi  desain dan lingkungan nyaman  udara sejuk  banyak tempat bermain anak ',\n",
       " 'baik kak  berkenan menunggu untuk kendala pada provider telkomsel akan direspon oleh rekan kami ',\n",
       " 'kasihan personil ungu sekarang sepi job gara gara ditinggal pasha',\n",
       " 'kalau ada pulsa segudang  akan mengaktifkan wifi buat semua orang biar bisa internetan',\n",
       " 'menkeu menyampaikan bahwa lemahnya rupiah lebih berpengaruh pada defisit transaksi berjalan',\n",
       " 'pagi pagi di tol cipali sudah macet parah  bikin jengkel saja ini',\n",
       " 'perihal pergantian rekening untuk pembayaran autodebet bpjs  bapak luqman bisa datang ke kantor cabang bank mandiri pengajuan autodebet tersebut ya  untuk dapat dilakukan tutup rekening terlebih dahulu ',\n",
       " 'mobil yang sehari hari dipakai jeje adalah merk toyota dan berwarna krem ',\n",
       " 'suasana sawah dan pegunungan  ada wine cellarnya  tapi makanannya mahal  mestinya kualitas bisa lebih baik karena banyak restoran serupa di bandung sekarang sudah menjamur',\n",
       " 'paling kesal kalau ada orang mengobrol di jalan sambil motoran apalagi kalau jalannya sempit',\n",
       " 'pelayanan kurang aktif dan tidak ramah serta kurang dapat menjelaskan menu makanan yang ada  sehingga tamu merasa tidak diacuhkan dan didiamkan saja ',\n",
       " 'restoran sangat bagus  pemandangan menghadap ke kota bandar lampung  sehingga sangat indah pada malam hari  suasana sangat tenang  dekorasi ruangan sangat cantik  saya sangat suka tempat ini ',\n",
       " 'calon pelamar cpns hanya dapat mendaftar di 1 instansi dan 1 formasi jabatan',\n",
       " 'makanan lumayan  saya order spring roll agak oily  harga hidangan utama cukup mahal  bangunan unik tapi lokasi tidak terlalu bagus sehingga tempatnya selalu terlihat sepi  saat order sebaiknya menyampaikannya lebih jelas  sebab yang terjadi pada kami  kami order 2 tapi menerima 3 item  pelayan sangat ramah  tapi sikap kasirnya sedikit aneh  mungkin saya tidak akan kembali lagi ',\n",
       " 'ikan gurame bakar dan cah kangkung yang disajikan di red s dipo yang saya beli pada saat makan siang pada bulan november 2012  rasanya lumayan oke  hanya saja cabe pada sambalnya dan sayurannya seperti  timun  tomat dan kangkungnya juga jeruk pada es jeruknya terasa kurang segar ',\n",
       " 'karya bakti bca finance posisi relationship officer membuka lowongan untuk penempatan pekanbaru',\n",
       " 'makan bakso sambil ngobrol sama teman teman  tempatnya asik buat makan  harganya tidak terlalu mahal ',\n",
       " 'di tengah proses hukum  warga tamansari bandung hadapi tekanan penggusuran',\n",
       " 'hari ini mau belanja di toko itu supaya bisa dapatkan peralatan masak keren plus kesempatan liburan ke belanda ',\n",
       " 'jangankan 1 jam  ngeplay stories yang cuma beberapa detik saja loadingnya lama sekali  indosat luar biasa ',\n",
       " 'tidak bosan dan terkesima  setiap datang ke congo kafe  tempatnya tenang  nyaman  coba deh datang malam hari  lebih romantis  kalau bawa pasangan',\n",
       " 'harganya sangat terjangkau dan menu makanannya cukup kekinian  tempat makannya didekor dengan baik dan unik ',\n",
       " 'tempatnya kurang bersih  untuk pergi ke sana agak susah karena rawan macet  jadi berpikir dua kali kalau mau kembali lagi ',\n",
       " 'tim saya akan mengadakan makan malam tema di burgundy  daripada tersesat  saya dan sekretaris saya mencoba mengecek tempatnya dahulu sehari sebelumnya  sekalian juga tes makanan  perjalanannya jauh sekali dan naik turun bukit  diperparah ketika kami ke sana itu hari minggu sore sehingga macet  sesampainya di sana sih pemandangannya oke  tapi layout restorannya biasa saja ',\n",
       " 'saya gunaka bb tipe 9210  saya mendapat info sejak kemarin  dikenakan biaya gprs ',\n",
       " 'handphone saya lenovo  kecemplung di comberan pas 2 minggu baru beli  jatuh di aspal pas ngebut naik motor sampai isinya ke mana mana  telepon genggam saya masih bertahan  mantap memang lenovo ',\n",
       " 'batagornya besar besar dan dagingnya terasa banget  mantap deh  bumbunya rasanya enak  cocok kalau dijadikan menu untuk makanan ringan sore hari ',\n",
       " 'sangat melelahkan malam ini ',\n",
       " 'saya sudah kirim email complaint karena telepon tidak masuk terus ',\n",
       " 'porsinya banyak kepiting kisaran 100 ribu   porsi  udang bakarnya enak  enak bumbunya penuh rempah  harga dan rasanya bersaing dengan perahu seafood jalan sumatera ',\n",
       " 'rizal ramli beberkan cara stabilkan harga beras',\n",
       " 'saya sebagai warga jakarta malu kang sama oknum yang tidak bertanggung jawab yang mau sweeping bobotoh',\n",
       " 'bali adalah salah satu pulau yang menjadi tujuan destinasi para turis ',\n",
       " 'perjalanan kali ini dalam rangka urusan mencari tempat yang rekomendasi untuk klien kami  jarak tempuh dari bandung kota cukup jauh memang  tetapi hal tersebut bisa terbayar dengan pemandangan yang yang cantik di waktu malam dan makan malam dengan makanan dan pelayanan okay ',\n",
       " 'lokasinya memang sedikit tersembunyi di sudut sebuah perumahan  konsep tempatnya bagus  seperti rumah di pedesaan eropa dengan lantai dan dinding kayu  selain di dalam  pengunjung bisa menikmati makanannya di kursi kursi di area taman yang unik menggunakan drum bekas ',\n",
       " 'kami menjual kabel hdmi premium 1 meter beli 2 gratis 1 di lapak rich com store ',\n",
       " 'tidak mau tahu  balikin pulsa saya  ini namanya perampokan  paket nelp kalian juga perampokan  baru ini saya komplain ',\n",
       " 'daun memiliki berbagai jenis bentuk ',\n",
       " 'saya dan keluarga mencoba bersantap di karamba resto karena sopir mobil sewa kami merekomendasikannya  kami memang tiba di tempat agak malam sekitar pakai  21 meskipun restoran belum tutup atau bersiap siap akan tutup  namun beberapa menu telah habis  bahkan ibu dan suami saya memesan nasi timbel yang sayur asemnya sudah habis dan diganti sup sayur oleh pihak resto  tidak banyak pilihan yang bisa kami pilih  kurang rekomendasi ',\n",
       " 'berubah status jadi universitas  bsi gelar seminar motivasi',\n",
       " 'rumah makan zaman dahulu namun rasa tetap sama enaknya  ayam dan nasi kreceknya enak sekali  kadang saya sengaja beli untuk bungkus ke rumah',\n",
       " 'agak kesal juga kalau tiap hari lewat sana melulu  sempit  dua arah  macet sudah jadi makanan sehari hari',\n",
       " 'adikku diterima di teknik lingkungan itb',\n",
       " 'tolong cepat tindaklanjuti pengaduan saya  sebelum korban meretas gopay jadi bertambah ',\n",
       " 'menu utama andalan mereka adalah ayam betutu yang dapat dipilih variasi rasanya mulai dari tidak pedas hingga sangat pedas  selain ayam juga ada bebek betutu dengan variasi rasa yang sama ',\n",
       " 'tidak pernah bisa bicara kata kata kasar ke pasangan walau tujuannya bercanda   memang lagi marah banget karena saking respeknya saya ke dia',\n",
       " 'kemarin mereka mendaftar beasiswa djarum',\n",
       " 'kak adit aku pesan indominya satu',\n",
       " 'oh iya diketerangan kan note 3 pro  kok yang dikirim note 3 ya  kecewa juragan',\n",
       " 'pria tabrak warga dengan mobil di prancis  2 terluka',\n",
       " 'saya penasaran pingin makan di sini  ketika pesan  suara mas masnya kecil sekali ampun deh tidak jelas bicara apa blubup blubup begitu haha  saya memesan mi ayam 2baso ekstra  pacar saya memesan bakso urat soun  tidak lama datang pesanan pacar saya dan ternyata tidak sesuai ekspektasi ',\n",
       " 'teman saya bekerja di gojek',\n",
       " 'ya  saya sudah hubungi via halo bca  namun terputus terus dan pulsa saya kepotong banyak kalau telepon berulang ulang ',\n",
       " 'suasana sejuk  hijau  menyegarkan dan sangat cocok untuk refreshing saat kabur dari rutinitas  untuk makanan yang mahal menurut saya bukan masalah karena lokasi yang bagus lebih penting ',\n",
       " 'bosan dengan dunia ini yang penuh dengan kemunafikan',\n",
       " 'orang sekarang kebanyakan sulit menghargai orang lain',\n",
       " 'tempat ini mengimingi makan steak dan daging dengan harga murah  namun kenyataannya tidak murah jika dibandingkan dengan kualitas dagingnya yang tidak enak  dagingnya keras dan rasanya hambar ',\n",
       " 'pagi sudah marah marah karena pelayanan di bank cabang sanur yang tidak professional dan mengecewakan  tidak salah banyak penilaian customer jelek ',\n",
       " 'pergi untuk makan siang bersama 6 keluarga yang terdiri dari orang dewasa dan anak anak  kami mendapatkan saung yang jauh di atas  kebayang dong jalan ke atas yang sangat melelahkan  tempatnya memang bagus tapi lokasi saung yang sangat jauh dan melelahkan menuju ke atas  saran saya kalau mau ke situ jangan pas makan siang karena pasti penuh  harga makanan lumayan misil  tapi pemandangannya bagus sekali ',\n",
       " 'steiknya lumayanlah enak  warung ini cocok buat pelajar atau mahasiswa hehehe karena harganya terjangkau  untuk makanannya oke kok ',\n",
       " 'menurut saya makan di sini porsinya banyak dan harganya murah  terus makannya cepat datangnya lagi dan tempatnya juga bersih dan luas',\n",
       " 'orang indonesia itu butuh pemimpin visioner bukan penghibur ',\n",
       " 'tong dji menyajikan aneka makan dan minuman  tidak hanya teh  yang direkomendasikan  teh poci gula batunya dan nasi goreng',\n",
       " 'saya bukanlah penggemar berat kambing karena tidak tahan dengan baunya  tapi makan di tempat ini  saya seperti tidak sedang makan kambing  dagingnya empuk  enak dan tidak berbau  suasana restonya pun enak dan nyaman',\n",
       " 'saya mau tutup kartu kredit dari beberapa bulan lalu  nih ',\n",
       " 'yang benar benar real tidak ada settingan',\n",
       " 'duh indosat mengecewakan  aku mau daftar baru kok malah kena tarif per kb  pulsa berkurang drastis',\n",
       " 'aku memesan jaket gunung eiger',\n",
       " 'pelayanan sih memang cepat tapi masakannya asal asalan saja  asal jadi asal matang saja  pesan udang saos tiram  sama saja dengan masakan kepiting saos padang  tang untuk kepiting tidak diberikan jika tidak diminta ',\n",
       " 'restoran dengan konsep tempat makan yang sangat asri  apalagi kalau malam suasananya sangat indah dengan lampu lampunya  makanannya pun enak rasanya  cocok untuk tempat kumpul keluarga ',\n",
       " 'pertama coba karena ulasan beberapa orang tapi ternyata rasanya biasa saja  sepiring 30 ribu  sulit cari tempat duduk ',\n",
       " 'tadi katanya suruh tunggu saja sampai sms diterima  sudah seharian tidak ada juga ',\n",
       " 'saatnya membuat karya visual 360 derajat dengan samsung  ikuti langkah mudah di video ini ',\n",
       " 'katanya detil aroma chamomile  tapi kok baunya tidak enak begini sih',\n",
       " 'saya sangat puas dengan spesifikasi laptop asus',\n",
       " 'wekkend yang menyenangkan bersama keluarga di tempat yang fasilitasnya memadai dan harga terjangkau  liburan makin menyenangkan dengan adanya kebun stroberi yang bisa memetik langsung dari kebunnya ',\n",
       " 'mohon perhatiannya admin  jaringan di cileungsi bogor sangat buruk kualitasnya  padahal bayarnya mahal ',\n",
       " 'makanannya lezat  ayam goreng  tumis terong  sup ikan  tempe goreng  sambal  pelayanannya juga bagus ',\n",
       " 'pertama kali ke tempat ini  reservasi dan dapat nomor 3  minta tempat di lantai bawah sehingga tidak perlu naik tangga karena ada yang lututnya sedang sakit  menunggu hampir 40 menit tanpa kepastian  saya batalkan  tadinya tidak mau beri rating 1 karena memang mungkin ramai dan permintaan saya khusus  jadi sulit  eh mbaknya malah ketus ',\n",
       " 'hasil quick count pilkada serentak 2018 diwarnai banyak kejutan ',\n",
       " 'pemandangan bagus untuk santai bersama di sore hari dan malam hari  makanan cukup variatif dan enak ',\n",
       " 'saya dan sodara istri saya sedang menghabiskan waktu di palembang  saya mencari tempat makan dan bertemulah bakmi jogya  setelah masuk terkejutlah karena saya harus mencari tempat duduk dan mencari tempat yang kosong saya terlantar selama 35 menit  setelah memesan dengan menu mi godok  lagi saya menunggunya sejam dan ini membuat saya hilang selera makan itu pun ditanyakan ke tukang masak ',\n",
       " 'tempat tidurnya kotor  bantalnya bau semua    buat badan jadi gatal kayak banyak hewannya  jadi tidak bisa tidur dengan nyenyak ',\n",
       " 'perjalanan malam ini sungguh melelahkan ',\n",
       " 'saya ke sini bersama beberapa teman untuk makan siang  akses jalan menuju lokasi kafe ini sangat sempit dan terjal  bahkan beberapa bagian rusak  kami memesan beberapa menu makanan  setelah menunggu cukup lama  ketika makanan datang rasa dan tampilannya mengecewakan  ternyata rasanya juga mengecewakan ',\n",
       " 'sesuai namanya creative space kafe sehingga banyak karya seni yang bisa dinikmati di dalamnya dan beberapa patung di bawah  sedangkan di atas ada kafe dengan desain yang menarik dan cocok dikunjungi di sore hari  tempatnya yang berada di lokasi tinggi membuat tempat ini punya pemandangan yang bagus ',\n",
       " 'selamat siang orang miskin  semoga kalian cepat mati atau makin miskin dan sengsara ',\n",
       " 'gojek akan mulai membuka layanan mereka di beberapa negara asia tenggara ',\n",
       " 'percayakah masyarakat indonesia dengan karangan bapak polisi yang terhormat ini  yang katanya sudah bertemu dengan pemotornya  silakan anda nilai mengarang di bawah ini  dapat nilai berapa ',\n",
       " 'bandung di mana macet  jatinangor juga seperti tol brexit  bisa pingsan dalem mobil kelamaan menunggu ',\n",
       " 'waktu kami datang kami dalam daftar tunggu  walau banyak tersedia kursi kosong  mungkin beberapa tidak terpakai  namun staf tetap ramah walau ada beberapa pelanggan yang tidak senang dengan menunggu sambil melihat banyak kursi yang kosong  order makanan di belakang restoran  dan menunya lumayan enak bagi kami  ini kunjungan kedua kami  dan satu hal yang mengingatkan kami adalah penjual balon ',\n",
       " 'kwetiauw goreng dan teh tarik menjadi pilihan makanan saya di sini  meskipun ada beberapa yang besan mi yamin  anda boleh coba juga nasi gorengnya',\n",
       " 'bulan ini saldo di rekening saya nol ',\n",
       " 'hotel ibis tamarkan wahid hasyim sangat mengecewakan untuk pelayanan  terutama masalah reservation  parah abiz ',\n",
       " 'jutek banget deh karyawan indosat yang di graha indosat',\n",
       " 'aku tidak pernah menyesal mencintaimu ',\n",
       " 'makanan di sini enak loh  lebih enak ketimbang tempat makan sejenis di balikpapan  tetapi ya harganya lebih mahal juga  hhe   orang jatuhnya 100 ribuan lebih  tapi puas karena rasa makanannya enak  kuah tomyamnya  mm  enak ',\n",
       " 'walaupun porsinya besar  tapi secara rasa  biasa saja  harga tidak sesuai dengan porsi sih  penyajiannya juga tidak begitu rapi  ya begitu saja ',\n",
       " 'ini kunjungan pertama kami ke restoran cabang utama  sebelumnya kami sering pesan dari cabang yang lain  karena kami sangka di sini suasana lebih bagus dan menu lebih banyak  tetapi saya terkejut dengan sikap pelayan yang tidak ramah  kami akan duduk di sofa luar atas saran pelayan wanita  tetapi pelayan pria tidak mengizinkan dengan alasan malas membersihkan ',\n",
       " 'badan pemerintah satu ini harus dibubarkan karena selama ini kerjanya tidak ada arti sama sekali ',\n",
       " 'bakpao ini sudah terkenal dari zaman dulu namun sampai sekarang masih banyak digemari karena rasanya yang khas ',\n",
       " 'pelayan dan pemilik yang duduk di kasir tidak komunikatif dan tidak bisa memberikan rekomendasi untuk porsi menu yang harus kami pesan  rasanya standar  parkir susah ',\n",
       " 'saat saya ingin mencari makanan yang berbagai macam pilihan  saya pun di rekomendasikan oleh teman untuk makan di sini  selain murah juga nikmat makanannya  hanya saja sedikit lama untuk kita menunggu pesanan ',\n",
       " 'tidak akan ada yang milih lagi  kamu pikir masyarakat sekarang masih bisa ditipu ',\n",
       " 'sangat kecewa sekali karena liga champions tidak disiarkan di channel manapun baik channel lokal ataupun channel olahraganya  seharusnya kalian perjuangkan hak siar itu karena pelanggan sudah bayar mahal ',\n",
       " 'mahasiswa jangan sok sokan deh ikut politik  belajar sana saja deh ',\n",
       " 'terdapat banyak taman kota di malang ',\n",
       " 'warga temukan 2 910 keping ktp el di semak belukar',\n",
       " 'saya senang dengan aplikasi gojek  memudahkan dalam banyak aktivitas',\n",
       " 'aku pernah instal traveloka  tapi karena tidak terpakai akhirnya aku uninstal lagi',\n",
       " 'tempatnya bagus buat foto foto  dan sejuk lagi udaranya  tapi jangan coba coba makan di situ  sudah harganya mahal  tidak enak lagi  menyesal deh',\n",
       " 'sayangnya  handphone xiaomi apa pun tidak bisa kalau cuma beli 16 gb karena software bawaannya itu gede banget',\n",
       " 'ini ada udang dibalik batu supaya anaknya itu dipilih jadi wakil presiden ',\n",
       " 'suka banget dengan menu kentang panggangnya  untuk harga  standar steak lah  rasa sebanding dengan harga  menurut saya suasana tempatnya cukup nyaman dan ada taman di bagian tengahnya  restoran yang wajib saya kunjungi kalau ke bandung lagi  ',\n",
       " 'kafe rindang dengan suasana pedesaan dan hutan berpadu apik dengan air terjun kecil yang indah untuk rasa cukup enak dan harga yang tidak telalu mahal  direkomendasikan bagi semuanya',\n",
       " 'otakmu nyatanya hanya sebesar kelereng ',\n",
       " 'jadi bosan  semua film sudah ditonton dan sekarang mati gaya ',\n",
       " 'bapak berkumis lebat itu menyebrang menggunakan zebra cross',\n",
       " 'banyak komen di tripadvisor membuat saya penasaran  bermodalkan perut kosong supaya melahap lontong padang kesukaan saya ternyata benar benar membuat kecewa  akhirnya saya cuma minta dibungkus saja selera makan pun menjadi luntur  masih mending makan lontong padang yang di itb  untuk rasa masih jauh',\n",
       " 'susah payah selfie demi si samsung galaxy  yang penting usaha dan tetap bernyanyi',\n",
       " 'makanan enak  suasana sangat asri dan sejuk dengan banyak pepohonan  dan suara air sungai yang mengalir buat tambah nyaman dan tenang  pelayanan yang cepat sehingga kita tidak menunggu lama  ada ruang salat yang nyaman  menu makanan enak harga terjangkau',\n",
       " 'tidak pernah bosan  dari tahun 1996 saya pertama kali kenal ayam goreng suharti  saya langsung katakan inilah ayam paling top yang pernah saya makan  resep rahasia dan bumbu kremesnya menambah cita rasa tersendiri dari ayam goreng legendaris asli indonesia ini',\n",
       " 'promonya menipu atau gimana ya  dicek katanya ada promo 77 ribu dapat kuota 30 gb diskon 40  dari harga aslinya  pas saya isi pulsa sebesar 80 ribu belum di daftarkan apa apa sudah banyak ke potong 5 ribu  kenapa bisa begitu ya  kecewa sih ',\n",
       " 'alternatif jasa bersih bersih di jakarta  aku udah nyobain  sejauh ini hasilnya lebih oke dari yang lain',\n",
       " 'istri saya beli beberapa produk di toko yang sama  dan beratnya belum sampai 1 kilo  menggunakan pengiriman via gosend  dikenakan ongkir 2x  kurang ajar ',\n",
       " 'kenapa aku baca pernyataan sikap para calon ketua umum ini semuanya membosankan  macam entahlah ',\n",
       " 'diajakin teman waktu masih kuliah  katanya satenya enak    tapi setelah dicoba kurang masuk sama selera saya    hehe hanya opini saya ',\n",
       " 'lelah dalam perjalanana yang lumayan jauh dari kota terbayar dengan suasana dan lezatnya hidangan  disempurnakan dengan pelayanan yang ramah serta cepat dari pramusaji  jangan lupa pilih desert buah stroberi segar dihidangkan dengan susu coklat  anda akan ketagihan ',\n",
       " 'parkiran sebenarnya luas  tapi karena pengunjung banyak  kami harus parkir di pinggir jalan  namun petugas keamanan sangat helpul mengarahkan  kesan tidak terlalu luas  selebar rumah tua standar  namun ternyata di dalam terdapat ruang yang luas  terdapat kursi dan sofa berbagai jenis  hampir tidak sama semua  namun kesannya jadi menyenangkan untuk kumpul ',\n",
       " 'makanan di sini cukup enak  tapi harganya cukup tinggi menurut saya  kami mengambil pondokan di area seperti persawahan  saat makanan datang cukup banyak lalat  sempat kesal sesaat karena permintaan lilin agak lambat direspons  pelayan yang membawa makanan lama baru menanggapi pesanan  mungkin masih baru ',\n",
       " 'tempat makan ini sebetulnya cukup menarik karena berbagai kuliner indonesia tersedia di tempat ini  namun sayang  mungkin karena terlalu menarik  jadi jumlah pengunjung rasanya melebihi kapasitas tempat yang tersedia  jadi terkesan sesak',\n",
       " 'tidak ada matinya menyusuri kafe di bandung  termasuk tempat ini  bagus tempat banget deh  kopi lattenya juga pas dengan lidah saya  harga  setimpallah ',\n",
       " 'pengalaman yang cukup seru  makan tanpa alas piring  tapi hanya dengan alas daun  makin nikmat  makanan sunda yang sangat bervariatif dan cukup enak  tipsnya  jangan terbawa emosi dan kalap memesan dan memilih semua makanan yang disediakan biasanya kalap kalau sudah melihat makanan macam macam begitu  pilih seperlunya ',\n",
       " 'pemandangan yang luar biasa dari kafe ini  menyajikan sentuhan cemara dan eksotisnya alam hutan raya bandung  selain itu makanan dan minuman yang terbilang murah banget  keren ',\n",
       " 'waktu pertama buka lumayan  tetapi makin ke sini kualitasnya menurun  minya kurang rasa  juga kuahnya ',\n",
       " 'resto tempat makan kambing bakar yang saya rekomendasikan sewaktu anda berkunjung ke kota ini  kambing bakarnya enak  gurih plus jauh dari yang namanya bau kambing serta empuk  sop buntutnya pun tidak kalah sedapnya  tempatnya pun asyik banget  cocok juga buat yang ingin menghabiskan waktu bareng keluarga atau teman ',\n",
       " 'penasaran dengan ulasan orang  spesial cari waktu ke warung sale  awalnya semangat  menembus macet  demilah  tapi kecewa dengan jalannya  selain jauh  kondisi jalan yang buruk membuat semangat mulai luntur  phisik bangunan unik  ada musik lift  kapasitas ruangan terbatas kayaknya  menu cukup unik dan kreatif  tapi belum cukup berharga mengobati kecewanya perjalanan ',\n",
       " 'minggu kemarin di kampung saya sempat ada jaringan 4g',\n",
       " 'kalau ke sini menyiapkan perut kosong ya karena di sini konsepnya bisa makan sepuasnya  puas banget makan di sini  sesuai kok sama harganya  aku sukanya nasi goreng  enak banget ',\n",
       " 'untuk menanyakan kredit mandiri finance bisa di sini juga ',\n",
       " 'sekarang restorannya bertingkat 2  sayangnya ketika saya ke sana acnya mati jadi gerah  dan yang membuat saya heran  saya tidak pernah dikasih struk ',\n",
       " 'kami berkunjung ke restoran ini pada malam hari  wow  tempatnya sangat romantis  lilin  jalan mendaki  konsep lesehan di tengah suara air terjun yang cukup dekat membuat suasana makan lebih nikmat ',\n",
       " 'tempat ini menyediakan beberapa makanan  tapi yang saya coba tentu saja batagornya  tempatnya pun bersih ',\n",
       " 'enak  yang jelas sambal tysonnya oke  makan pakai menu apa saja cocok  siap kepedesan dan timbangan naik kalau makan di sini ',\n",
       " 'silakan kunjungi toko kita buat yang kemarin cari handphone advan  xiaomi redmi 4a dan nokia 150',\n",
       " 'mahasiswa zaman sekarang terlalu banyak mengeluh tapi kurang berkarya',\n",
       " 'menunya simpel  pastanya banyak pilihan rasa  tempatnya nyaman  minuman juga banyak pilihan  ada makanan penutup juga  tambah jadwal live musik harusnya biar makin kece ',\n",
       " 'tagihan internet saya enggak masuk akal 250  lebih mahal kakak  butuh penjelasan ',\n",
       " 'kecewa banget  pesan dan bayar tiket pesawat dilakukan jam setengah 1 dini hari buat penerbangan jam6 pagi  e   tiket tidak dikirim  tiba tiba dihubungi via email kalau tiket yang sudah dibayar telah habis jam jam pagi  kalau tiketnya habis kenapa masih bisa dibooking ',\n",
       " 'sangat miris bin ironis  sikap tidak berkualitas  tidak layak jadi wakil rakyat 270 juta populasi penduduk dari sabang sampai merauke ',\n",
       " 'untuk makanan beragam hanya saja minyak terlalu banyak  gurame goreng tidak enak karena tidak digoreng garing  juice yang ditawarkan terlalu banyak air dan kurang segar',\n",
       " 'semoga selalu setia menemani rakyat indonesia dari sabang   merauke  dari kota sampai pelosok desa ',\n",
       " 'toyota menduduki peringkat pertama sebagai merek mobil yang paling bernilai ',\n",
       " 'maklum sesama maling harus saling melindungi  jadi yang dimasalahkan adalah soal prosedur dan bukan substansi bahwa anggota dewan tertangkap tangan terima sogokan ',\n",
       " 'rasanya lumayan  sambelnya juga enak  apalagi disajikan 3 macam model begitu  terus banyak pilihan sih sebenarnya mau makan apa di sini  mau gurame  mau kakap  bawal  kerang  cumi  udang  macem macem deh  asal jangan pesan ikan kembung saja  tidak ada di sini ',\n",
       " 'sekarang saya sudah terlalu membenci online shop buatan asing itu',\n",
       " 'dari zaman kuliah sampai sekarang masih doyan saja makan di kuis butcher  enak  terjangkau  tempatnya juga nyaman ',\n",
       " 'malas makan oreo  suka bikin gigi hitam',\n",
       " 'menu favorit saya adalah sup daging dan minumannya es cingcau hitam  rasanya enak  sangat rekomendasi ',\n",
       " 'pemandangan surabaya malam luarbiasa makanannya enak enak tetapi harganya luarbiasa juga jarak tidak terlalu jauh tapi pemandangannya luarbiasa dan suasananya asyik',\n",
       " 'hindari kepadatan  menhub imbau masyarakat tidak kembali ke jakarta bersamaan pada 1 januari',\n",
       " 'restoran dengan pemandangan yang menawan meskipun harus ditempuh dengan kondisi yang cukup curam  namun terbayar dengan tempat dan rasa yang oke',\n",
       " 'steak sebenar benarnya steak especially chiken cordon bulenya yang bikin kangen plus makan yang diselimuti pemandangan bandung yang top markotop  pas banget datangnya malam ya dengan pasangan bagaimana pun dengan keluarga juga tetap asyik  jalan menuju ke lokasi memang berli ku perlu usaha dan kerja keras ',\n",
       " 'ini salah satu tempat yang makanannya enak dan pemandangannya sejuk dimata  buat kumpul dengan keluarga atau teman teman merupakan tempat yang cocok ',\n",
       " 'menyebalkan  senin pagi beserta macet parah dan banjir',\n",
       " 'tidak ada yang terlalu istimewa dari restoran yang menyajikan menu makanan khas sunda ini  rasa beberapa makanan yang saya pesan sama saja dengan rasa rumah makan sunda lainnya  tidak mampu menumbuhkan rasa nikmat yang kuat dan membuat saya terkesan secara mendalam  hanya ayam goreng sambel penyet pesanan saya yang rasanya sedikit mendekati nikmat ',\n",
       " 'iklan youtube kenapa tidak bisa diskip sih  ganggu banget',\n",
       " 'pelayanan pt kami sangat memuaskan',\n",
       " 'pertama kalinya datang ke eatalia  saya datang bersama dengan teman dan 1 orang anak  tidak memusingkan ketika memlilih makanan untuk anak karena di sini menyediakan menu dengan porsi anak  kami memesan pizza dengan roti berwarna hitam  untuk keseluruhan menu yang saya pesan tidak mengecewakan ',\n",
       " 'menangkan hadiah keren cukup dengan mengikuti foto kontes baik untuk men di alfamart ',\n",
       " 'kalau ke bukittinggi jangan lupa singgah di pasar atas  banyak pilihan makanan enak  jangan lupa bawa kamera buat foto foto',\n",
       " 'inilah mitos yang membuat tahun baru menjadi seremonial dan artifisial  tanpa kedalaman makna',\n",
       " 'india sedang membuat superbike listrik berkecepatan tinggi',\n",
       " 'sudah lama saya ingin pergi jalan jalan ke luar negeri',\n",
       " 'tenderloin steak di suis butcher sangat enak   juicy  dan saus kuisnya pas di lidah  selain itu harganya pun pas di kantong  oleh karena itu  bersiaplah untuk mengantre apabila anda berkunjung di akhir pekan dan pada saat jam makan pula ',\n",
       " 'temanku juga banyak yang bekerja di bukalapak',\n",
       " 'minimal punten  saya mau beli tiket kami senen   yogyakarta pakai promo yang bulan mei ',\n",
       " 'disarankan jangan pergi ke sana ketika jam makan karena akan agak sulit untuk mencari tempat duduk ',\n",
       " 'parah pesan bukalapak pakai gosend kemarin sampai sekarang belum sampai bagaimana ini  barangnya butuh sekali',\n",
       " 'kamarnya bau rokok  seprai tidak diganti untuk tamu baru dan msih ada bekas abu rokoknya ',\n",
       " 'si a omongnya tong kosong nyaring bunyinya bicara tidak berbobot',\n",
       " 'sambalnya tidak akan ada di tempat lain  rasa terasinya sangat khas  asin manisnya pas  ruangannya memang kelas warung tapi jangan kaget waktu bayar harganya kelas resto tapi sebanding dengan kualitas makanannya',\n",
       " 'menurut saya steaknya cukup enak  hanya lebih baik pesan yang paling gede aja  itu lebih empuk dari yang lain  kalau ke sini  bisa sebarkan foto di media sosial dan mendapatkan es krim gratis  es krimnya enak loh  kalau segi makanan oke  dari pelayanan juga baik ',\n",
       " 'dijaga ya makannya gus emang lagi musimnya sekarang itu  iyasi jenuh itu malah bikin sakit',\n",
       " 'lama lama di sini gua bisa hipertensi ngadepin pasien bpjs  bayar tidak seberapa tapi mau pelayanan eksekutif dan ngomel ngomel  naik kereta saja kalau mau yang eksekutif',\n",
       " 'jika ada pertanyaan lebih lanjut yang ingin kamu ketahui atau mengalami kendala terkait dengan produk traveloka  jangan ragu untuk menghubungi kami kembali ',\n",
       " 'rasanya sih kok harga kaki lima dan rasanya ya tidak jauh dari situ ya  tempatnya saja sih bentuknya restoran  kalau soal rasa  ya gitulah ',\n",
       " 'minimal cek pesan saya  ada problem yang rumit  detailnya ada di dm',\n",
       " 'dulu restoran ini merupakan favorit saya karena harganya yang relatif dijangkau dan rasanya yang lumayan  namun sekarang  sepertinya ada penurunan rasa dari makanannya sehingga tidak spesial lagi  kadang kadang kalau sedang penuh  kita harus reserved tempat dan juga yang agak mengganggu adalah pelayanannya akan menjadi lebih lambat ',\n",
       " 'merupakan resto vintage dengan harga yang cukup terjangkau  pasar dan pilihan es krimnya sangat bervariasi serta enak  rhum raisin merupakan salah satu pilihan es krim yang cukup direkomendasikan  untuk pastry  eclair dan picnic rollnya dapat membuat ketagihan  selain makanan penutup  resto ini juga menyediakan makanan utama yang bervariasi ',\n",
       " 'restoran bali yang memiliki konsep makan di sawah  pemandangannya seperti di desa  makanannya enak',\n",
       " 'dukungan untuk pembangunan terbatas  ini status satu kampung aku yang merasa kecewa  ',\n",
       " 'saya justru sangat kecewa terhadap mereka yang suka menjadikan perbedaan untuk menyerang saudaranya dengan kata kata kotor  ayolah  beda itu biasa ',\n",
       " 'anak anak suka banget sama sup jamurnya  rasanya tidak pasaran  rasanya khas eropa banget  saya dan suami ngopi ngopi  anak saya minum susu segarnya  disajikan dengan cara yang tidak biasa  dan dia suka banget  belum macaroons nya  top banget deh  ',\n",
       " 'kamar kotor bau  ada bekas handuk orang  kamar lupa dibersihkan sebelum tamu baru datang  banyak kecoa dan nyamuk  ranjang kotor  pesan yg 1 ranjang besar dikasih yang twin bed ',\n",
       " 'gambar di menunya sangat menarik tapi tidak sesuai dengan kenyataan ketika disajikan  sapo tahu seafoodnya  ikannya sudah bau  buburnya biasa saja berbau tepung  nasi goreng seafoodnya hampir tidak ada seafoodnya  cuma nasi saja dan bawang ',\n",
       " 'berhenti berlangganan indihome bagaimana ya caranya  lambat dan juga mahal  saya jadi malas pakai dan bayar',\n",
       " 'silakan untuk kamu mengakses tokopedia melalui browser pada pc   laptop   desktop  kemudian masuk ke halaman tokocash  pilih kategori pengembalian pada history transaksi  dan klik tombol pindahkan  ',\n",
       " 'kami datang ke 18th restoran ini untuk merayakan wedding anniversary yang pertama  kami memesan appetizer  course dan minum  saat makanan datang  platinanya berkelas dan tidak asal asalan  porsi yang semula kami rasa kurang banyak  pada akhirnya tidak bisa kami habiskan karena kekenyangan  pelayanannya sempurna  kami bertemu dengan mbak isna  mulai dari awal kami masuk ke resto ini  kami langsung diberi meja ',\n",
       " 'oke  saya akan segera menuju ke cabang bca terdekat ',\n",
       " 'dengan harga yang murah pelayanan lion air cukup baik',\n",
       " 'kami sarankan untuk menggunakan perangkat lain dulu seperti browser desktop atau laptop untuk melakukan transaksi di tokopedia ',\n",
       " 'akhirnya saya menemukan cara yang tepat untuk aktivasi paket roaming telkomsel',\n",
       " 'macet begini malah hampir nabrak ',\n",
       " 'jawabannya tidak memuaskan  ingin marah marah sama itu pelayanan pelanggan ',\n",
       " 'hampir selalu setiap pesan makanan selalu enak di sini  anak saya suka sekali karena ada kolamnya  kita bisa makan  anak bisa ditinggal sambil main air  eheehe sensasi luar biasa  harga kisaran 20   100 ribu pelayanan baik ',\n",
       " 'perkebunan teh walini terdapat di rancabali  ciwidey  hanya beberapa menit sesudah kawah putih  di sini kita bisa melihat kebun teh yang sangat luas  sekitar 8 h a  cocok dijadikan tempat foto prewed ',\n",
       " 'bank bca di pgc payah sekali pelayanannya  jadi menyesal dah jadi nasabahnya kalau begini caranya',\n",
       " 'semoga bisa mendapatkan redmi 5a buat anak ku karena dia maunya redmi 5a kebetulan kemarin waktu ada flash sale redmi 5a sudah masuk ke keranjang belanjaan tapi saat proses pembayarannya gagal dan akhirnya tidak kebagian',\n",
       " 'sepertinya orang indonesia sudah mulai bosan melihat sinetron',\n",
       " 'sobat 7 masih ada kesempatan untuk menonton cuplikan pada pukul 19 25 wib',\n",
       " 'kita dapat mengajukan permohonan pengembalian dana di salah satu stasiun yang ditunjuk pt  kami  selambat lambatnya 30 menit sebelum keberangkatan ',\n",
       " 'beli susu di minimarket  tidak taunya sudah lewat masa kadaluarsa tiga hari  kacau ',\n",
       " 'tempat yang asik buat nongkrong  banyak pilihan makanan  interiornya unik dan desain luarnya bagus  kemarin order es teh dan bubur ayam  dua duanya enak  pelayanannya juga bagus dan ramah  lokasinya juga di pusat kota ',\n",
       " 'apakah salah kalau seseorang yang sudah melakukan kewajiban kemudian meminta haknya  tolong  jika ingin dihargai  hargailah juga orang lain  jangan pura pura tidak tahu  itu menyebalkan ',\n",
       " 'sehabis dari tebing keraton  saya dan bersama peserta trip memutuskan untuk makan siang di boemi joglo  kami memesan nasi liwet dengan porsi untuk 8 orang  nasi liwet baru dihidangkan setelah menunggu 1 jam lebih  itu pun kami harus menunggu lagi sendok  garpu dan piring  terlihat sekali  crew restoran kewalahan saat pengunjung ramai ',\n",
       " 'kali ini cukup belanja rp  60 ribu di homecare alfamart bisa tebus minyak goreng cuma gopek',\n",
       " 'messi payah tidak bisa bikin argentina sampai final lagi ',\n",
       " 'kunci kamar sulit untuk dipakai  harusnya segera diperbaiki ',\n",
       " 'gaduh  gaji sudah gede  masih jadi beking pedagang kaki lima  parah  ',\n",
       " 'tempat ini menyediakan meja kursi di dalam dan luar ruangan  karena kita bawa keluarga kita pilih di luar ruangan  yang kita pesan hanya sate kambing dan gule saja ',\n",
       " 'salah satu makanan favorit saya adalah tahu  selain tidak terlalu mahal  makanan ini pun tergolong sehat  tahu yun yi mudah di dapat di supermarket  sedangkan tahu yun sen mempunyai kreatifitas tersendiri dalam mengolah ',\n",
       " 'yang bikin penasaran dari kafe ini sih cuma makan di tempat gelapnya saja  tidak ada yang aneh lagi atau bikin penasaran  untuk makannya standar sih  tidak ada yang spesial begitu',\n",
       " 'hasil poling netizen 70  orang ini pembohong  apakah kalian masih mau percaya ',\n",
       " 'paling benci memuntahkan makanan yang sudah dimakan  tidak enak sekali',\n",
       " 'baju hilang ga tanggung jawab   hotel bintang tiga tapi ada pencurinya pelayanan buruk',\n",
       " 'madame sari adl resto milik kartika sari  manajemen cerdik dengan membuat resto di dalam bangunan mereka  sehingga memudahkan konsumen yang ingin makan sehabis membeli brownies dan cemilan lainnya  sop iga  nya recommended  termasuk nasi goreng  nya ',\n",
       " 'resto sederhana ini sangat ramai pengunjungnya  menu makanan yang paling banyak dipesan ayam penyet sambal  rasanya enak sesuai citarasa indonesia ',\n",
       " 'cuma hitung jumlah tulisan v9 di gambar ini  kamu bisa dapat kejutan dari bhinneka ',\n",
       " 'tempatnya ada indoor dan semi di luar  udara sejuk  menu beragam  porsinya besar  harganya pun relatif murah dengan rasa porsi yang cukup memuaskan  pelayanannya pun oke  rekomendasi banget deh ',\n",
       " 'traveloka dulu liburan kemudian wkwkwkwk dah seperti bintang iklan banget enggak seh kita ',\n",
       " 'positif  harga murah  rasa lumayan  pelayanan ramah  mienya bagus teksturnya ',\n",
       " 'pelayanan hotel ini sangat mengecewakan ',\n",
       " 'benarkah angka satu dianggap menjadi pembawa hoki di pilkada jawa ',\n",
       " 'setahu saya jam resto bri dmulai pukul 13 sampai dengan 14 wib  tetapi tetap buka trx bila teller dan cornya minimal 2 ',\n",
       " 'jelang duel barca vs milan disambut hujan angin seharian  alam pun tahu dan menangis sedih melihat permainan trik kotor kedua tim ck ck ck',\n",
       " 'makanan yang enak  tempat yang sejuk dan nyaman  bagusnya datang siang hari supaya dapat menikmati pemandangan  suasana sore juga menyenangkan ',\n",
       " 'stafnya tidak ramah sama sekali  saat menyajikan makanan seperti banting banting piring  terus saat menaruh minuman posisinya sembarang  tanpa memberi tahu ini minuman apa  untuk harga makanan sejauh ini terlalu mahal  rasa makanan  untuk yang ada sayurannya terasa asin ',\n",
       " 'sudah beberapa kali ke sini  tetapi tidak pernah bosan dengan suasana yang romantis  tenang  seperti resto pribadi  dari makanan  pelayanan oke punya  direkomendasikan to visit here',\n",
       " 'pssi punya rencana cadangan saat tunggu luis milla',\n",
       " 'pernah dapat kerjaan desain di toko roti mulai jam 8 pagi mengerjakan sampai jam 6 besok paginya baru pulang dari toko roti itu ',\n",
       " 'daya jual oposisi  tidak berkualitas dengan menyebarkan isu bohong terus menerus',\n",
       " 'eiger  itu barangnya bagus bagus serius dah ',\n",
       " 'makan di sini enak banget  paketnya murah bisa buat banyak orang  rasanya enak sekali  sambal enak  selalu disediakan kerupuk aci 1 toples  dan yang harus dicoba itu  juice nya  enak banget  segar  campuran buah dan sayuran ',\n",
       " 'tidak akan pernah kapok buat kembali lagi ke sini  apalagi kalau datangnya jumat malam atau sabtu malam ada live musicnya  makanannya enak enak  oke deh pokoknya  tidak pernah mengecewakan dan pasti akan kembali lagi ',\n",
       " 'memasuki resto sagoo kita disuguhi interior antik  pernak pernik jadul mengingatkan kita akan barang barang lama di dapur zaman dulu  makanan yang ditawarkan juga khas peranakan zaman dulu  harga  dan rasa sebanding biasa biasa saja alias standar tidak ada yang istimewa  penampilan ruang dan penyajian juga sangat biasa ',\n",
       " 'jne luar biasa banget ini yang mengantar paketnya marah marahin gue  tidak tidak lagi anj ng pakai jne ',\n",
       " 'korsleting listrik  dua rumah adat tongkonan hangus terbakar',\n",
       " 'lokasi di atas puncak pegunungan dengan pemandangan yang luar biasa  pelayanan ramah dan cepat  makanan sangat bervariasi ',\n",
       " 'yang terhormat bank bca  sepertinya anda harus menambah jumlah personil pelayanan pelanggan representatif officer deh  daripada dijuluki bank besar pelayanan payah',\n",
       " 'toyota mengeluarkan produk terbarunya ',\n",
       " 'cafe di bandung utara adalah kafe yang hanya menjual pemandangan  jangan berharap makanan dalam porsi besar  tapi memang suasanya yang bikin kangen  tempat sebesar ini memberikan ketenangan dari hingar bingar kota  tempatnya nyaman  nyaman  tenang dan hijau ',\n",
       " 'revisi uu ormas akan dimasukkan sebagai prolegnas pada bulan sidang januari ini  kesepakatannya begitu dengan baleg',\n",
       " 'enak tempatnya buat pacaran  nongkrong  dan ngobrol bareng teman teman  direkomendasikan lah pokoknya',\n",
       " 'ayam gorengnya renyah dengan bumbu yang khas es krim sundaenya segar dan harganya cukup murah dengan empat macam rasa yaitu chocolate  strawbery  blueberry  dan kiwi',\n",
       " 'buah mangga yang kemarin gue lihat di pohon kayaknya sudah dimakan sama kelelawar ',\n",
       " 'tidak ada duanya deh  semoga awet devicenya ',\n",
       " 'tempat makan yang cocok untuk mahasiswa untuk mengisi perut dan nongkrong dengan teman  tempatnya cukup asik  pilihan makanannya banyak  ada asia  indonesia  makanan barat dan dengan harga yang sangat terjangkau  pelayanannya pun bisa dibilang bagus ',\n",
       " 'beli produk ini sebab semua orang bilang mutunya terbaik  tapi ternyata saya tidak mendapat kesan yang sama ',\n",
       " 'ada banyak kekurangan yang saya rasakan setelah membeli handphone merek ini  kamera jelek  speaker tidak bersih  layarnya juga tidak nyaman dilihat mata ',\n",
       " 'setelah melihat seluruh areanya dusun bambu cocok buat tempat berburu  mulai dari sarang bambu sampai danaunya  insya allah kami akan kembali pada bulan mei untuk menikmati suasana asrinya lagi ',\n",
       " 'mi nya mirip banget dengan mi nursijan yang asli yang sekarang sudah tidak ada lagi karena kokinya sudah almarhum  nasi gorengnya juga rekomendasi',\n",
       " 'maaf saya semalam dapat order dari regensi ke rs multazam pembayaran pakai gopay tapi tidak masuk ke deposit tolong dibantu',\n",
       " 'memang harga tidak membohongi  harga makanan dan minuman di sini memang mahal  tetapi sesuai dengan rasa dan tempat yang diberikan ',\n",
       " 'saya beberapa kali makan di sini  tempatnya enak buat santai sama teman atau keluarga  harga makanannya juga bersahabat  saya suka rawonnya ',\n",
       " 'langsung mual  mienya kelembekan  nunggunya lama  pelayannya cuek ',\n",
       " 'mencari makanan rumahan yang murah meriah di jalan braga coba di sini  menu sederhana dengan rasa lumayan terutama buat mereka penyuka sambal  tempat tidak terlalu luas  ada live musik  kadang pengunjung boleh bernyanyi  untuk mereka yang suka ketenangan memang tidak cocok makan di sini ',\n",
       " 'buat yang ingin bernostalgia dengan piring dan cangkir kaleng  dengan menu makanan khas sunda  restoran ini bisa dipilih  terletak di pusat kota  dekat gedung sate  sehingga pada hari libur khususnya minggu  di sekitaran tempat ini sangat padat dan ramai ',\n",
       " 'pertama kali saya makan di resto ini  begitu masuk ke resto  hanya ada sepasang suami   istri sedang menikmati makan malam  tempatnya begitu luas namun kosong pada hari minggu pada jam makan malam  ini bukan pertanda baik bagi sebuah resto  makanannya juga kurang enak  ikannya tidak segar karena sudah hambar  sangat tidak terkesan dan tidak akan menyarankan resto ini kepada siapapun ',\n",
       " 'rasanya kurang enak  untuk resto korea  rasanya tidak authentic  tempatnya bagus  dekornya comfortable ',\n",
       " 'tempatnya nyaman karena jarak dari satu meja ke meja lainnya cukup berjarak  makanannya pun enak terutama menu paket kepitingnya  sausnya cukup pedas tetapi tetap enak untuk terus disantap apalagi dengan nasi atau roti yang disajikan bersama dalam menunya ',\n",
       " 'pasangan petahana pilkada garut unggul sementara',\n",
       " 'lokasi sangat strategis di kota medan  sangat menyenangkan dengan membawa keluarga ke lokasi ini  untuk masalah harga tinggal mengikuti menu yang sudah ada',\n",
       " 'restoran simpang raya  kami sekeluarga yang paling suka adalah ayam goreng popnya  juga ayam bakar bumbu dan ayam goreng bumbu cremes ',\n",
       " 'orang tolol  masa setiap warga negara boleh melakukan hal buruk  sudah sesat ini orang',\n",
       " 'dari segi lokasi bisa dikatakan cukup strategis  berada tepat di seberang jalan raya  menu cukup bervariasi  antara lain mie  roti  kopi dll  saya kali ini pesan menu indomie saos telur asin yang kuah atau direbus  ice jeruk dan sajian penutup vanilla treasure  dari segi rasa cukup lumayan enak ',\n",
       " 'jangan pada percaya pada berita online kakak  banyak bohongnya ',\n",
       " 'fasilitas oke  anak sangat riang  ada tv  mini farm  danaunya bagus  makanan lengkap  layout taman alami dan tertata',\n",
       " 'baru saja meninggalkan tempat makan ini karena makanan yang kami order kebanyakan sudah tidak ada  tempat sangat ramai dan saya serta keluarga datang agak sore  kami menunggu lebih dari setengah jam hanya untuk mengetahui setengah pesanan kami tidak tersedia  pesanan yang sudah dipesan pun belum dibuatkan ',\n",
       " 'kami juga sudah melakukan penghitungan dan ditemukan adanya kecurangan  pasti ada sogokan supaya dia menang ',\n",
       " 'mohon informasikan atm mana saja di semarang yang bisa untuk tarik tunai melalui bca mobile  terima kasih',\n",
       " 'teman merekomendasikan tempat ini karena rasa dari mi baksonya yang khas  lokasi dekat dengan mesjid agung  tempat sederhana namun bersih  satu porsi rp  55 000 sedangkan minuman alpukat menteganya rp  30 000  mengenai rasa  enak dan harga tidak berbohong ',\n",
       " 'pertama ke sini saya under estimate  pas waktu sampai saya mendengarkan lagu khas sunda yang tenang dan tempat makan yang nyaman  lalu makanan yang tidak terlalu mahal buat keluarga berikut pelayanan yang sangat ramah  pokoknya saya recomend banget dech  mantaps kampung daun',\n",
       " 'tempatnya menyenangkan baik untuk yang sudah berkeluarga ataupun pasangan  ada menu spesial di sini yang cukup menarik  disarankan anda membawa beberapa teman untuk membantu anda menghabiskannya  justru di situlah keseruan terjadi  yup cobalah menu burger hitam super besar kira kira berdiameter 16 cm ',\n",
       " 'belakangan ini sudah terjadi dua kali gempa di lombok ',\n",
       " 'dekat dengan hotel saya menginap  hanya ditempuh jalan kaki  di sini banyak sekali pilihan makanannya  tempat yang luas  dan menyenangkan',\n",
       " 'iya benar  dia sedang jaga warung ',\n",
       " 'kangkungnya lumayan tapi kepiting saus padangnya mengecewakan kami dikasih kepiting yang kopong akhir kami tidak makan keptingnya dan dikembalikan ',\n",
       " 'bertempat di braga city walk yang satu gedung dengan aston dan fave hotel  tempat ini sangat nyaman buat kongkow kongkow  kopi campur teh yang baru pertama kali saya nikmati ternyata sangat enak  dipadu dengan telur setengah matang menjadi pendamping mengobrol bersama teman teman  area yang bebas merokok semakin mengasyikkan sambil menikmati pemandangan lalu lalang orang orang yang keluar masuk mal ini ',\n",
       " 'gianyar terima bantuan sosial 2018 sebesar rp 44  9 miliar',\n",
       " 'ini salah satu contoh generasi yang tidak berguna  bukan malah bermanfaat untuk bangsa tapi malah jadi sesuatu yang berbahaya bagi bangsa  mantap jerat saja pakai uu ite',\n",
       " 'sore sahabat  saat ini sedang dilakukan pemeliharaan sehingga aplikasi tidak dapat diakses ',\n",
       " 'memang lemah kita ini aku juga penakut sebenarnya',\n",
       " 'terakhir ke hanamasa harganya 120 ribu   orang  tapi puasnya lebih dari itu  bisa ambil makanan sepuasnya  tapi rasa tidak mengecewakan  pintar pintar kita saja meracik sendiri  kalau penggemar daging sapi pasti suka ke sini',\n",
       " 'untuk menuju ke the peak memang terasa sangat jauh dari pusat kota bandung  dan aksesnya yang agak membingungkan dan jalan kecil berkelok kelok  namun anda mungkin tidak akan tersesat karena hampir di tiap belokan ada signage menuju ke the peak  tempatnya sangat bagus untuk anda yang mencari suasana malam romantis  dengan pemandangan malam kota yang menakjubkan ',\n",
       " 'kebun raya bogor bisa dijadikan salah satu tujuan destinasi wisata',\n",
       " 'the peak berlokasi di dekat lembang  dataran tinggi di bandung yang sejuk dan lokasi yang sangat baik namun jalan untuk mencapai tempat ini sangat berkelok disertai tikungan tajam nan curam  tidak disarankan untuk berkendara saat hujan dan malam hari  di the peak terdapat restoran dengan pemandangan kota bandung yang indah dari perbukitan  harga makanan yang sangat mahal dan sangat tidak sesuai ',\n",
       " 'saya kapok menggunakan jasa lion air',\n",
       " 'banyak hal yang dapat kita lakukan untuk mengisi waktu luang ',\n",
       " 'semakin apatis melaporkan hal hal seperti ini  karena sampai minggu lalu masih tetap belum dikerjakan  hanya janji janji terus ',\n",
       " 'harga selangit porsi seiprit tidak janji lagi saya datang untuk yang kedua kali  masakannya tidak beda jauh sama ema saya dong ',\n",
       " 'baru dan tersedia  5 sekat makan siang kotak kotak makan yooyee kotak bekal anti bocor 590',\n",
       " 'tidak mengerti ya kenapa resto ini menduduki peringkat 12 dari 1800an resto yang ada di jakarta  harga mahal  lokasi tersembunyi  dan rasa makanan biasa saja  jangan terlalu percaya sama review yang menyesatkanlah ',\n",
       " 'ledakan dalam aksi protes di afghanistan tewaskan 68 orang',\n",
       " 'saya berkunjung ke restoran itu bersama dengan teman saya  teman saya kebanyakan terkejut melihat pemandangannya yang sangat indah di malam hari  saya berkesempatan mencoba steak impornya  sangat enak apalagi sausnya  mmm yummi  kalau ada kesempatan saya ingin berkunjung lagi ke sana ',\n",
       " 'akses menuju dusun bambu bisa ditempuh kira kira dalam waktu 1   2 jam menggunakan mobil pribadi  berkunjung ke dusun bambu diusahakan saat petang hari karena kita dapat melihat jelas pemandangan yang ada dan waktu yang pas untuk makan malam ',\n",
       " 'makanan oke sama seperti xo suki lainnya  tetapi walaupun hari libur besar seperti lebaran ini bukan berarti senyumnya libur dan order minum  dan lain lain harus order berkali kali  tolong di jaga kepuasan pelanggannya  terima kasih ',\n",
       " 'restoran ini adalah sebuah destinasi kuliner yang wajib dikunjungi bila ke bandung  selain makanan yang sangat memanjakan lidah makanan sunda  restoran ini juga dibangun dengan konsep makan santai di dalam saung yang dikelilingi alam hutan dan pegunungan yang dihias pepohonan rindang dan dihibur oleh gemericik air sungai sehingga menawarkan pengalaman kuliner yang teramat mengesankan  harus dicoba bagi siapapun yang ke bandung ',\n",
       " 'kembali mengaktifkan paket data indosat karena dapat akses youtube unlimited ',\n",
       " 'saya baru saja bertemu teman saya yang bekerja di trans tv',\n",
       " 'rumah makan di jalan anggrek ini memiliki keistimewaan jenis seafood yang beragam dan ada yang masih hidup untuk dipilih dan dimasak saat itu juga  berbagai jenis masakan dapat dipilih dan waktu tunggu yang singkat membuat kita tidak terlalu lama kelaparan menunggu  menu kerapu kukusnya sangat enak dan gurih  apalagi bila dimasak dengan ikan yang masih segar  lokasi cukup sejuk  harga murah ',\n",
       " 'seperti biasa kami selalu mencari kuliner yang lain daripada yang lain  dapatlah kami di tempat ini yaitu the restaurant padma hotel  kami memesan menu yang ada  ada dari indonesia  eropa dan chinese  ternyata semua masakannya enak semuanya ',\n",
       " 'iya itu yang bikin saya kesal  ini bukan kesalahan sang pelamar tapi jelas 100  kesalahan pihak yang di atas yang entah bagaimana cara mereka berkordinasi  nyesek saya itu walaupun ini kasus teman saya yang di lampung ',\n",
       " 'pelayanannya agak lama  tetapi suasana yang diberikan keren dan unik  jadi sambil menunggu makanan bisa menikmati suasana di resto ini  menu yang disajikan beragam dan enak ',\n",
       " 'makanan di sini enak enak dengan banyak variasi  semuanya enak dengan pemandangan bagus  pelayanan yang maksimal dari mbak diah dan gina dari awal datang sampai selesai  dilayani dengan sangat baik ',\n",
       " 'dalam ajang piala dunia 2018 nanti  telkomsel mengambil bagian sebagai pendukung penyiaran resmi dalam perhelatan sepak bola dunia tersebut ',\n",
       " 'dia biasanya membeli tisu paseo',\n",
       " 'busnya tidak nyaman  mbak  tidak sesuai dengan yang diomongin atasan anda  belum lagi makanannya kurang enak banget  lalu tempat wisata tujuannya yang mengecewakan ',\n",
       " 'cukup mudah mencari lokasi ini  tinggal mengikuti saja arah ke tengah kota  nanti di kiri jalan terlihat parkiran mobil yang cukup banyak  disitulah tempat kafe ini  rasanya kafe ini memang jarang sepi  banyak sekali pengunjung ',\n",
       " 'kecewa saya dengan provider ini  sampai kesal  marah  emosi  saya keluar  gara gara  sinyal yang tidak benar ',\n",
       " 'sarung bantal  seprai dan selimutnya tidak lagi putih   trus dindingnya sudah banyak lumut  ',\n",
       " 'dan ketika dia tiba  makin rusak saja ini acara  jijik banget gue sama dia  asli  maaf yaah gue enggak suka banget sama dia',\n",
       " 'kami ada acara makan malam waktu itu  ice krimnya tidak dipisahkan dengan espresso jadi tidak bisa mencampur sesuai selera masing masing  salmon steaknya juga kurang segar  kulit salmonnya keras  keliatannya lama di kulkas atau freezer  padahal itu menu utama yang seharusnya enak ',\n",
       " 'tempatnya mudah ditemukan  bersih dan higienis  pelayanannya bagus  kita bisa diskusi tentang masakan yang tersedia  asik ',\n",
       " 'buffet makan malam paling top  harga sesuai yang didapat  rasanya enak pilihannya banyak  harga kadang didiskon jika datang rombongan  sukses selalu ya ',\n",
       " 'tempat yang bagus kalau dinikmati malam hari  cukup nyaman  harga cukup terjangkau  favorit saya steak tenderloinnya  cukup enak ',\n",
       " 'mencoba untuk buka puasa di sini  dengan harga yang tergolong mahal di antara hotel berbintang sekelasnya  rasa yang ditawarkan sangat mengecewakan  pastanya hambar  makanan lain juga hambar  sangat berbeda dengan apa yang biasa ditawarkan  dan pelayanan juga kurang profesional pada saat melakukan pembayaran dengan mengunakan kartu kredit ',\n",
       " 'gue juga bingung loh  pendukung tokoh itu hampir semuanya setipe bisanya cuma maki maki  fitnah  kata kata kasar  menyebar isu bohong  mengutamakan emosi  akal sehat tidak pernah dipakai ',\n",
       " 'rumah makan nusa indah sekarang mengecewakan ah  kotor  orang didiamkan saja merokok di ruangan ber ac  makanan lama datangnya ',\n",
       " 'nadia mencari kemeja untuk adiknya di uniqlo',\n",
       " '101 dalmatians  the series adalah sebuah seri animasi televisi yang diproduksi oleh disney television animation  bekerja sama dengan jumbo pictures ',\n",
       " 'kantor penghubung korsel   korut dibuka pekan ini',\n",
       " 'berbagi berkah bersama sinde  dapatkan 50 paket umroh setiap pembelian minimal rp 15 000 di alfamart ',\n",
       " 'beli kaos  topi atau jam tangan di lapak monoton roomstore bisa diego khusus pakai aplikasi di hape boskuh ',\n",
       " 'aplikasi google maps sangat bermanfaat  saya puas menggunakannya ',\n",
       " 'untuk malam minggu di sana pasangan diberi tempat yang tidak nyaman  karena saat orang lewat di sana tempat kami goyang goyang  lebih tepatnya mirip seperti warung pinggir jalan  tidak sesuai dengan harga makanan yang disajikan  seharusnya pasangan juga diberi tempat yang bagus bukan sembarang terima tamu dan taruh di tempat seperti itu ',\n",
       " 'menu makanan cukup bervariasi dan bikin mau dipesan semuanya  murah  pastinya ',\n",
       " 'bagikan sebanyak banyaknya  biar ini orang diproses  kangen melihat video minta maaf sambil nangis nangis lalu ngadu ke emak lalu bilang kalau perlakuan itu tidak sengaja ',\n",
       " 'soto kudus ini adanya di kaki lima  pertama kali mau makan agak ragu juga sih  karena ingin tahu rasa kudus ya dicoba dulu  ee ternyata enak juga lho  dan ada juga pilhan untuk mencampurnya  pokoknya enak sekali deh  harganya murah meriah deh ',\n",
       " 'olahraga di malam hari dapat menjadi pilihan untuk mengisi waktu luang ',\n",
       " 'restoran seafood  menu spesialnyanya kepiting yang dimakan dengan kulitnya  untuk saya kurang enak  kulitnya masih agak keras  pelayanannya biasa biasa saja ',\n",
       " 'enak lumayan  tapi harganya mahal karena porsinya sedikit kecil  ada pilihan infused kangen water yang cukup untuk 4 orang',\n",
       " 'untuk daerah banda aceh dan sekitarnya masih lancar  tidak ada gangguan sama sekali ',\n",
       " 'emosi dengan gojek yang selalu nyasar kalau mau ke rumah saya ',\n",
       " 'kafe yang nyaman  enak dan murah dengan desain kafe yang unik dan bikin betah  makanan enak dan kopi enak serta fasilitas wifi yang cepat dan tv kabel',\n",
       " 'sudah sebulan lebih tidak makan indomie  sekalinya makan langsung bikin dua porsi indomie goreng jumbo ',\n",
       " 'makan kaki kambing paha yang empuk dan lumayam besar untuk ukuran medium  pas untuk satu orang  makan tanpa nasi  dengan es lemon tea  segar kekurangannya hanya tempatnya berasap  wajar kan namanyan jg kambing bakar hehehe',\n",
       " 'tempatnya cukup unik  rasa makanan standar  menu yang ditawarkan juga biasa  hanya saja yang menarik tempat dan keunikannya  cara memanggil pelayannya dengan memukul kentongan   aku pas ke sana pada malam hari  ditambah hujan  udaranya cukup dingin menusuk tulang  sempat menunggu kira kira 15 menit untuk bisa dapat tempat  karena penuh blok pada saat itu  disarankan kalau mau ke sana sore sore ',\n",
       " 'dalam pilkada 2018  polri diminta meningkatkan pengamanan di sekitar tps ',\n",
       " 'tidak bosan apa film indonesia yang main dia terus  bukan bilang dia tidak bagus  tetapi kalau pemain itu itu melulu jenuh juga melihatnya ',\n",
       " 'kemarin dian membeli celana baru lewat aplikasi lazada',\n",
       " 'kami dalam perjalanan ke lembang dalam keadaan lapar  saat melihat saung pengkolan ini kami langsung berhenti untuk makan  kami memilih lesehan di lantai 2 sehingga mendapatkan pemandangan yang indah  pesanan kami adalah cumi goreng tepung  gurame goreng crispy  tumis genjer dan dua menu tahu yang saya lupa namanya  secara keseluruhan tidak ada yang istimewa dari hidangan tersebut  mungkin pilihan saya  lanjutan',\n",
       " 'dapat bonus tcash 12 500 tapi tidak bisa dipakai buat beli pulsa yang seharga 10 ribu h aneh',\n",
       " 'saat pertama ke sana  meja meja mulai usang dan juga menu makanan yang tidak begitu bervariatif  namun harganya tidak bisa dibilang murah  karena seharusnya dengan harga harga segitu bisa dapat yang lebih baik  terutama saat saya ke toilet  sangat kotor dan berbau tidak sedap ',\n",
       " 'minuman apa sih kok cara minumnya aneh  rasanya aneh juga lagi',\n",
       " 'tanggal 12 february adalah ulang tahun pacar saya  dan saya mengajak dia untuk makan di sebuah restaurant yang terkenal di surabaya  saya ingin memberi kado ulang tahun dengan makan yang enak di sana  tapi  saat itu saya datang kira kira jam setengah 3  tempat penuh sehingga kami harus menunggu  daftar tunggu pada saat itu sekitar 4 meja ',\n",
       " 'tidak suka melihat anak sma sekarang  kalau pakai jilbab rambutnya pada disengajakan keluar  maksudnya apa ',\n",
       " 'calon calon pemimpin negeri ini cukup kuat mempersiapkan strategi untuk kemenangannya ',\n",
       " 'adik saya sedang menonton harry potter di trans tv',\n",
       " 'salah satu restoran favorit saya di bandung  lokasinya terpencil  tetapi masih terjangkau  menu makanannya enak  sunda sekali  pemandangannya indah  suasananya memang membuat mata dan lidah semua terpuaskan  selesai makan sampai kenyang  jadi ingin tidur di saungnya ',\n",
       " 'mana taring kpk  kasus ecek ecek puluhan juta kamu tangkap sampai ke lubang semut sekalipun  waraskah anda kpk ',\n",
       " 'menu di tempat ini sebetulnya sederhana banget tapi pemiliknya kreatif  sajian mie  roti dan makanan penutupnya di mix sama berbagai pilihan  tempatnya asik buat berkumpul dengan teman teman  untuk harganya tidak terlalu mahal sesuai sama rasanya ',\n",
       " 'restoran dengan metode penyajian berbeda  piring tempat makan diganti dengan lembaran daun pisang  menu makanan khas sunda dengan citarasa yang enak  dari segi harga cukup bersahabat  tempat makan luas dan banyak pilihan meja  parkir cukup luas ',\n",
       " 'restoran alas daun menyajikan menu khas sunda yang tidak jauh berbeda dengan restoran khas sunda lainnya  tapi yang membuatnya berbeda adalah tanpa piring  dan hanya diberi daun pisang yang diletakkan di meja sebagai pengganti piring  jadi mirip orang di india yang makan beralaskan daun pisang ',\n",
       " 'rasa sotonya menurut saya pedas tapi gurih  minum sirup markisa yang segar sama es lilinnya yang enak ',\n",
       " 'saya mengunjungi restoran ini untuk makan malam bersama teman  saya memesan steak ayam yang sebenarnya saya lupa namanaya  rasanya sangat biasa saja  hambar  ayamnya tebal dan terasa keras dan kering sekali  tidak ada yang istimewa ',\n",
       " 'kita kan saling membenci satu sama lain sejak 4 tahun yang lalu ',\n",
       " 'ayah biasanya memakai semir sepatu kiwi',\n",
       " 'richeese factory adalah restaurat waralaba yang menyajikan ayam dengan rasa pedas dengan berbagai level  sangat cocok untuk anda pecinta rasa pedas ',\n",
       " 'saat rapat di hotel sensa  saya memesan batagor riri menggunakan aplikasi gofood   gojek  pesanan tiba dalam waktu tidak lama karena ternyata paket batagor dan siomay sudah di pack dalam plastik vakum  harga yang tertera dalam aplikasi gojek   gojek belum termasuk pajak sebesar 10  ',\n",
       " 'saya mengunjungi restoran ini bukan saat jam makan siang  tapi restorannya cukup ramai dan untungnya kami bisa cepat dapat duduk  begitu duduk makanan dan minuman langsung dihidangkan  sambal hijaunya kurang terasa pedas buat kami  makanan enak cukup puas makan di sini ',\n",
       " 'suka cemburu melihat doi bercanda sama cewek  tetapi kita bukan siapa siapanya',\n",
       " 'terakhir saya makan pesan via delivery order  anak saya sangat suka perkedel isi daging  nya  restoran zaman dahulu yang sangat terkenal  harga yang cukup terjangkau kantong dan rasa masakan yang cukup enak ',\n",
       " 'parkiran susah bener sampai berputar 3x  saran  parkir di dekat hotel saja terus jalan kaki  restoran di area perumahan ',\n",
       " 'suka heran sama telkomsel  kuotanya banyak kok tapi cepat banget abisnya  padahal tidak banyak buka aplikasi berat  mencurigakan',\n",
       " 'anak sekarang baru gede sudah berani mencuri',\n",
       " 'berkesempatan menikmati santap pagi karena sedang menginap di hotel ini  sebagai pengunjung baru seperti saya dan mungkin yang lainnya barangkali akan antusias terhadap suasana santap pagi yang diwarnai dengan pemandangan dari sisi timur  karena dari sisi tersebut terdapat keindahan bangunan hotel berikut kolam renangnya  selain itu juga terdapat barisan bukit dan pegunungan akan menambah keinginan untuk berfoto ria ',\n",
       " 'telekomunikasi bukan hanya untuk kota besar  tapi juga sampai ke daerah pelosok dan perbatasan negara cc  telkomsel',\n",
       " 'sebaiknya jam tidur minimal lima jam ',\n",
       " 'saya bersama rekan kerja sengaja mencoba makan siang di sini  untuk tempat terbilang cukup nyaman jika di lantai atas  rasa ayam bakar di sini sangat saya rekomendasikan bersama sambal mangga ',\n",
       " 'saya kecewa dengan pelayanannya  barusan saya pesan grabfood pesanan tidak diantar tapi sudah diselesaikan  mohon untuk selektif memilih pekerja ',\n",
       " 'telah hilang handphone xiaomi redmi note 5 warna gold 64   4 di daerah duri selatan  jembatan lima  tambora  jakarta barat ',\n",
       " 'saya tidak kecewa dengan produk apple',\n",
       " 'youtube semakin hari semakin banyak iklannya  menyebalkan ',\n",
       " 'itu indomie sama mangkoknya sudah berkeliaran  terpisah pula isi sama wadahnya ',\n",
       " 'kami ke kafe ini untuk makan serabi  serabinya bagi kami terlalu tebal di bagian tengah  banyak sekali pilihan topping serabi sampai pusing memilihnya  ternyata harganya lebih mahal dari warung setiabudi  kecewa ',\n",
       " 'steak murah  cocok untuk yang budgetnya kecil tapi ingin makanan murah dan kenyang  selain steak juga makanan lainnya enak dan murah  suasananya lumayan ramai  biasanya banyak keluarga atau anak sekolahan ',\n",
       " 'pertemuan antara pihak bank bri  bpbat sungai gelam   jambi  dan pokdakan yang ada di desa pudak  untuk mendiskusikan bentuk penyaluran dana csr dari bank bri',\n",
       " 'tempat ini sangat menarik  pemandangan bagus  ada arena bermain di luar untuk sekeluarga  sangat disarankan untuk keluarga dengan anak kecil  makanan halal dan menu bervariasi ',\n",
       " 'hotel mau  check in aja ribet  menunggu karena membersihkan kamar lama banget  kecewa dah  ini pertama kalinya gue ke sana  terus langsung dikasih first impression yang tidak bagus ',\n",
       " 'karena kartu oktrip saat ini adalah dari bni  maka isi ulang bisa dilakukan di mitra mitra yang bekerjasama dengan bni ',\n",
       " 'secara keseluruhannya sih bagus  karyawanya juga ramah ramah  dan pemandangannya bagus  tapi makanannya terlalu mahal  mahal banget malah  dompet harus tebal ',\n",
       " 'makan bersama keluarga akan lebih menyenangkan dengan semua fasilitas yang ada  lokasi yang bagus  makanan yang cukup enak dengan beragam pilihan  dan pemandangan serta suasana jadi andalan',\n",
       " 'nasi goreng mafia yang terletak di jalan setiabudi kami pilih karena ingin mencari makanan yang cepat  ditambah merupakan salah satu kuliner yang wajib dikunjungi di bandung  saya memilih nasi goreng yang favorit di sini yaitu nasi goreng bandit hingga tingkat kepedasan di level 3  makanan yang disajikan cukup cepat  namun sayangnya nasi goreng yang saya pesan nasinya keras  bumbu rempahnya tertutupi ',\n",
       " 'ini adalah sop stengkel terenak di aceh tamiang ',\n",
       " 'untuk kakak admin tolong doooooonk balas pesan langsung saya',\n",
       " 'pemandangan yang utama di sky lounge grandia ini memang dapat melepas penat anda  bahkan bisa jadi  para pelancong mencari area ini terlebih dahulu  dibandingkan beristirahat di kamar ',\n",
       " 'kami mengunjungi tempat ini karena lokasinya yang berdekatan dengan tempat kami menginap  kami memesan nasi bakar dan pasta  nasi bakarnya enak  banyak pilihan  dan tidak pedas  bisa untuk anak anak  sedang pasta hanya ada satu macam  namun rasanya pun enak  harga makanan pun tidak mahal dan terjangkau untuk makanan di bawah 30 ribu  di tempat ini juga gratis wifi ',\n",
       " 'untuk mendapatkan pemandangan yang bagus dengan cahaya lampu warna warni  sebaiknya berkunjung pada malam hari  karena memiliki latar belakang pemandangan jembatan pasupati yang merupakan simbol kota ',\n",
       " 'saya datang ke resto sapulidi ini karena rekomendasi dari internet yang pernah saya baca bahwa pemandangan yang sangat bagus dan tempat makan tepat di sawah yang membuat saya tertarik untuk datang ke tempat ini  namun ketika saya sampai semua hal berubah menjadi buruk  mulai dari tempat parkir yang bisa dikatakan tersedia  jalan akses rusak dan kecilnya tempat akses ',\n",
       " 'karena lapar  saya pesan indomie ',\n",
       " 'sate kambing dan gulai kambingnya maknyus  penyajian makanannya juga sangat cepat  tempatnya cukup bersih',\n",
       " 'sup guramenya enak  pelayanan cepat  ramah  restoran bersih  karena porsi nasi sangat sedikit  buat yang doyan makan pasti menambah ',\n",
       " 'restorannya ada pemandangan air terjunnya  tempat makan berupa saung  saungnya ada banyak dari bawah naik hingga ke atas  semakin ke atas semakin terlihat pemandangan air terjunnya ',\n",
       " 'pelayannya ramah  bikin selalu ingin datang kembali  kebetulan juga sering menginap di sini  hotelnya bersih dan pemandangan dari kamar hotel bagus ',\n",
       " 'makan malam bersama seluruh keluarga di hari ulang tahun suami menjadi sangat berkesan dengan suasana yang menawan di hotel  pelayanan yang sangat ramah dari mas tian  tidak perlu menunggu lama  makanan dan minuman yang dipesan ',\n",
       " 'bakar terus pak  cabik cabik saja persatuan dan kesatuan indonesia dengan retorika mu ',\n",
       " 'terletak di tepi bukit  tempatnya luas  menyenangkan dan nyaman  memiliki pemandangan yang memanjakan mata  seperti gunung  perkebunan  dan kota bandung jika dilihat dari atas  pegawainya cekatan dan ramah  menu makanan di dominasi oleh menu steak walaupun ada juga menu nasi goreng  gurame  dll  restoran yang direkomendasikan untuk dikunjungi ketika datang ke bandung ',\n",
       " 'bca sedang mengadakan acara ulang tahun dan mengundang seluruh karyawannya untuk mengikuti acara tersebut ',\n",
       " 'sejak buka cendana bistro saya sudah coba makanan  untuk saya kurang cocok  makanannya biasa biasa tidak ada yang spesial ',\n",
       " 'minimal biaya transaksi bulan 11 yang harusnya direfund bulan 12 kemarin tidak masuk ke rekening saya nih ',\n",
       " 'setelah kalap belanja  kami memutuskan untuk makan di warung tenda pinggir jalan  dalam perjalanan pulang ke hotel  kita lewat jalan kecil untuk menghindari macet  dan bertemu warteg ini  pas datang ramai banget  kita mesti antre sebentar  kami pesan nasi uduk  ayam bakar madu  usus  kol goreng  rasanya enak  ayam bakar madunya parah bikin ketagihan banget ',\n",
       " 'pemberitaanya yang tidak berkualitas dan sangat tidak mendidik  penuh kepentingan dan pencitraan',\n",
       " 'penjual lambat menanggapi  ada kendala lama diurus  sampai sekarang barang belum diganti',\n",
       " 'jangan lewatkan diskon langsung hingga rp 10 juta di sini ',\n",
       " 'pt kami dan 12 bank sudah menandatangani pembiayaan lrt jabodebek',\n",
       " 'baru tahu tentang tempat ini dari teman  waktu kami datang pengunjungnya tidak terlalu banyak  jadi kami memilih untuk duduk di lantai dua sambil menikmati pemandangan di luar  malam itu sedang ada pertunjukan musik  saya kurang tahu apakah pertunjukan musik ini ada tiap hari atau tidak ',\n",
       " 'saya ingin beli 20 tiket untuk laga persebaya vs arema besok ',\n",
       " 'makanan sudah oke  namun untuk penataan tempat duduk kurang  terlihat terlalu ramai sehingga tidak nyaman  harga lumayan dengan kualitas yang kurang ',\n",
       " 'saya senang berlama lama di sini  karena suasananya enak  pencahayaannya bagus  ada pilihan bisa di luar ruangan atau di dalam  makanannya lumayan ',\n",
       " 'semua yang diomongin sama pak rocky itu tidak berdasar  heran ya kok bisa jadi professor ',\n",
       " 'restoran ini memiliki lokasi yang prima di perbukitan yang memiliki udara sejuk dan pemandangan hijau menyegarkan  tentu saja tujuan utamanya adalah masakan khas nusantara yang nikmat  singkatnya  berkunjung ke sini kita dapat melakukan sekaligus wisata lidah  mata  dan jiwa ',\n",
       " 'istri saya yang tidak terlalu suka ramen  untuk kali ini dia bilang enak dan gurih  dia malah memesan lagi untuk dirinya setelah mencicipi pesanan saya ',\n",
       " 'tempatnya nyaman  rasanya enak  harganya juga saat  kambingnya tidak bau  pokoknya recomend buat pecinta kuliner kambing ',\n",
       " 'salah satu restoran seafood terbaik di kota ini  sebaiknya datang pas liburan hari sabtu  kepiting masih bagus baru datang  harga bersaing  tidak murah memang tapi tidak kemahalan kok ',\n",
       " 'untuk menemukan batagor yang otentik  anda tak perlu jauh jauh mencarinya ke pelosok  cukup arahkan kendaraan ke jalan dari djunjunan  kita dapat menikmati batagor asli yang enak dengan tempat yang nyaman  rasa batagor yang ditawarkan sangat menggugah selera karena batagor disajikan garing garingnya serta disiram kuah kacang yang segar',\n",
       " 'citarasa biasa saja  tidak ada yang spesial  harus menunggu cukup lama datangnya makanan  pelayan juga kurang ramah ',\n",
       " 'kue ulang tahun spesial pakai telur sepiring plus mozzarella buat kamu',\n",
       " 'mau marah ke indosat  kok sinyalnya hilang melulu si',\n",
       " 'rumah makan yang mengusung konsep tradisional alias jadul ini patut anda coba  selain rasanya yang pas  warung ini memiliki beberapa hal unik seperti piring yang digunakan adalah piring seng zaman dahulu berikut gelas minumnya  jenis menunya sangat beragam  dan semuanya enak enak ',\n",
       " 'kfc palembang square seringkali menjadi penyelamat di saat lapar saat saya menginap di sekitaran hotel di lokasi itu  semua orang suka kfc  so  kfc di lokasi ini menyegerakan anda untuk memesan saat anda kelaparan di dalam hotel ',\n",
       " 'berbagai macam minuman segar tersedia mulai dari jus buah sampai aneka teh ',\n",
       " 'kemarin 10 maret 2015  saya diajak anak saya makan siang di sini  saya pesan udang kremes dan sayur asam  betul betul enak  dan yang spesial di sini adalah sambalnya  pedas tapi tetap mau menambah  jus blackberrynya juga enak ',\n",
       " 'punya restoran harus mewah rapi masa ini berlumut berjamur pelayan kurang memuaskan masa saya ditumpahkan air mana minumnya ada madu saya itu alergi madu',\n",
       " 'saya baru saja ganti kartu yang rusak  tapi tetap tidak ada sinyal ',\n",
       " 'jauhi narkoba adalah salah satu cara yang bisa digunakan untuk meningkatkan kualitas anak bangsa ',\n",
       " 'kafe ini memiliki arsitektur bangunan yang sangat bagus  karena penasaran  saya meluangkan waktu berkeliling sembari menunggu makanan datang  ada galeri yang penuh dengan koleksi koleksi kayu dan di luar galeri  tampak pemandangan bandung dari ketinggian  di sekitar banyak juga kursi terbuat dari kayu dan juga bebatuan  dari sisi makanan  harganya termasuk relatif standar sesuai dengan cafe cafe  saya suka suasananya ',\n",
       " 'gunakan kunci duplikat  bank bri di pusat kota dibobol maling  uang rp 1 miliar lenyap ',\n",
       " 'malam sekitar jam tujuan diajak klien ke tempat makan ini  over all sih makanannya lebih banyak yang di goreng goreng begitu kayak ayam  babat  usus  ati ampela  tapi menurut saya sih rasanya biasa saja  dan minyaknya di makanan terlalu banyak  tapi variannya cukup banyak ',\n",
       " 'hai angga  untuk penerbitan tiket perubahan jadwal diharuskan melakukan pembayaran dulu ya ',\n",
       " 'kakak lelaki saya menjual iphone 8 untuk membeli ps5',\n",
       " 'saya bela belain dari bogor 7 jam demi makan sup buntutnya tetapi saya tunggu dari jam 8 30 belum buka juga  akhirnya saya datang jam 10 00  pesan sup buntut belum ada dengan alasan tadi malam ramai jadi chefnya masih tepar  wow alasan macam apa seperti itu  beda sekali waktu saya makan 1 tahun yang lalu ya  tempat sangat kotor seperti tidak niat punya usaha ',\n",
       " 'untuk pengecekan layanan mandiri verified by visa vbv tidak dapat melalui layanan mandiri call 14000  namun hanya bisa melalui email dan kantor cabang bank mandiri ',\n",
       " 'harus coba untuk bersantai atau makan malam di the 18th ini  pemandangan yang didapat baik dan yang menjadi daya tarik di the 18th terdapat lantai kaca  untuk harga cukup tergolong mahal karena terletak di trans hotel  tetapi sebanding dengan rasa kenyamanannya ',\n",
       " 'salah satu mal dengan konsep yang cukup unik  banyak pilihan restoran sehingga cocok untuk menghabiskan waktu bersama teman teman ',\n",
       " 'lokasinya berada di jalan utama sehingga memudahkan kami untuk mencapai tempatnya  jika tidak memiliki kendaraan pribadi tempat ini dapat dijangkau dengan kendaraan umum  menu makanannya sangat banyak dan ada beberapa menu yang baru pertama kali saya temukan di kedai ini  rasanya pun enak dengan harga yang standar  tempatnya sangat nyaman ',\n",
       " 'tempat ini tidak cocok untuk keluarga yang membawa anak balita  jalanan sangat curam  untuk anjungan foto di luar hanya boleh diisi max 10 orang tetapi masih banyak yang memaksa naik untuk berfoto ',\n",
       " 'tempat ini salah satu tempat favourite saya untuk melihat bogor di malam hari  dengan suasananya yang nyaman ditemani dengan makanan dan minumannya serta pelayanannya yang ramah  cahaya kota yang benar benar indah bisa terlihat dari sini  tempat yang rekomendasi untuk menghabiskan waktu bersama pasangan  keluarga atau sahabat ',\n",
       " 'kecewa dengan proses pembatalan tiket  sudah 43 hari tapi tak kunjung ditransfer  loket tidak mau melayani',\n",
       " 'pilihan makan dan minuman banyak untuk dipilih  dan tempatnya besar  dibagi menjadi beberapa bagian dan konsep  untuk harga cukup pas buat di kantong ',\n",
       " 'restoran bergaya zaman dahulu  ada display kue kue  es krim juga  suasana nyaman  makanan khas rumahan  bisa untuk rombongan maupun dengan keluarga  makannya enak  nasi ulamnya enak  nasi tutug oncomnya juga oke  masakan eropa  asia  nusantara tersedia di sini  tinggal pilih  anak anak suka makan es krimnya di sini ',\n",
       " 'salah satu nama batagor yang terkenal di bandung  rasanya nikmat  untuk harga per buahnya rp  10 ribu  order 3 buah untuk saya cukup mengenyangkan karena ukurannya per buahnya cukup besar ',\n",
       " 'pernah percaya kalau body lotion citra bikin bulu tambah banyak',\n",
       " 'macet di mana mana kalau lagi liburan',\n",
       " 'mohon informasikan detail kronologi  pulsa awal dan akhir dengan mention tim ya kak  tim akan cek transaksi pemakaian pulsanya',\n",
       " 'area makan di luarnya menyenangkan  iganya oke  rasanya enak  jus orange plus stroberinya nikmat  harganya pun oke ',\n",
       " 'buat anda yang mencari resto dengan suasana yang romantis tidak salah lagi ke sini saja  dan kalau rendah anda pas pasan pesan saja menu yang ringan ringan  jangan terkecoh dengan picture di buku menu kalau tidak mau menyesal  menu sukinya lebih oke tapi kayaknya ngapain ya jauh jauh bermacet ria ke sini cuma mencari itu  di kota lebih afdol kayaknya  pemandangan jogja malamnya memegang ',\n",
       " 'rasanya hampir sama dengan resto yang lain yang jualan seafood  aman bersih dan pelayanannya cepat ',\n",
       " 'hasil quick count dinyatakan berbeda dengan hasil survei membuat saya bertanya tanya ',\n",
       " 'pertama ke sini itu merayakan kelulusan adikku  tempatnya itu loh  keren banget  desainnya juga unik  keren  nyaman  nyaman  cocok betul untuk makan malam bareng keluarga  pasangan  saudara  dan teman teman  pemandangannya juga keren  makanannya juga enak enak  harga sebanding dengan pelayanannya  tidak menyesal ke sini  sangat sangat direkomendasikan ',\n",
       " 'kemampuan memahami bacaan tiap orang itu beda beda  ada yang sekali baca sudah paham  ada juga yang butuh berkali kali baca dulu baru paham ',\n",
       " 'wow benar benar terkejut sama layanan satuan pengamanannya bkpn bromo malang  benar diskriminasi banget  kalau kita hanya mau informasi tentang produk mereka  kita disepelekan  cenderung mengusir  kecewa sekali ',\n",
       " 'bandung terkenal sebagai tempat produksi tahu lokal dengan kualitas prima  salah satu yang terbaik bisa dicari di warung talaga  mereka punya pabrik sendiri di jalan jendral sudirman  tapi mengembangkan bisnisnya menjadi sajian kuliner juga  ada berbagai pilihan sajian tahu  sangat direkomendasikan bagi pecinta kuliner ',\n",
       " 'mohon dikirimkan kembali tagihan saya bulan lalu',\n",
       " 'salah satu menu favorit saya adalah mcflurry aneka rasa selain menu paket dengan dua ayam  menurut saya  ayam mcd memiliki citarasa tersendiri di bagian dadanya pun memiliki tekstur yang lembut dan bumbunya gurih ',\n",
       " 'saya merasa terganggu melihat parkiran mobil orang menutupi jalan umum ',\n",
       " 'satenya besar besar  bumbunya dipisah  dikasih irisan bawang merah dan cabe rawit dikukus  porsi lontong sama nasinya juga pas  pokoknya saya suka ',\n",
       " 'kalau dilihat lihat  sandiaga uno sama nadiem makarim mirip ya',\n",
       " 'selamat pagi  wah kecewa berat masa indihome internet tidak kocek lagi  saya itu bayar mahal  jangan kecewakan kami sebagai pelanggan',\n",
       " 'driver tidak datang ke tempat tujuan  tetapi di aplikasi sudah picu naik  dan gopay sudah terpotong  kapok saya pakai gojek',\n",
       " 'makanan di sini menurut saya kurang enak ya  karena saya orang minang  saya tidak terlalu suka makanan jawa yang manis hehe',\n",
       " 'pajak  kak  mau minta nomor efin  sebelumnya sudah aktifasi  tapi lupa password akun djponline ',\n",
       " 'musim hujan begini setiap hujan pasti tidak tenang takut kebanjiran ',\n",
       " 'sate kambing h  ihsan ini cukup terkenal di tegal  apabila tidak bisa mengunjungi lokasi di pusatnya  anda bisa juga menemukan sate kambing h ihsan di beberapa tempat makan di kota tegal ',\n",
       " 'dari banyaknya restoran sunda di bandung  menurut saya ciganea salah satu favorit saya  saya suka karena ayamnya khas  digorengnya tidak terlalu kering  lalu sambalnya pun tidak kalah enak  menu yang lain pun enak  tempatnya seperti rumah  tidak terlalu besar tapi cukuplah  dan juga bersih ',\n",
       " 'hotel ini sudah berdiri sejak tiga puluh tahun yang lalu  sebelum saya lahir  penginapan pertama di kota ini  sekarang sudah banyak berdiri hotel di sini ',\n",
       " 'makanan di sini sama seperti kfc lainnya  ayam gorengnya crispy  gurih dan enak',\n",
       " 'bagaimana tidak marah coba  kena php indosat terus nih  pulsa selalu terpotong ludes tak tersisa ',\n",
       " 'pelayanan batik air bisnis class di halim mengecewakan  gelas kotor   bau  tv tidak ada dengan alasan pesawat baru  penjemputan dari turun pesawat dihilangkan',\n",
       " 'pakai laurier double pas mau tidur saat menstruasi biar tidak bocor',\n",
       " 'tempat makannya sangat sederhana  namun rasanya juara  komposisi bumbu kacangnya pas dan porsinya tidak terlalu besar  pengunjung yang datang sangat ramai ',\n",
       " 'lokasi dan arsitektur tempat ini oke banget  cuma kalau makanan dan minuman di sini tidak terlalu istimewa  enak buat bunuh bareng teman teman ',\n",
       " 'rasa makanan biasa saja dan suasana tidak istimewa sehingga sekali kedatangan sudah cukup ',\n",
       " 'yang melarang gbk dijadikan venue konser pada songong songong amat dah  rumput di lapangan siapa yang mau pelihara kalau tidak ada duit konser  belum lagi kursi yang suka dirusak supporter bola  aduh ',\n",
       " 'gila ya  pesan mix platter saja sampai lebih dari 30 menit  bertanya ke pelayannya malah kabur  tidak responsif  lama ',\n",
       " 'saat jenuh dengan oleh oleh khas bandung yang sudah ada  maka roti bakar tunggal bisa menjadi pilihan  saya sering beli roti marie yang dibakar dengan rasa yang yuummy  juga roti bakar dengan rasa keju atau coklatnya  biasanya saya beli di counter roti bakar tunggal di paskal hyper square  harganya memang agak mahal  tapi saya rasa hampir sama dengan makanan oleh oleh  jadi ya tidak bisa juga dibilang mahal  dan toh rasanya enak ',\n",
       " 'pergi bersama keluarga makan malam  harganya mahal dengan rasa yang biasa saja ',\n",
       " 'selamat siang  biaya administrasi rek simpedes rp 5 500      bulan  terima kasih era',\n",
       " 'tempat nyaman dan enak  kadang dijadikan tempat foto pre wedding',\n",
       " 'pelayanannya sangat bagus  sangat memuaskan dari segi tempat  indah sekali bisa melihat pemandangan kota di malam hari dari segi makanan  terbaik  makanannya enak sekali tidak menyesal untuk datang ke sini ',\n",
       " 'arif membeli jaket billabong yang terbaru',\n",
       " 'warung makan yang telah hadir sejak lama dan telah menjadi semacam legenda  mungkin sekarang sudah buka cabang  terkenal karena konsistensi rasa  nya selama bertahun tahun  meskipun bangunan asli telah dipugar tetapi keaslian masih tetap dijaga dan tetap susah parkir  beberapa waktu terakhir ada sedikit perubahan ketika ibu chef utama sudah tidak terlihat lagi ',\n",
       " 'memberikan bantuan ke korban bencana untuk pencitraan percuma  apalagi untuk publikasi  maaf banget  muak saya ',\n",
       " 'rasa makanannya biasa saja dan harganya mahal  tempatnya juga biasa  lokasinya juga terlalu jauh dari pusat kota ',\n",
       " 'untuk menuju ke tempat ini jalannya sangat macet dan jauh dari pusat kota  sesampainya di sana tidak ada hal yang spesial yang membuat perjalanan jauh terbayarkan  menunya biasa saja ',\n",
       " 'rasa rotinya enak  variasi roti dan cemilan yang dijual banyak  harga standar  paling suka sama roti tawarnya  suka ',\n",
       " 'dia ini siapa sih  kok isi berita dia semua  bukannya dia mantan narapidana itu',\n",
       " 'ingin makan sembari menikmati suasana paris  enggak usah jauh jauh ke prancis  cukup ke paris van java alias bandung  braga permai ini rekomendasi banget buat makan sambil santai santai  makanannya enak  harganya masuk akal dan suasananya nyaman banget apalagi meja yang di luar  makan sambil menikmati suasana bandung tempo dulu ',\n",
       " 'yogyakarta ini di tiap sudut jalan banyak hotel  tapi sayang  untuk kelas bintang 3 saja harga lebih mahal dengan pelayanan tidak setara ',\n",
       " 'bakminya enak  ditambah daging rica2nya super mantap  rasanya sih pedas pedas tapi nikmat  makan satu berasa kurang deh ',\n",
       " 'aplikasi bni mobile banking mohon diperbaiki soalnya mau aktivasi akun tidak bisa ',\n",
       " 'anti pakai power bank semenjak handphone samsung gue bocor baterenya setelah dipakaikan gituan ',\n",
       " 'botol uc1000 susah banget dibukanya dah  bikin tangan sakit',\n",
       " 'mencari suasana nostalgia di jogja  tempat ini adalah pilhan yang tepat  menu makanan didominasi makanan makanan yang dipengaruhi gaya makanan belanda  favorit saya steak sirloin  restoran ini juga memiliki toko roti dengan pilihan roti bergaya zaman dahulu ',\n",
       " 'ketua dpr mengapresiasi pilkada serentak yang berlangsung damai ',\n",
       " 'mengurus gaji karyawan sendiri saja tidak becus konon mau mengurus bumn  mikir pake otak',\n",
       " 'di indonesia pilihan merek telepon seluler kan melimpah  kalau tidak suka cara xiaomi menjalankan bisnisnya ya tinggal pilih merek lain  dibawa santai saja ',\n",
       " 'pernah makan di poolside hotel hilton  sangat tidak rekomendasi untuk rasa dan harga  makanan kurang rasa  gue bawa 20 orang  semua kecewa ',\n",
       " 'tempatnya unik  sambil makan juga dimanjakan dengan tempat yang serba unik  banyak kayu kayu dan galerinya  buat anak juga jangan kuatir  ada mainan anaknya  jadi makan jadi lebih santai',\n",
       " 'kalau ke sini saya selalu pesan singkong sambal roa  singkongnya digoreng dipadankan dengan sambal roa  enak  makanan yang lainnya juga enak tetapi buat saya dan keluarga yang paling enak di sini ya makan singkong sambil minum kopi ',\n",
       " 'telepon genggamnya eror pas pertama dinyalakan',\n",
       " 'tidur yang cukup tiap harinya bisa bikin badan tidak kecapekan dan segar ketika bangun di pagi hari ',\n",
       " 'restoran ini sangat romantis dengan pemandangannya yang sangat indah di malam hari',\n",
       " 'selamat sore ibu  perihal produk perbankan bank mandiri apa yang dapat kami bantu  yogi',\n",
       " 'suasananya di tempat ini sungguh luar biasa  ketika itu kami datang pada senja menjelang malam  dan mendapatkan ruang yang menghadap ke air terjun  gemericik air terjun dan suasana pedesaan menambah nikmat suasana makan malam kami ketika itu  makanan disajikan dengan gaya tradisional dan rasanya cukup menarik untuk lidah kami ',\n",
       " 'harganya terlalu mahal  padahal makanan yang dijualkan makan indonesia umumnya  padahal untuk menikmati makanan sejenis di tempat lain jauh lebih murah  nasi goreng saja di sini mahal banget banget  kesal ',\n",
       " 'dalam akun mycare saya yang terblokir tersebut sudah saya tambahkan nomer im3 saya yang baru',\n",
       " '120 peserta yang lulus ini akan dibagi menjadi 4 kelas dengan jumlah masing masing 30 siswa ',\n",
       " 'apa ini  harga mahal  pelayanan minus ',\n",
       " 'saya bertemu dengannya di asrama tempat kami tinggal semasa mahasiswa dulu',\n",
       " 'mana nih lama sekali konfirmasinya  ini sudah dibayar  sudah mengirimkan bukti transfer  tetapi e   tiket tetap tidak keluar  saya kecewa  tidak mau digantung begini ',\n",
       " 'menonton film indonesia di tv ini  kadang bikin jengkel  karena seakan seakan indonesia tidak ada masalah  karena semuanya lagi jalan jalan di luar negeri ',\n",
       " 'dasar tak tau diri kau  belajar beladiri bukan untuk di sombongkan  tapi untuk melindungi diri sendiri  guru lu aja lu pukulin apalagi orang tua lo  dasar iblis kau  nyawa di bayar nyawa  lu punya hutang satu nyawa  dan nyawa lo yang jadi bayarannya  ',\n",
       " 'kalau ke mangkok ayam pasti beli kwetiaw siramnya  kalau dilihat seperti yang sedikit  tetapi pas dimakan beuh  banyak sekali kalau buat porsi saya  kwetiaw siramnya masih juara di sini dari pada di tempat lain  sungguh  sambelnya juga sesuai banget sama selera saya ',\n",
       " 'atlet muda tanah air ikuti serpong run 2018 untuk ajang uji coba',\n",
       " 'penting dan sebarkan negeriku yang sudah sakit  kala oknum aparat jadi keparat  yang benar disalahkan dan yang salah dibenarkan',\n",
       " 'bus harapan jaya jauh lebih nyaman dibandingkan yang lainnya',\n",
       " 'tinggalkanlah kalau kamu memang sudah bosan sama pacar mu dan pacaran tidak ada gunanya buat kamu ',\n",
       " 'masih percaya sama omongannya  dia yang menutup rapat rapat kebobrokan sifatnya  dia juga yang membuka tabir aibnya ',\n",
       " 'kafe ini  punya beberapa cemilan yang top banget  tahu di lumboenk sama vulkano risols namanya  sensasi unik dari tampilan sama rasanya bikin mau lagi mau lagi  bagi yang penasaran boleh dicoba deh ',\n",
       " '2018 kpk bertekad menuntaskan kasus e ktp dan blbi ',\n",
       " 'cuma penerbangan di indonesia yang tidak pernah ngehargai waktu  sudah bayar mahal tetap pelayanannya mengecewakan',\n",
       " 'untuk layanan bank di akhir pekan yang berlokasi di bekasi  bapak dapat datang ke kantor cab bank mandiri bekasi juanda ',\n",
       " 'sedih banget melihat laut yang sekarang kotor dijadikan tempat buang sampah sembarangan',\n",
       " 'salah satu tempat makan dan tempat nongkrong yang direkomendasikan teman yang oke sekali  tempatnya memang lumayan naik kalau dari kota  dan agak masuk masuk sampai tidak terlihat kalau dari jalan utama  tapi makanannya enak  tempatnya asik  harganya juga standar  masih sepadan dengan harga lah  bolehlah kalau ke malang datang ke sini lagi ',\n",
       " 'on the spot sedang tayang di trans7',\n",
       " 'benar benar ayam goreng yang gurih dan membuat saya ketagihan  sambal yang pedas membuat sensasi makan lebih mantap dengan nasi hangat dan es teh manis',\n",
       " 'saya sudah registrasi tapi tidak dapat sms dari 5111 ',\n",
       " 'mumpung sedang berjalan jalan ke bandunh sekalian menyempatkan mencoba batagor yang terenak di kota kembang ini sampai tidak sadar kami memesan lebih banyak dari kapasitas makan kami berdua  bakso tahu goreng  siomay goreng dan batagor kuah  ayam kremes  dan es cendol dan kami masih harus membungkus pulang tahu yun yin pesanan kami akhirnya ',\n",
       " 'mencoba memesan shabu shabu  menu baru di gading resto  kualitas rasa cukup enak  harga terjangkau pula  rekomendasi bilamana membawa tamu atau sekadar makan malam bersama keluarga ',\n",
       " 'oke  sudah saya kirim via pesan langsung',\n",
       " 'kericuhan yang terjadi pengujung debat kedua pilgub jabar pada 14 mei 2018 yang lalu  menimbulkan silang pendapat dari para kontestan debat ',\n",
       " 'pagi ini lupa lepas helm abang gojek setelah turun dari motor gara gara mengejar bus',\n",
       " 'restoran ini selalu top  suasananya nyaman banget buat ngobrol dengan teman  saudara atau pasangan  makanannya juga enak  walaupun saya biasanya tidak makan berat  soalnya paling suka ke sini sore menjelang malam',\n",
       " 'menu yang kita pesan udang  sapi  sapo semuanya enak  sempurna dimasaknya  rasanya pas  berkualitas tinggi   tempat luas  pelayanan oke banget  semuanya ramah dan ramah sama anak anak',\n",
       " 'capek mengantre  capek mencari tempat duduk  cape duduk  buat yang tidak punya waktu lama dan sudah kelaperan  mendingan tidak ke sini  saya ke sini pas liburan lebaran makanan di ruko ruko sekitar sini juga rada mahal dan rasanya standar ',\n",
       " 'resto ini memiliki suasana yang nyaman dengan gaya kampung tradisional  lebih cocok dikunjungi saat sore hingga malam hari di suasana lebih romantis dengan cahaya temaram dari obor dan api unggun  makanan yang disajikan bervariasi mulai makanan indonesia sampai european makanan serba ada  sangat cocok untuk menhabiskan waktu bersama teman atau keluarga ',\n",
       " 'menu masakan yang disajikan lumayan bervariasi dengan rasa yang lumayan enak  jumlah pelayan dan waktu pelayanannya pun cukup baik sehingga kami puas makan siang di sana  hanya tata letak restoran yang lantainya bervariasi naik   turun sehingga harus ekstra hati hati untuk orang tua dan anak kecil  semoga bisa semakin ditingkatkan pelayanan dan variasi menunya  sukses selalu untuk boemi mitoha ',\n",
       " 'tagihan melonjak dua kali lipat gara gara promo habis tanpa pemberitahuan  tidak benar ini ',\n",
       " 'minta informasi tentang daftar harga baju yang sedang dijual',\n",
       " 'saya semakin membenci jne karena pengirimannya selalu telat',\n",
       " 'tidak seperti kebanyakan restoran dan kafe lain  konsep tempatnya dibuat unik  banyak lampu lampu  lukisan  semi antik  makanan dan minuman lumayan cukup enak  yang buat kaget pas melihat daftar menunya  harganya wuooow pas banget di kantong  dan yang pasti harga murah tidak buat rasa jadi beda  tetap enak dan berkualitas ',\n",
       " 'terletak di lantai 1 hotel yang merupakan lantai tertinggi  menyajikan pemandangan luar biasa ke arah bukit yang ditumbuhi pepohonan  segar  bersih  nyaman  luar biasa ',\n",
       " 'sebelum saya dan pasangan pulang ke jakarta  saya mampir dahulu ke restoran ini  pemandangannya keren dan makanannya pun murah meriah  rekomendasi sekali',\n",
       " 'merasa jenuh loh sama semuanya  bosen sekali melakukan rutinitas yang gitu gitu saja ',\n",
       " 'sayang kotaknya yang sampai agak penyok',\n",
       " 'pertama mencoba sudah disuguhi dengan kelalaian pelayan yang bikin kita menunggu lama aja 4 lagu marcell  terus sudah lama ya tidak jadi pesanlah  tidak peduli mau enak kayak apa kalau pelayanannya buruk terserahlah yang namanya rasa ',\n",
       " 'nasi rawonnya sangat enak  harga terjangkau  dekat universitas parahyangan  tempatnya unik dengan kayu kayu ',\n",
       " 'order soto sama iga bakar  ditambah suasana yang dingin  rasanya enak dan dilayani dengan ramah sama mbak diah  tisna  echa  sudah dua kali datang ke sini dan selalu puas dengan kualitas makanan dan pelayanan ',\n",
       " 'youtube banyak sekali manfaatnya  bisa nonton film  dengar lagu  kadang untuk belajar ',\n",
       " 'hujan di pagi hari sungguh sangat kesal  macet dan harga ojol jadi super tak terkendali bikin eneg',\n",
       " 'makanannya lumayan enak enak di udara dingin dan banyak variasinya dari mulai restoran burangrang  saung purbasari dan area foodcourtnya ',\n",
       " 'tolong carikan alamat orang ini  akan saya ajak duel secara jantan pakai samurai  dia telah menghina ibuku yang paling aku cinta dan hormati ',\n",
       " 'tempat minum kopi dekat kampus ui  vietnamese kopi  nya enak  harganya relatif sedang  cocok untuk berkontemplasi sembari mengerjakan tesis',\n",
       " 'makanannya enak  dan viewnya amazing   hanya sing menuju lawangwanginya kurang jadi tidak semua orang bisa tahu ada lawangwangi di situ kecuali orang yang lewat ',\n",
       " 'saya memulai usaha dan tidak pernah takut gagal ',\n",
       " 'tempat makan dengan nuansa doraemon  harga makanannya murah dan banyak pilihan  tempatnya tidak terlalu luas tapi nyaman  di lantai 2 di buat menyerupai kamar nobita lkp dengan meja belajar mesin waktu dan pintu ke mana saja  banyak boneka doraemon dan komik komik yang bisa dibaca saat menunggu makanan  selain itu sambil menikmati hidangan kita bisa menonton film doraemon  anak saya senang makan  lanjutan',\n",
       " 'saya ke kafe dipakar bersama keluarga  pemandangannya memang keren banget  makanannya juga enak enak  untuk bersantai menikmati sajian dan pemandangan di dipakar sangat menyenangkan  kami ke sana hari minggu  dan sangat ramai pengunjung  tapi tidak menunggu lama  kami langsung dapat meja  untuk makanan  setelah kita order tidak perlu menunggu lama  makanan sudah datang  untuk foto foto juga sangat bagus ',\n",
       " 'tidak salah lagi ini kafe modern salah satu favorit warga depok buat makan  berkumpul seriusan tempatnya nyaman soalnya ',\n",
       " 'kesal saja dengan kelakuan nyinyir terus kelompok sebelah ',\n",
       " 'saya suka makan di sini karena menu ayamnya enak dan empuk  sambal pas di lidah dan suasana restorannya juga nyaman  selain itu pelayanan juga bagus dengan harga terjangkau ',\n",
       " 'gue itu sudah capek mau marah marah  biar gue sendiri aja deh yang ambil lagi paketnya dan gue kirim via ekspedisi lain saja  kecewa berat entah keberapa kalinya ',\n",
       " 'reunion house ini direkomendasikan banget buat makan siang di bandung  tempatnya nyaman  asyik buat santai mengobrol bareng siapa saja  menunya juga oke banget ',\n",
       " 'untuk mengetahui promo promo yang sedang berlangsung di tokopedia kamu dapat mengunjungi halaman berikut ',\n",
       " 'katanya jam ini water resist  tapi dipakai berenang doang sudah mati',\n",
       " 'suasananya asri  banyak jualan makanan  tempat nongkrong dan cafenya cocok untuk berkunjung  kami sempat belanja disupermarket  harganya juga tidak mahal  suasana di dalam mallnya nyaman  acnya dinginlah  dan barang barang brandednya mantap sekali dan banyak diskon',\n",
       " 'pemikiran sempit tapi sok benar kesal banget aku',\n",
       " 'yang foto sama orang itu bukan adik bang doni  jijik ah foto sama orang itu ',\n",
       " 'sebuah musibah baru saja menimpa kampung adat di bajawa  flores  kebakaran hebat yang terjadi pada senin 13   8 sore hampir menghanguskan seluruh kampung  total 27 dari 33 rumah adat yang ada habis dilalap api bersama semua cerita dan sejarahnya ',\n",
       " 'ke sini waktu acara kantor  ada live musik  menu beragam  cocok kalau pergi ramai ramai tapi seleranya beda beda  ramennya enak ',\n",
       " 'saya bersama keluarga makan malam di tempat ini karena selain menu utama batagor terdapat menu lain  saya hanya memesan 2 menu yang akhirnya datang setelah 45 menit  itu pun setelah beberapa kali saya tanyakan  dari segi rasa beberapa menu yang sebelumnya pernah saya coba lumayan enak  saran sebelum memesan lebih baik tanyakan berapa lama pembuatan menu yang dipesan',\n",
       " 'paket sudah diterima  sedikit kecewa karena order warna hitam dikirim warna kuning ',\n",
       " 'saya dari bali  kebetulan sedang liburan ke kota bandung  ketika sedang di dekat kantor gubernur jawa barat alias dekat gedung sate  kami di suggest makan di bancakan karena dekat  setelah masuk kami pun diberi piring dari kaleng yang sudah tidak bagus lagi  sepertinya berkarat  akhirnya kami memilih makanan yang kami suka  dan ratusan lalat beterbangan ke mana mana karena sudah terlanjur kami pun tetap makan  sangat jijik',\n",
       " 'nonton sinetron saja mulai bosan apalagi menonton isu bohong yang diramalkan ',\n",
       " 'saya beli berbagai macam roti  pilihannya banyak tapi rasanya biasa saja  rotinya kering seperti sudah berhari hari  tidak segar  pelayanannya juga lama  mengecewakan ',\n",
       " 'jangan lupa minum air mineral 8    10 gelas per harinya ',\n",
       " 'tempatnya yang indah di dekat atas bukit  bisa lihat pemandangan kota dari atas ',\n",
       " 'naik grab  abangnya cerita yang kemarin kena lemparan batu di jalan juanda saat lebaran ternyata anak temannya',\n",
       " 'sekelompok mahasiswa yang bodoh  syukur deh gue bukan mahasiswa daerah situ  malu woy ',\n",
       " 'restonya bagus dan besar  waktu ke sini saat makan siang dan hari minggu ramai sekali pengunjung  makanannya enak enak  gurame goreng dan sambalnya mantap ',\n",
       " 'saya termasuk salah satu orang yang cukup setia dengan kampung daun dari awal buka di tahun 2003 kalau tidak salah  kualitas makanan awalnya oke  tapi semenjak makin ramai dan makin ke sini  makanan yang disajikan tidak seperti biasanya dan terkadang pelayan terkesan cuek sekali  kita mesan beberapa jenis makanan tapi yang datang sudah dengan kondisi dingin dan tidak menarik  tempat menarik ',\n",
       " 'belanja di giant diskon 20  dengan kartu kredit bca ',\n",
       " 'kang  jalan di muara bulian baru  baru sebulanan dibenarkan  sudah rusak lagi  yang mengerjakan seperti tidak serius',\n",
       " 'memang enggak enak terjebak macet  tapi lebih tidak enak lagi kalau terjebak masa lalu',\n",
       " 'sumpah  menyesal sekali bikin orderan via aplikasi ini  bisa bisanya e   ticket tidak issued  dan proses konfirmnya lama  sebelumnya pernah mengalami hal yang hampir sama di aplikasi sebelah  tetapi pelayanannya cepat sekali langsung kasih solusi  tidak harus sampai telpon layanan pelanggan 4 kali ',\n",
       " 'sudah saya kirim pesan langsungnya  tolong segera dicek',\n",
       " 'saya melakukan 5 transaksi pada tanggal 22 juni  smuanya decline nyatanya terdebit dari rekening hampir 7 juta  dari 5 transaksi baru 3 transaksi yang dikembalikan ',\n",
       " 'mayoritas pengguna hak pilih di pemilihan gubernur telah menentukan pilihan ',\n",
       " 'sudah menunggu jne ternyata dia datangnya besok  ingin aku marah',\n",
       " 'spotify ribet  pakai ada administrasi bulanan segala',\n",
       " 'mau makan oreo aja ribet banget sih  mesti diputer   dijilat   dicelupkan',\n",
       " 'maaf  bukan nomer saya saja yang begitu  saya tanya semua yang pakai di daerah situ  mengatakan hal yang sama  masih tidak mau ngaku juga kalau memang sinyalnya yang jelek',\n",
       " 'jangkauan siarnya tolong diperluas  karena banyak daerah yang belum bisa menikmati siaran net  terima kasih ',\n",
       " 'kok bisa dibiarkan bangunan di atas sungai  di jalan dari rumah sakit menuju pasar ciroyom  aneh ',\n",
       " 'dengar dari mulut ke mulut tentang restoran ini  saking penasaran  saya coba untuk berkunjung  tapi sayang  kalau menurut saya  tidak seperti apa yang banyak diceritakan orang  rasanya biasa biasanya saja  tidak sesuai saja dengan harganya  seperti masakan yang baru belajar ',\n",
       " 'iphone ini  kamera gelapnya wassalam jelek banget tidak bisa diandalkan banget kalau malas bawa kamera ',\n",
       " 'kalau tidak punya uang buat beli komik tapi juga ingin nongkrong  datang saja ke sini  koleksi komiknya lengkap  makanan minumannya sebenrnya hanya fasilitas tambahan  tapi cukup lumayan  harganya juga murah khas mahasiswa ',\n",
       " 'aduh pak kok seolah olah memanas   manasi kubu sebelah sih  jangan dong pak  itu nanti mereka tambah cemburu  iri  dengki  nyinyir  ngambek kayak anak kecil  marah marah tidak jelas juntrungannya dan makin busuk saja otak dan hatinya ',\n",
       " 'rekomendasi bangetlah  cappuccinonya ketagihan  harga miring  dan valet parkir bayar seikhlasnya  datang pas menjelang maghrib pasti lebih seru suasananya ',\n",
       " 'oke bos  walau handphone tiba tiba ngehank sendiri selama sehari',\n",
       " 'tempat makan dengan suasana alam ini paling tepat untuk acara dengan pasangan atau dengan keluarga  makanannya enak dan harga juga cukup terjangkau',\n",
       " 'yakin itu ikhlas  tulus  bukannya itu hanya pencitraan saja ya ',\n",
       " 'saya mengikuuti lomba blog cinta rupiah bank indoneisa   net media dan sudah men   submit artikle pada 22 desember 2017 lalu  tapi sampai sekarang status artikel saya masih unpublished  mohon penjelasannya ',\n",
       " 'kafe ini menyediakan makanan tradisional bergaya kafe anak muda  selain tempat yang nyaman  harga terbilang murah dan terjangkau',\n",
       " 'stasiun tv payah  tidak konsisten  mengecewakan pendukung persib   persiba  tidak berprikemanusiaan  payah  dan cupu ',\n",
       " 'tempatnya nyaman dan berkesan adem  satenya juga enak dan ada menu lainnya lagi di tempat ini  tidak hanya sate',\n",
       " 'pemandangannya bagus untuk foto foto  udaranya sejuk  makanannya rasanya enak  harga juga terjangkau  mantap ',\n",
       " 'adikku sangat suka brownis primarasa',\n",
       " 'banyak baju dan celana yang dijual di matahari mal',\n",
       " 'minimal internet saya putus tiba tiba  1 rumah pakai simpati semua begitu juga tidak bisa connect internet',\n",
       " 'kaskus memang sering memberikan informasi yang menarik dan terbaru',\n",
       " 'saya paling tidak suka itu  kalau mendekati pemilu  suasananya selalu memanas ',\n",
       " 'agak menyesal dengan keputusan masuk jurusan film  ingin masuk seni rupa sebenarnya  tapi ragu dengan bakat yang dimiliki ',\n",
       " 'rasa bumbu nasi gorengnya tidak seenak dulu lagi  terkesan hambar dan lebih asin  perlu ada pengontrol kualitas rasa agar kualitas tetap terjaga ',\n",
       " 'sesuai rekomendasi  saya mencoba mie goreng special dan rasanya menurut saya sangat biasa saja dan kurang cocok di lidah',\n",
       " 'baksonya enak buat di makan  tempat bersih penyajian makanan bakso yang menurut saya beda  enak banget deh',\n",
       " 'pelakunya jangan diserahkan sama pak polisi  kubur hidup hidup saja ',\n",
       " 'sangat mengecewakan  saya pesan tiket dan sudah saya bayar  padahal waktu itu belum kadaluarsa pas saya transfer  tapi sampai sekarang belum dikasih kode bookingnya  malah dikasih notifikasi sudah kadaluarsa  lalu uangnya larinya ke mana  pas saya hubungi lewat email hanya ditanggapi sekali saja ',\n",
       " 'loh parahnya jne  saya nelepon tidak diangkat  tweet tidak dibalas  email tidak dibalas  pesan tidak dibalas ',\n",
       " 'kecewa rasanya dengan pelayanan yang diberikan hotel bintang empat ini  saat saya menginap di hotel itu  saya mendapat perlakuan kurang mengenakkan dari pelayan yang ada  ditambah lagi dengan kamar mandi yang tidak ada tisunya  padahal harganya lumayan mahal  tapi tidak sesuai dengan pelayanan yang diberikan ',\n",
       " 'dari semalam kok tidak bisa dipakai  layanan indosat kok kayak gini  daftar extra 2 gb 10 ribu tidak bisa bisa  sia sia pulsa saya malah habis tidak dipakai apa apa ',\n",
       " 'tempatnya lumayan asik  parkiran di susun rapi  perpaduan yang aneh tapi enak  steak ditemani mi tak tak super pedas  hm ',\n",
       " 'kayaknya pagi ini macet banget ya  sudah tur di bus lebih dari sejam  tetapi tidak sampai sampai juga ',\n",
       " 'saya kesal sejak februari ditelpon tiap hari di telpon dari mnc tv  saya tidak pernah langganan  saya puluhan kali klarifikasi ',\n",
       " 'sok tahu banget sih lu mat  tidak usah sok sokan beri ceramah segala  ceramah kamu sesat ',\n",
       " 'bakso dengan ceker atau kaki ayam merupakan sensasi yang menakjubkan  enak banget deh pokoknya selain bakso masih banyak menu yang lain  pokoknya direkomendasikan banget deh',\n",
       " 'xiaomi  samsung  tergantung sih kamu mau tipe apa dan sesuai biaya yang kamu punya  tanya tanya aja ke tempat yang jual hpnya',\n",
       " 'tempat parkir terlalu sempit  sampai mobil harus dititipkan ke lahan parkir yang ada di sebrang hotel ',\n",
       " 'karena skate park ini dikelilingi tempat berkumpul yang asik  saya merasa tidak akan pernah merasa bosan ',\n",
       " 'saya sudah lapor ke email mandiricare co id',\n",
       " 'saya sudah punya kode akses dan pin ',\n",
       " 'asli dah indihome parah banget dah sekarang  apa gunanya bayar mahal mahal gila emosi nih benar benar',\n",
       " 'kami sekeluarga menyempatkan diri mencoba makan di tempat makannya ini seperti sarang yang semua kaca kacanya ditutupi oleh ranting ranting yang merambat  eksotik  unik  keren banget dan makanannya pun enak ',\n",
       " 'saya cemburu tapi tidak bisa apa apa',\n",
       " 'harga tidak terlalu mahal  rasanya juga enak  banyak pilihan makanan khas banjar lainnya  ',\n",
       " 'segel rapi walau kotak sedikit penyok',\n",
       " 'supir gocar datang dari luar kota ke jakarta untuk mencari penumpang demi dapatkan poin ',\n",
       " 'di sini bisa petik stroberi sendiri dan langsung dibayar kalau lagi besar besar buahnya lumayan juga manis stroberinya dan ada kuliner juga bisa makan yang lain di sini',\n",
       " 'baru saja tadi sampai barangnya  bagus kok',\n",
       " 'bosan banget melihat sampah di ruas jalan kota palangkaraya',\n",
       " 'lokasi restoran di kemang  mahal dan tidak enak  jangan ke situ deh ',\n",
       " 'rasa nikmat dipadu dengan sambelnya  daging empuk  harga sesuai dengan yang disajikan  lokasi mudah ditemukan  sip pokoknya ',\n",
       " 'bubur ahong ini enak dimakan saat makan malam  banyak menu lainnya yang dapat dinikmati selain bubur  rumah makan ini ramai dikunjungi dan cukup luas  buburnya juga enak ',\n",
       " 'saya ke sini sama pacar  tempatnya cukup luas dan ada area indoor sama di luarnya  saya duduk di tempat indoor yang ada pemandangan ke arah luar  jadi ada jendela kaca  untuk makanan saya cukup puas  dari sisi harga memang sebanding dengan apa yang ditawarkan',\n",
       " 'memilih gubernur atau tidak adalah pilihan setiap orang ',\n",
       " 'rasa sudah berubah tidak seperti dulu  terkesan hambar  harus di tingkatkan cita rasanya  untuk menu minuman sangat minim hanya ada soft drink',\n",
       " 'meskipun sekarang harganya sudah melonjak naik tapi percayalah kalau pesan nasi padang bungkus di singgalang jaya porsinya badai abiiis  sampai sekarang tempat ini masih menjadi salah satu tempat menikmati masakan padang favorit saya ',\n",
       " 'bebeknya enak  lembut  sambelnya enak  tempat bersih dan lumayan oke ',\n",
       " 'terletak di festival city link mal  resto ini menyajikan makanan cina makanan a la carte dan dimsum  rasa makanan cukup oke  tempat cukup luas juga dan banyak keluarga bersantap di sini  favorit kami udang mayonaise ',\n",
       " 'makanan di rumah sakit selalu tidak enak',\n",
       " 'kalau ke sini wajib banget beli terong gorengnya  tempatnya juga enak ada yang lesehan  hindari jam makan siang kalau mau ke sini karena penuh banget',\n",
       " 'letaknya cukup nyaman  ada di jalan sudirman yang dekat dengan pilihan tempat belanja  dari resto pun cukup dekat ke tempat tersebut  makanannya enak  pilihannya banyak jadi tidak terlalu membosankan  tempatnya juga nyaman',\n",
       " 'resto ini punya menu yang beragam tetapi kebanyakan menu china dan halal  mi ayam jamur dan nasi hainannya sedap dan direkomendasikan  bebeknya juga enak  resto ini sekarang punya cabang di istana plaza ',\n",
       " 'mampir ke bandung  mencari ramen  yang katanya lagi kekinian  harganya setimpal sesuai dengan rasanya  kalau ke bandung lagi pasti mampir lagi ',\n",
       " 'kalau ada yang salah dengan tingkah laku aku boleh kok bicara langsung ke aku  jangan bicara di belakang  tidak asik kayak begitu  pengecut ',\n",
       " 'mohon konfirmasi untuk pengiriman ke alamat penerima akan dilakukan hari ini atau esok hari kak terima kasih',\n",
       " 'tempat parkirnya kurang luas  dan menyebalkan banget kalau pada saat kita makan kemudian disuruh untuk memindahkan mobil karena ada orang lain yang selesai makan dan akan keluar kendaraannya  itu sangat mengganggu ',\n",
       " 'ya gitu sih  kesadaran akan tanggung jawab mahasiswa sekarang itu kurang sekali  kebanyakan tidak bertanggung jawab dengan apa yang sudah jadi tugasnya ',\n",
       " 'nasi uduk ini ada di jalan rajiman dan bukanya dari sore sampai malam  menunya sih cukup sederhana  hanya nasi uduk dan berbagai pelengkapnya  biasanya saya makan nasi uduk sama ayam goreng dan sambal  sambalnya tidak terlalu pedas ',\n",
       " 'anw indomie pertama di 2018 ku semalam ternyata nikmat',\n",
       " 'minimal kartu internet saya tidak dapat digunakan padahal kuota lokal masih  saya berada di lokasi aktivasi dan kartu juga sudah registrasi',\n",
       " 'hypermart sedang memberikan diskon 20  untuk produk segar setiap hari senin   kamis dengan mandiri kartu hypermart',\n",
       " 'mau marah saja aku sama indosat',\n",
       " 'sambil menunggu waktu pergantian tahun kita coba ke sini  kita berdua pesan beberapa sushi  minumannya milktea sama eskrim vanilla dengan batok kelapa  untuk sushinya lumayan tapi kebanyakan nasinya sepertinya  tetapi rasanya enak  harganya terjangkau ',\n",
       " 'mana laporan aku tidak diproses proses  ragu duit aku akan dikembalikan  padahal pulsa dan kuota aku hilang ',\n",
       " 'kami sangat kecewa dengan pelayanan karyawan lion di gate a6 bandar udara cengkareng  saya dibohongi  barang rusak dan kotor tiba tujuan ',\n",
       " 'yang paling mengecewakan adalah ketika pemimpin tak bisa bedakan dan tak mau tahu mana negarawan dan mana politisi kotor',\n",
       " 'bubur ayam yang lumayan rekomendasi di sekitaran bandung  tempatnya strategis mudah dicari  harganya tidak merogoh kantong  tempatnya selalu ramai didatangi pengunjung setiap hari kerja maupun akhir pekan karena rasanya yang enak ',\n",
       " 'mengunjungi tempat ini untuk istirahat setelah cape macet di perjalanan  makanan oke  tapi kue kuenya mantap  jadi terbayarkan ',\n",
       " 'lalu saya percuma dong update nomor telepon genggam terbaru ke pelayanan pelanggan cab bni kalau data di bni masih nomor handphone lama  bagaimana sih pelayanannya ',\n",
       " 'saya sudah sering kali datang menikmati makanan di roemah nenek  saya suka dengan suasananya yang nyaman untuk makan bersama keluarga  di hari hari tertentu ada hiburan live musik  makanannya pun punya pilihan yang beragam dari yang tradisional  asia  sampai makanan barat',\n",
       " 'banyak orang yang kurang suka untuk berobat ke dokter  selain biaya yang relatif cukup mahal bagi sebagian orang  ke dokter tak selamanya bisa menyembuhkan  banyak dokter yang salah diagnosa  pentingkah ataukah sudah lumrah  toh dokter juga manusia ',\n",
       " 'pelayanan baik  tempat parkir cukup luas  kebun stroberi luas dan banyak stroberi yang sudah cukup merah untuk dipetik  makanan direstoran sangat beragam  rasanya enak  sambal stroberinya unik dan enak  nasi liwet stroberi harus dicoba  sejauh ini semua menu yang saya makan tidak ada yang mengecewakan sangat rekomendasi untuk wisata keluarga',\n",
       " 'demi apa pun tes cpns bikin macet  sialannnnnnn',\n",
       " 'menunggu makanannya lama banget  waitressnya galak  pas makanannya saat itu saya pesan pizza datang eh gosong sampai kasirnya pun pas saya bayar tidak senyum  pelayanannya payah ']"
      ]
     },
     "execution_count": 21,
     "metadata": {},
     "output_type": "execute_result"
    }
   ],
   "source": [
    "data_preprocessed"
   ]
  },
  {
   "cell_type": "code",
   "execution_count": 22,
   "metadata": {
    "colab": {
     "base_uri": "https://localhost:8080/"
    },
    "executionInfo": {
     "elapsed": 2219,
     "status": "ok",
     "timestamp": 1686576794961,
     "user": {
      "displayName": "Mochammad Revaldi Anggara",
      "userId": "16163102586825999806"
     },
     "user_tz": -420
    },
    "id": "1ymv7zL_y4Jv",
    "outputId": "024d2e35-1194-4bcb-d19a-fc706beb3872",
    "tags": []
   },
   "outputs": [
    {
     "name": "stdout",
     "output_type": "stream",
     "text": [
      "Feature Extraction selesai\n"
     ]
    }
   ],
   "source": [
    "# Untuk melakukan Feature Extraction, kita menggunakan library \"Sklearn atau scikit-learn\".\n",
    "# Sklearn adalah library untuk melakukan task-task Machine Learning.\n",
    "# \"CountVectorizer\" merupakan salah satu modul untuk melakukan \"BoW\"\n",
    "\n",
    "from sklearn.feature_extraction.text import CountVectorizer\n",
    "\n",
    "# Kita proses Feature Extraction\n",
    "count_vect = CountVectorizer()\n",
    "count_vect.fit(data_preprocessed)\n",
    "\n",
    "X = count_vect.transform(data_preprocessed)\n",
    "print (\"Feature Extraction selesai\")"
   ]
  },
  {
   "cell_type": "code",
   "execution_count": 23,
   "metadata": {
    "executionInfo": {
     "elapsed": 348,
     "status": "ok",
     "timestamp": 1686576846814,
     "user": {
      "displayName": "Mochammad Revaldi Anggara",
      "userId": "16163102586825999806"
     },
     "user_tz": -420
    },
    "id": "V9nTsVxPzxwW",
    "tags": []
   },
   "outputs": [],
   "source": [
    "import pickle\n",
    "\n",
    "pickle.dump(count_vect, open(\"feature.p\", \"wb\"))"
   ]
  },
  {
   "cell_type": "markdown",
   "metadata": {
    "id": "8RTxI8g08XMg"
   },
   "source": [
    "# **Prepare train & test datasets/Splitting Dataset**"
   ]
  },
  {
   "cell_type": "markdown",
   "metadata": {
    "id": "mqRRjYf9XUF7"
   },
   "source": [
    "Split dataset menjadi 80% untuk train dan 20% untuk test."
   ]
  },
  {
   "cell_type": "code",
   "execution_count": 24,
   "metadata": {
    "colab": {
     "base_uri": "https://localhost:8080/",
     "height": 424
    },
    "executionInfo": {
     "elapsed": 400,
     "status": "ok",
     "timestamp": 1686576885334,
     "user": {
      "displayName": "Mochammad Revaldi Anggara",
      "userId": "16163102586825999806"
     },
     "user_tz": -420
    },
    "id": "s7ptjaHP0N_J",
    "outputId": "349f7ed7-ac02-460f-adb6-e4cbdbc7e877",
    "tags": []
   },
   "outputs": [
    {
     "data": {
      "text/html": [
       "<div>\n",
       "<style scoped>\n",
       "    .dataframe tbody tr th:only-of-type {\n",
       "        vertical-align: middle;\n",
       "    }\n",
       "\n",
       "    .dataframe tbody tr th {\n",
       "        vertical-align: top;\n",
       "    }\n",
       "\n",
       "    .dataframe thead th {\n",
       "        text-align: right;\n",
       "    }\n",
       "</style>\n",
       "<table border=\"1\" class=\"dataframe\">\n",
       "  <thead>\n",
       "    <tr style=\"text-align: right;\">\n",
       "      <th></th>\n",
       "      <th>id</th>\n",
       "      <th>text</th>\n",
       "      <th>label</th>\n",
       "      <th>text_clean</th>\n",
       "    </tr>\n",
       "  </thead>\n",
       "  <tbody>\n",
       "    <tr>\n",
       "      <th>0</th>\n",
       "      <td>219</td>\n",
       "      <td>Nikmati cicilan 0% hingga 12 bulan untuk pemes...</td>\n",
       "      <td>neutral</td>\n",
       "      <td>nikmati cicilan 0  hingga 12 bulan untuk pemes...</td>\n",
       "    </tr>\n",
       "    <tr>\n",
       "      <th>1</th>\n",
       "      <td>209</td>\n",
       "      <td>Kue-kue yang disajikan bikin saya bernostalgia...</td>\n",
       "      <td>positive</td>\n",
       "      <td>kue kue yang disajikan bikin saya bernostalgia...</td>\n",
       "    </tr>\n",
       "    <tr>\n",
       "      <th>2</th>\n",
       "      <td>436</td>\n",
       "      <td>Ibu pernah bekerja di grab indonesia</td>\n",
       "      <td>neutral</td>\n",
       "      <td>ibu pernah bekerja di grab indonesia</td>\n",
       "    </tr>\n",
       "    <tr>\n",
       "      <th>3</th>\n",
       "      <td>394</td>\n",
       "      <td>Paling suka banget makan siang di sini ayam sa...</td>\n",
       "      <td>positive</td>\n",
       "      <td>paling suka banget makan siang di sini ayam sa...</td>\n",
       "    </tr>\n",
       "    <tr>\n",
       "      <th>4</th>\n",
       "      <td>592</td>\n",
       "      <td>Pelayanan bus DAMRI sangat baik</td>\n",
       "      <td>positive</td>\n",
       "      <td>pelayanan bus damri sangat baik</td>\n",
       "    </tr>\n",
       "    <tr>\n",
       "      <th>...</th>\n",
       "      <td>...</td>\n",
       "      <td>...</td>\n",
       "      <td>...</td>\n",
       "      <td>...</td>\n",
       "    </tr>\n",
       "    <tr>\n",
       "      <th>995</th>\n",
       "      <td>502</td>\n",
       "      <td>Saya sudah sering kali datang menikmati makana...</td>\n",
       "      <td>positive</td>\n",
       "      <td>saya sudah sering kali datang menikmati makana...</td>\n",
       "    </tr>\n",
       "    <tr>\n",
       "      <th>996</th>\n",
       "      <td>268</td>\n",
       "      <td>Banyak orang yang kurang suka untuk berobat ke...</td>\n",
       "      <td>negative</td>\n",
       "      <td>banyak orang yang kurang suka untuk berobat ke...</td>\n",
       "    </tr>\n",
       "    <tr>\n",
       "      <th>997</th>\n",
       "      <td>282</td>\n",
       "      <td>Pelayanan baik, tempat parkir cukup luas, kebu...</td>\n",
       "      <td>positive</td>\n",
       "      <td>pelayanan baik  tempat parkir cukup luas  kebu...</td>\n",
       "    </tr>\n",
       "    <tr>\n",
       "      <th>998</th>\n",
       "      <td>407</td>\n",
       "      <td>Demi apa pun tes cpns bikin macet, sialannnnnnn</td>\n",
       "      <td>negative</td>\n",
       "      <td>demi apa pun tes cpns bikin macet  sialannnnnnn</td>\n",
       "    </tr>\n",
       "    <tr>\n",
       "      <th>999</th>\n",
       "      <td>768</td>\n",
       "      <td>Menunggu makanannya lama banget, waitressnya g...</td>\n",
       "      <td>negative</td>\n",
       "      <td>menunggu makanannya lama banget  waitressnya g...</td>\n",
       "    </tr>\n",
       "  </tbody>\n",
       "</table>\n",
       "<p>1000 rows × 4 columns</p>\n",
       "</div>"
      ],
      "text/plain": [
       "      id                                               text     label  \\\n",
       "0    219  Nikmati cicilan 0% hingga 12 bulan untuk pemes...   neutral   \n",
       "1    209  Kue-kue yang disajikan bikin saya bernostalgia...  positive   \n",
       "2    436               Ibu pernah bekerja di grab indonesia   neutral   \n",
       "3    394  Paling suka banget makan siang di sini ayam sa...  positive   \n",
       "4    592                    Pelayanan bus DAMRI sangat baik  positive   \n",
       "..   ...                                                ...       ...   \n",
       "995  502  Saya sudah sering kali datang menikmati makana...  positive   \n",
       "996  268  Banyak orang yang kurang suka untuk berobat ke...  negative   \n",
       "997  282  Pelayanan baik, tempat parkir cukup luas, kebu...  positive   \n",
       "998  407    Demi apa pun tes cpns bikin macet, sialannnnnnn  negative   \n",
       "999  768  Menunggu makanannya lama banget, waitressnya g...  negative   \n",
       "\n",
       "                                            text_clean  \n",
       "0    nikmati cicilan 0  hingga 12 bulan untuk pemes...  \n",
       "1    kue kue yang disajikan bikin saya bernostalgia...  \n",
       "2                 ibu pernah bekerja di grab indonesia  \n",
       "3    paling suka banget makan siang di sini ayam sa...  \n",
       "4                      pelayanan bus damri sangat baik  \n",
       "..                                                 ...  \n",
       "995  saya sudah sering kali datang menikmati makana...  \n",
       "996  banyak orang yang kurang suka untuk berobat ke...  \n",
       "997  pelayanan baik  tempat parkir cukup luas  kebu...  \n",
       "998    demi apa pun tes cpns bikin macet  sialannnnnnn  \n",
       "999  menunggu makanannya lama banget  waitressnya g...  \n",
       "\n",
       "[1000 rows x 4 columns]"
      ]
     },
     "execution_count": 24,
     "metadata": {},
     "output_type": "execute_result"
    }
   ],
   "source": [
    "df"
   ]
  },
  {
   "cell_type": "code",
   "execution_count": 25,
   "metadata": {
    "executionInfo": {
     "elapsed": 353,
     "status": "ok",
     "timestamp": 1686576875325,
     "user": {
      "displayName": "Mochammad Revaldi Anggara",
      "userId": "16163102586825999806"
     },
     "user_tz": -420
    },
    "id": "o4lilnt894LD",
    "tags": []
   },
   "outputs": [],
   "source": [
    "from sklearn.model_selection import train_test_split\n",
    "\n",
    "classes = df.label"
   ]
  },
  {
   "cell_type": "code",
   "execution_count": 26,
   "metadata": {
    "colab": {
     "base_uri": "https://localhost:8080/"
    },
    "executionInfo": {
     "elapsed": 364,
     "status": "ok",
     "timestamp": 1686576900805,
     "user": {
      "displayName": "Mochammad Revaldi Anggara",
      "userId": "16163102586825999806"
     },
     "user_tz": -420
    },
    "id": "6XN4ZtpQ-NOC",
    "outputId": "8c5fdcd6-0ffe-4717-b90f-2fa9e4f3e29b",
    "tags": []
   },
   "outputs": [
    {
     "data": {
      "text/plain": [
       "0       neutral\n",
       "1      positive\n",
       "2       neutral\n",
       "3      positive\n",
       "4      positive\n",
       "         ...   \n",
       "995    positive\n",
       "996    negative\n",
       "997    positive\n",
       "998    negative\n",
       "999    negative\n",
       "Name: label, Length: 1000, dtype: object"
      ]
     },
     "execution_count": 26,
     "metadata": {},
     "output_type": "execute_result"
    }
   ],
   "source": [
    "classes"
   ]
  },
  {
   "cell_type": "code",
   "execution_count": 27,
   "metadata": {
    "executionInfo": {
     "elapsed": 2,
     "status": "ok",
     "timestamp": 1686576912890,
     "user": {
      "displayName": "Mochammad Revaldi Anggara",
      "userId": "16163102586825999806"
     },
     "user_tz": -420
    },
    "id": "fxFXbAmA-QIT",
    "tags": []
   },
   "outputs": [],
   "source": [
    "X_train, X_test, y_train, y_test = train_test_split(X, classes, test_size = 0.2)"
   ]
  },
  {
   "cell_type": "markdown",
   "metadata": {
    "id": "VSh22be77Wjj"
   },
   "source": [
    "# Training (Naive Bayes)"
   ]
  },
  {
   "cell_type": "markdown",
   "metadata": {
    "id": "J2Z6dAMkXme_"
   },
   "source": [
    "Jalankan training dengan metode Naive Bayes. \"MultinomialNB\" merupakan salah satu modul dari \"Naive Bayes\" pada library Sklearn."
   ]
  },
  {
   "cell_type": "code",
   "execution_count": 28,
   "metadata": {
    "colab": {
     "base_uri": "https://localhost:8080/"
    },
    "executionInfo": {
     "elapsed": 571,
     "status": "ok",
     "timestamp": 1686577033014,
     "user": {
      "displayName": "Mochammad Revaldi Anggara",
      "userId": "16163102586825999806"
     },
     "user_tz": -420
    },
    "id": "zL-0QZCH-cV9",
    "outputId": "4668af7d-1dab-4088-bbbf-622c396bd6a6",
    "tags": []
   },
   "outputs": [
    {
     "name": "stdout",
     "output_type": "stream",
     "text": [
      "Training selesai\n"
     ]
    }
   ],
   "source": [
    "from sklearn.naive_bayes import MultinomialNB\n",
    "model = MultinomialNB()\n",
    "model.fit(X_train, y_train)\n",
    "\n",
    "print (\"Training selesai\")"
   ]
  },
  {
   "cell_type": "code",
   "execution_count": 29,
   "metadata": {
    "executionInfo": {
     "elapsed": 411,
     "status": "ok",
     "timestamp": 1686577063576,
     "user": {
      "displayName": "Mochammad Revaldi Anggara",
      "userId": "16163102586825999806"
     },
     "user_tz": -420
    },
    "id": "haoZ2QNS_wz1",
    "tags": []
   },
   "outputs": [],
   "source": [
    "pickle.dump(model, open(\"model.p\", \"wb\"))"
   ]
  },
  {
   "cell_type": "markdown",
   "metadata": {
    "id": "PEBOX3Hg_4-i"
   },
   "source": [
    "# **Evaluation**"
   ]
  },
  {
   "cell_type": "markdown",
   "metadata": {
    "id": "6Msub2f6bswl"
   },
   "source": [
    "Langkah selanjutnya adalah \"Evaluation\". Module \"classification_report\" dari Sklearn merupakan salah satu modul untuk melakukan \"Evaluation\". Pada tahap evaluasi ini kita akan menerapkan metode evaluasi Accuracy, Precision, Recall dan F1-Score."
   ]
  },
  {
   "cell_type": "code",
   "execution_count": 30,
   "metadata": {
    "colab": {
     "base_uri": "https://localhost:8080/"
    },
    "executionInfo": {
     "elapsed": 360,
     "status": "ok",
     "timestamp": 1686577150165,
     "user": {
      "displayName": "Mochammad Revaldi Anggara",
      "userId": "16163102586825999806"
     },
     "user_tz": -420
    },
    "id": "tKVjTALyAZkU",
    "outputId": "24f49150-4938-4597-d124-fa7f16383c08",
    "tags": []
   },
   "outputs": [
    {
     "name": "stdout",
     "output_type": "stream",
     "text": [
      "Testing selesai\n",
      "              precision    recall  f1-score   support\n",
      "\n",
      "    negative       0.84      0.76      0.79        74\n",
      "     neutral       0.85      0.71      0.77        41\n",
      "    positive       0.78      0.91      0.84        85\n",
      "\n",
      "    accuracy                           0.81       200\n",
      "   macro avg       0.82      0.79      0.80       200\n",
      "weighted avg       0.81      0.81      0.81       200\n",
      "\n"
     ]
    }
   ],
   "source": [
    "from sklearn.metrics import classification_report\n",
    "\n",
    "test = model.predict(X_test)\n",
    "\n",
    "print (\"Testing selesai\")\n",
    "\n",
    "print(classification_report(y_test, test)) "
   ]
  },
  {
   "cell_type": "markdown",
   "metadata": {
    "id": "aBNiSadLdXS-"
   },
   "source": [
    "Hasilnya nilai F1 Score ada pada angka 0.74 untuk Negative, 0.64 untuk Neutral, dan 0.83 untuk Positive. Hasil ini bisa dikatakan cukup bagus untuk sebuah model."
   ]
  },
  {
   "cell_type": "markdown",
   "metadata": {
    "id": "2KkyNf3zAnQM"
   },
   "source": [
    "## **Cross Validation**"
   ]
  },
  {
   "cell_type": "markdown",
   "metadata": {
    "id": "auq5ayT9jahC"
   },
   "source": [
    "Mekanisme evaluasi selanjutnya menggunakan \"Cross Validation\", yaitu merotasi porsi testing dari dataset agar bisa melihat model yang sudah kita buat stabil ketika dihadapkan pada data yang berbeda."
   ]
  },
  {
   "cell_type": "markdown",
   "metadata": {
    "id": "1jzAo-6HAoxm"
   },
   "source": [
    "![cross-validation.png](data:image/png;base64,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)"
   ]
  },
  {
   "cell_type": "code",
   "execution_count": 33,
   "metadata": {
    "colab": {
     "base_uri": "https://localhost:8080/"
    },
    "executionInfo": {
     "elapsed": 625,
     "status": "ok",
     "timestamp": 1686577628323,
     "user": {
      "displayName": "Mochammad Revaldi Anggara",
      "userId": "16163102586825999806"
     },
     "user_tz": -420
    },
    "id": "Jnjv96IoA0X4",
    "outputId": "93f09afa-8379-4109-afa7-ded4b42a2190",
    "tags": []
   },
   "outputs": [
    {
     "name": "stdout",
     "output_type": "stream",
     "text": [
      "Training ke- 1\n",
      "              precision    recall  f1-score   support\n",
      "\n",
      "    negative       0.74      0.72      0.73        80\n",
      "     neutral       0.91      0.59      0.71        51\n",
      "    positive       0.71      0.91      0.80        69\n",
      "\n",
      "    accuracy                           0.76       200\n",
      "   macro avg       0.79      0.74      0.75       200\n",
      "weighted avg       0.77      0.76      0.75       200\n",
      "\n",
      "======================================================\n",
      "Training ke- 2\n",
      "              precision    recall  f1-score   support\n",
      "\n",
      "    negative       0.79      0.73      0.76        71\n",
      "     neutral       0.76      0.58      0.66        45\n",
      "    positive       0.79      0.94      0.86        84\n",
      "\n",
      "    accuracy                           0.79       200\n",
      "   macro avg       0.78      0.75      0.76       200\n",
      "weighted avg       0.78      0.79      0.78       200\n",
      "\n",
      "======================================================\n",
      "Training ke- 3\n",
      "              precision    recall  f1-score   support\n",
      "\n",
      "    negative       0.79      0.74      0.76        80\n",
      "     neutral       0.83      0.56      0.67        43\n",
      "    positive       0.76      0.95      0.84        77\n",
      "\n",
      "    accuracy                           0.78       200\n",
      "   macro avg       0.79      0.75      0.76       200\n",
      "weighted avg       0.79      0.78      0.77       200\n",
      "\n",
      "======================================================\n",
      "Training ke- 4\n",
      "              precision    recall  f1-score   support\n",
      "\n",
      "    negative       0.72      0.73      0.73        75\n",
      "     neutral       0.79      0.52      0.63        44\n",
      "    positive       0.75      0.88      0.81        81\n",
      "\n",
      "    accuracy                           0.74       200\n",
      "   macro avg       0.75      0.71      0.72       200\n",
      "weighted avg       0.75      0.74      0.74       200\n",
      "\n",
      "======================================================\n",
      "Training ke- 5\n",
      "              precision    recall  f1-score   support\n",
      "\n",
      "    negative       0.77      0.74      0.75        77\n",
      "     neutral       0.94      0.54      0.68        56\n",
      "    positive       0.70      0.99      0.82        67\n",
      "\n",
      "    accuracy                           0.77       200\n",
      "   macro avg       0.80      0.75      0.75       200\n",
      "weighted avg       0.79      0.77      0.76       200\n",
      "\n",
      "======================================================\n",
      "\n",
      "\n",
      "\n",
      "Rata-rata Accuracy:  0.7660000000000001\n"
     ]
    }
   ],
   "source": [
    "# Untuk lebih menyakinkan lagi, kita juga bisa melakukan \"Cross Validation\"\n",
    "import numpy as np\n",
    "from sklearn.naive_bayes import MultinomialNB\n",
    "from sklearn.metrics import classification_report\n",
    "from sklearn.metrics import accuracy_score\n",
    "from sklearn.model_selection import KFold\n",
    "\n",
    "kf = KFold(n_splits=5,random_state=42,shuffle=True)\n",
    "\n",
    "accuracies = []\n",
    "\n",
    "y = classes\n",
    "\n",
    "for iteration, data in enumerate(kf.split(X), start=1):\n",
    "\n",
    "    data_train   = X[data[0]]\n",
    "    target_train = y[data[0]]\n",
    "\n",
    "    data_test    = X[data[1]]\n",
    "    target_test  = y[data[1]]\n",
    "\n",
    "    clf = MultinomialNB()\n",
    "    # clf = svm.SVC(gamma=0.01, C=100., probability=True)\n",
    "    clf.fit(data_train,target_train)\n",
    "\n",
    "    preds = clf.predict(data_test)\n",
    "\n",
    "    # for the current fold only    \n",
    "    accuracy = accuracy_score(target_test,preds)\n",
    "\n",
    "    print(\"Training ke-\", iteration)\n",
    "    print(classification_report(target_test,preds))\n",
    "    print(\"======================================================\")\n",
    "\n",
    "    accuracies.append(accuracy)\n",
    "\n",
    "# this is the average accuracy over all folds\n",
    "average_accuracy = np.mean(accuracies)\n",
    "\n",
    "print()\n",
    "print()\n",
    "print()\n",
    "print(\"Rata-rata Accuracy: \", average_accuracy)"
   ]
  },
  {
   "cell_type": "markdown",
   "metadata": {
    "id": "313jDVEtjv35"
   },
   "source": [
    "Hasilnya nilai rata-rata accuracy pada angka 0.76. Ini menunjukkan model kita cukup stabil pada angka 0.76."
   ]
  },
  {
   "cell_type": "markdown",
   "metadata": {
    "id": "mOSAsI5xA8CB"
   },
   "source": [
    "# Predict"
   ]
  },
  {
   "cell_type": "markdown",
   "metadata": {
    "id": "WenRtoQqkCKp"
   },
   "source": [
    "Asumsi kita sudah oke dengan model yang dibikin, selanjutnya melakukan predict pada model untuk mengetes jika model sudah jalan."
   ]
  },
  {
   "cell_type": "code",
   "execution_count": 38,
   "metadata": {
    "colab": {
     "base_uri": "https://localhost:8080/"
    },
    "executionInfo": {
     "elapsed": 364,
     "status": "ok",
     "timestamp": 1686578042008,
     "user": {
      "displayName": "Mochammad Revaldi Anggara",
      "userId": "16163102586825999806"
     },
     "user_tz": -420
    },
    "id": "hTjBppLgA33M",
    "outputId": "fcb81d63-4cbb-4533-b437-875231149b6d",
    "tags": []
   },
   "outputs": [
    {
     "name": "stdout",
     "output_type": "stream",
     "text": [
      "Sentiment:\n",
      "\n",
      "neutral\n"
     ]
    }
   ],
   "source": [
    "# Perampok baik hati\n",
    "original_text =  '''\n",
    "3hours Late Flight - and now we need to wait TWENTY MORE MINUTES for a gate! I have patience but none for incompetence.\n",
    "'''\n",
    "\n",
    "# Feature Extraction\n",
    "text = count_vect.transform([cleansing(original_text)])\n",
    "\n",
    "# Kita prediksi sentimennya\n",
    "result = model.predict(text)[0]\n",
    "print(\"Sentiment:\")\n",
    "print()\n",
    "print(result)"
   ]
  }
 ],
 "metadata": {
  "colab": {
   "provenance": []
  },
  "kernelspec": {
   "display_name": "Python 3 (ipykernel)",
   "language": "python",
   "name": "python3"
  },
  "language_info": {
   "codemirror_mode": {
    "name": "ipython",
    "version": 3
   },
   "file_extension": ".py",
   "mimetype": "text/x-python",
   "name": "python",
   "nbconvert_exporter": "python",
   "pygments_lexer": "ipython3",
   "version": "3.10.9"
  }
 },
 "nbformat": 4,
 "nbformat_minor": 4
}
